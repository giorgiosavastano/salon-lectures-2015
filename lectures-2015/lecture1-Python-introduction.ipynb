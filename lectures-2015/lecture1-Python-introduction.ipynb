{
 "metadata": {
  "name": "",
  "signature": "sha256:ca7cd71dd663a92bb150916136e32c7709d384c41da941c694a44d5b1290c194"
 },
 "nbformat": 3,
 "nbformat_minor": 0,
 "worksheets": [
  {
   "cells": [
    {
     "cell_type": "heading",
     "level": 1,
     "metadata": {},
     "source": [
      "Salon2 Lecture 1 - Sep 9, 2014"
     ]
    },
    {
     "cell_type": "heading",
     "level": 1,
     "metadata": {},
     "source": [
      "1. Introduction to the beauty and power of Python"
     ]
    },
    {
     "cell_type": "markdown",
     "metadata": {},
     "source": [
      "Experimenting with [iPython notebook](http://ipython.org/notebook.html)..."
     ]
    },
    {
     "cell_type": "code",
     "collapsed": false,
     "input": [
      "2 + 2"
     ],
     "language": "python",
     "metadata": {},
     "outputs": [
      {
       "metadata": {},
       "output_type": "pyout",
       "prompt_number": 1,
       "text": [
        "4"
       ]
      }
     ],
     "prompt_number": 1
    },
    {
     "cell_type": "code",
     "collapsed": false,
     "input": [
      "import this"
     ],
     "language": "python",
     "metadata": {},
     "outputs": [
      {
       "output_type": "stream",
       "stream": "stdout",
       "text": [
        "The Zen of Python, by Tim Peters\n",
        "\n",
        "Beautiful is better than ugly.\n",
        "Explicit is better than implicit.\n",
        "Simple is better than complex.\n",
        "Complex is better than complicated.\n",
        "Flat is better than nested.\n",
        "Sparse is better than dense.\n",
        "Readability counts.\n",
        "Special cases aren't special enough to break the rules.\n",
        "Although practicality beats purity.\n",
        "Errors should never pass silently.\n",
        "Unless explicitly silenced.\n",
        "In the face of ambiguity, refuse the temptation to guess.\n",
        "There should be one-- and preferably only one --obvious way to do it.\n",
        "Although that way may not be obvious at first unless you're Dutch.\n",
        "Now is better than never.\n",
        "Although never is often better than *right* now.\n",
        "If the implementation is hard to explain, it's a bad idea.\n",
        "If the implementation is easy to explain, it may be a good idea.\n",
        "Namespaces are one honking great idea -- let's do more of those!\n"
       ]
      }
     ],
     "prompt_number": 2
    },
    {
     "cell_type": "markdown",
     "metadata": {},
     "source": [
      "Technical characteristics of Python:\n",
      "\n",
      "* a general purpose, high-level, interpreted, object-oriented language\n",
      "* **strongly** but **dynamically** typed\n",
      "* **names**, not variables\n",
      "* **mutable** and **immutable** types\n",
      "* name-based **polymorphism** (duck typing)\n",
      "* automatic memory management\n",
      "* error management by exceptions (EAFP)\n",
      "* extensive standard library and third-party modules and packages"
     ]
    },
    {
     "cell_type": "markdown",
     "metadata": {},
     "source": [
      "Python features we will see today:\n",
      "\n",
      "* types and \"variables\"\n",
      "* loops\n",
      "* the print statement\n",
      "* lists, tuples, dictionaries\n",
      "* strings (a little)\n",
      "* list comprehensions and generator expressions\n",
      "* functions\n",
      "* import modules\n",
      "\n",
      "See\n",
      "\n",
      "* http://nbviewer.ipython.org/github/jrjohansson/scientific-python-lectures/blob/master/Lecture-1-Introduction-to-Python-Programming.ipynb\n",
      "\n",
      "and the list of tutorials at the bottom."
     ]
    },
    {
     "cell_type": "heading",
     "level": 2,
     "metadata": {},
     "source": [
      "1.1 Let's make pi.. and find the Feynman point"
     ]
    },
    {
     "cell_type": "markdown",
     "metadata": {},
     "source": [
      "> The Feynman point is a sequence of six 9s that begins at the 762nd decimal place of the decimal representation of \u03c0. It is named after physicist Richard Feynman, who once stated during a lecture he would like to memorize the digits of \u03c0 until that point, so he could recite them and quip \"nine nine nine nine nine nine and so on\" (wikipedia)"
     ]
    },
    {
     "cell_type": "heading",
     "level": 3,
     "metadata": {},
     "source": [
      "1.1.1 With the arctan series."
     ]
    },
    {
     "cell_type": "markdown",
     "metadata": {},
     "source": [
      "Leibniz\u2013Gregory 1668 series for the arctangent [@roy1990],\n",
      "\n",
      "$$\\arctan(x) = x - \\frac{x^3}{3} + \\frac{x^5}{5} - \\frac{x^7}{7} + \\cdots,$$\n",
      "\n",
      "(which follows, e.g., by starting with $\\arctan(x) = \\int dx/(1+x^2)$, using the geometric series $1/(1 + x^2) = \\sum_k x^{2k}$, and integrating) and therefore\n",
      "\n",
      "$$\\arctan(1) = \\frac{\\pi}{4} = 1 - \\frac{1}{3} + \\frac{1}{5} - \\frac{1}{7} \\cdots.$$"
     ]
    },
    {
     "cell_type": "markdown",
     "metadata": {},
     "source": [
      "As it would be in C (note the \"magic\" `%%file` that writes to a file in a sufficiently new iPython):"
     ]
    },
    {
     "cell_type": "code",
     "collapsed": false,
     "input": [
      "%%file piseries.c\n",
      "\n",
      "#include <stdio.h>\n",
      "#include <math.h>\n",
      "\n",
      "int main(int argc,char **argv) {\n",
      "    int terms = 100, n;\n",
      "    double acc = 0.0, pi;\n",
      "\n",
      "    for(n=0;n<terms;n++) {\n",
      "        /* could also do 1.0 - 2.0 * (n % 2) or (n % 2) ? -1.0 : 1.0  */\n",
      "        /* note that we need at least one float here otherwise we get integer division */\n",
      "        acc += pow(-1.0,n) / (2*n+1);\n",
      "    }\n",
      "\n",
      "    pi = 4 * acc;\n",
      "\n",
      "    printf(\"After %d terms, pi = %f\\n\",terms,pi);\n",
      "\n",
      "    return 0;\n",
      "}"
     ],
     "language": "python",
     "metadata": {},
     "outputs": [
      {
       "output_type": "stream",
       "stream": "stdout",
       "text": [
        "Overwriting piseries.c\n"
       ]
      }
     ],
     "prompt_number": 49
    },
    {
     "cell_type": "markdown",
     "metadata": {},
     "source": [
      "(Running shell commands with \"`!`\" in iPython.)"
     ]
    },
    {
     "cell_type": "code",
     "collapsed": false,
     "input": [
      "!gcc piseries.c -o piseries"
     ],
     "language": "python",
     "metadata": {},
     "outputs": [],
     "prompt_number": 50
    },
    {
     "cell_type": "code",
     "collapsed": false,
     "input": [
      "!./piseries"
     ],
     "language": "python",
     "metadata": {},
     "outputs": [
      {
       "output_type": "stream",
       "stream": "stdout",
       "text": [
        "After 100 terms, pi = 3.131593\r\n"
       ]
      }
     ],
     "prompt_number": 51
    },
    {
     "cell_type": "markdown",
     "metadata": {},
     "source": [
      "Let's take the C apart and see if we can come up with Python.\n",
      "\n",
      "* First, remove all braces; indentation is still sufficient to specify structure.\n",
      "* Next, remove also semicolons; line endings will do (backslash to continue).\n",
      "* The `int main` declaration is also superfluous, especially given that we don't take command-line arguments. Then we can indent everything back. So is the `return 0`.\n",
      "* In Python, there's no need to declare the type of variables, since it's determined at runtime.\n",
      "* The `for` line is not very expressive because it concerns us with the mechanics of the counter. We replace it with the more description Python form.\n",
      "* `pow` is just `**`, and we don't need `math.h` to use it.\n",
      "* `printf` becomes `print`, with rather similar syntax (a case where the Python designer thought it useful to rely on programmers' experience with C); it does not need `stdio.h` though, nor the final `\\n`."
     ]
    },
    {
     "cell_type": "code",
     "collapsed": false,
     "input": [
      "terms = 100\n",
      "acc = 0.0\n",
      "\n",
      "for n in range(terms):\n",
      "    acc += (-1.0)**n / (2*n+1)\n",
      "\n",
      "pi = 4 * acc\n",
      "\n",
      "print \"After %d terms, pi = %f\" % (terms,pi)"
     ],
     "language": "python",
     "metadata": {},
     "outputs": [
      {
       "output_type": "stream",
       "stream": "stdout",
       "text": [
        "After 100 terms, pi = 3.131593\n"
       ]
      }
     ],
     "prompt_number": 1
    },
    {
     "cell_type": "markdown",
     "metadata": {},
     "source": [
      "This is much terser, but it's still influenced heavily by the programming logic that we need in C. We can make it more _Pythonic_ by using Python's built-in `sum`, and Python's _generator expression_ (an object that returns a sequence of other objects built from a rule)."
     ]
    },
    {
     "cell_type": "code",
     "collapsed": false,
     "input": [
      "terms = 100\n",
      "\n",
      "pi = 4 * sum((-1.0)**n / (2*n+1) for n in range(terms))\n",
      "\n",
      "print \"After %d terms, pi = %f\" % (terms,pi)"
     ],
     "language": "python",
     "metadata": {},
     "outputs": [
      {
       "output_type": "stream",
       "stream": "stdout",
       "text": [
        "After 100 terms, pi = 3.131593\n"
       ]
      }
     ],
     "prompt_number": 2
    },
    {
     "cell_type": "markdown",
     "metadata": {},
     "source": [
      "If we make this into a function, we can have some fun with it, such as monitor its convergence."
     ]
    },
    {
     "cell_type": "code",
     "collapsed": false,
     "input": [
      "def piseries(terms):\n",
      "    return 4 * sum((-1.0)**n / (2*n+1) for n in xrange(terms))"
     ],
     "language": "python",
     "metadata": {},
     "outputs": [],
     "prompt_number": 9
    },
    {
     "cell_type": "markdown",
     "metadata": {},
     "source": [
      "We need to _import_ a couple of modules. `math` to give us the exact value of pi, and `matplotlib` to plot its error."
     ]
    },
    {
     "cell_type": "code",
     "collapsed": false,
     "input": [
      "import math\n",
      "import matplotlib.pyplot as mp"
     ],
     "language": "python",
     "metadata": {},
     "outputs": [],
     "prompt_number": 4
    },
    {
     "cell_type": "markdown",
     "metadata": {},
     "source": [
      "In iPython notebook, this magic makes sure that we can plot inside the notebook."
     ]
    },
    {
     "cell_type": "code",
     "collapsed": false,
     "input": [
      "%matplotlib inline"
     ],
     "language": "python",
     "metadata": {},
     "outputs": [],
     "prompt_number": 5
    },
    {
     "cell_type": "markdown",
     "metadata": {},
     "source": [
      "Here we use a _list comprehension_ to build a Python _list_ of the errors made in computing pi. "
     ]
    },
    {
     "cell_type": "code",
     "collapsed": false,
     "input": [
      "dpi = [abs(piseries(i) - math.pi) for i in xrange(100)]\n",
      "\n",
      "mp.semilogy(dpi)"
     ],
     "language": "python",
     "metadata": {},
     "outputs": [
      {
       "metadata": {},
       "output_type": "pyout",
       "prompt_number": 13,
       "text": [
        "[<matplotlib.lines.Line2D at 0x10c5ff990>]"
       ]
      },
      {
       "metadata": {},
       "output_type": "display_data",
       "png": "[encoded data removed]",
       "text": [
        "<matplotlib.figure.Figure at 0x10c5545d0>"
       ]
      }
     ],
     "prompt_number": 13
    },
    {
     "cell_type": "markdown",
     "metadata": {},
     "source": [
      "Convergence is not so great! It's actually linear in the number of terms: the error decreases only as $k^{-1}$, since the $k$-th residual is bounded by $1/(2k+3)$. So the cost of new digits rises exponentially."
     ]
    },
    {
     "cell_type": "code",
     "collapsed": false,
     "input": [
      "ts = range(10,10000,100)\n",
      "dpi = [abs(piseries(t) - math.pi) for t in ts]\n",
      "\n",
      "mp.loglog(ts,dpi)\n",
      "mp.title(\"This is a log-log plot!\")"
     ],
     "language": "python",
     "metadata": {},
     "outputs": [
      {
       "metadata": {},
       "output_type": "pyout",
       "prompt_number": 21,
       "text": [
        "<matplotlib.text.Text at 0x1061d8a90>"
       ]
      },
      {
       "metadata": {},
       "output_type": "display_data",
       "png": "[encoded data removed]",
       "text": [
        "<matplotlib.figure.Figure at 0x105df7190>"
       ]
      }
     ],
     "prompt_number": 21
    },
    {
     "cell_type": "heading",
     "level": 3,
     "metadata": {},
     "source": [
      "1.1.2 With Archimedes' exhaustion principle"
     ]
    },
    {
     "cell_type": "markdown",
     "metadata": {},
     "source": [
      "To do better, we leave Leibniz and go back to Archimedes.\n",
      "\n",
      "It seems fitting that we start with the first known algorithm to do so, devised by none other than Archimedes (circa 287\u2013211 B.C.). He figured out that the perimeters of regular polygons inscribed and circumscribed around the unit circle would represent lower and higher bounds to $2\\pi$, of increasing accuracy as the number of sides increases. Using hexagons, the circumscribed semiperimeter comes to $a_0 = 2 \\sqrt{3}$, and the inscribed semiperimeter to $b_0 = 3$.\n",
      "\n",
      "[Here we include the figure `archimedes-1.png` in this directory using the Markdown syntax.]\n",
      "\n",
      "![Archimedes' geometric scheme to approximate $\\pi$.](./archimedes-1.png)\n",
      "\n",
      "Using only geometric reasoning, Archimedes' was able to work out the change in the two perimeters when the number of sides is doubled, and he applied this step four times (up to 96-gons), obtaining $b_4 < \\pi < a_4$, namely $\\frac{223}{71} < \\pi < \\frac{22}{7}$, or $3.1408 < \\pi < 3.1429$. Archimedes didn't have decimal numbers, which makes his work even more remarkable.[^1]\n",
      "The iterative nature of the algorithm makes it possible to compute $\\pi$ (at least in principle) to any precision, and it can be rightfully said to mark the birth of both numerical and error analysis. Indeed, Archimedes' process of _exhaustion_ anticipates modern integration... but that's another story."
     ]
    },
    {
     "cell_type": "markdown",
     "metadata": {},
     "source": [
      "From a modern viewpoint, it is hard to resist using trigonometry to reproduce Archimedes' doubling step, which in fact makes it quite painless. Given the perimeters\n",
      "\n",
      "$$a_n = 6 \\times 2^n \\, \\tan \\theta_n, \\quad\n",
      "b_n = 6 \\times 2^n \\, \\sin \\theta_n, \\quad\n",
      "\\theta_n = \\frac{\\pi}{6 \\times 2^n},$$\n",
      "\n",
      "we need to find $a_{n+1}$ and $b_{n+1}$ given $a_n$, $b_n$. A quick look at our high-school trigonometry book suggests the bisection formulas,\n",
      "\n",
      "$$\\tan \\theta_{n+1} = \\tan(\\theta_n/2) = \\frac{\\sin \\theta_n}{1 + \\cos \\theta_n}, \\quad\n",
      "\\sin \\theta_{n+1} = \\sin(\\theta_n/2) = \\pm \\sqrt{\\frac{1 - \\cos \\theta_n}{2}};$$\n",
      "\n",
      "and after some rumination, we succeed in assembling\n",
      "\n",
      "$$a_{n+1} = \\frac{2 a_n b_n}{a_n + b_n}, \\quad\n",
      "b_{n+1} = \\sqrt{a_{n+1} b_n}.$$\n",
      "\n",
      "The iteration can be seeded with the hexagon ($\\theta_0 = \\pi/6$, $a_n = 2 \\sqrt{3}$, $b_n = 3$)."
     ]
    },
    {
     "cell_type": "code",
     "collapsed": false,
     "input": [
      "def piarchi(iters):\n",
      "    a, b = 2 * math.sqrt(3), 3    # tuple unpacking\n",
      "        \n",
      "    for i in range(iters):        # iterate from i = 0 to n-1, C-style\n",
      "        a = 2 * a * b  / (a + b)\n",
      "        b = math.sqrt(a * b)\n",
      "        \n",
      "    return a, b"
     ],
     "language": "python",
     "metadata": {},
     "outputs": [],
     "prompt_number": 15
    },
    {
     "cell_type": "markdown",
     "metadata": {},
     "source": [
      "Nice!"
     ]
    },
    {
     "cell_type": "code",
     "collapsed": false,
     "input": [
      "piarchi(10)"
     ],
     "language": "python",
     "metadata": {},
     "outputs": [
      {
       "metadata": {},
       "output_type": "pyout",
       "prompt_number": 16,
       "text": [
        "(3.1415929273850964, 3.141592516692157)"
       ]
      }
     ],
     "prompt_number": 16
    },
    {
     "cell_type": "markdown",
     "metadata": {},
     "source": [
      "If we want to be more Pythonic, we can define an iterator operator/function, and apply it repeatedly. Here we learn that functions are _first-class objects_ in Python... and also about _tuples_."
     ]
    },
    {
     "cell_type": "code",
     "collapsed": false,
     "input": [
      "def iterarchi(a,b):\n",
      "    a = 2 * a * b  / (a + b)\n",
      "    b = math.sqrt(a * b)\n",
      "    \n",
      "    # return a,b as a tuple\n",
      "    return a,b\n",
      "\n",
      "# generic function to iterate another function n times starting from x\n",
      "def iterate(func,x,n):\n",
      "    for i in range(n):\n",
      "        # x = func(*x) # unpack tuple (requires function arguments given as tuple)\n",
      "        # Alternatively iterarchi could have taken a tuple as an argument, requiring its unpacking.\n",
      "        # general code that works for iterating a function that takes one or more arguments\n",
      "        if isinstance(x,tuple):\n",
      "            x = func(*x)\n",
      "        else:\n",
      "            x = func(x)\n",
      "        \n",
      "    return x\n",
      "\n",
      "def piarchi2(iters):\n",
      "    # return just 'a' using indexing\n",
      "    return iterate(iterarchi,(2*math.sqrt(3),3),iters)[0]"
     ],
     "language": "python",
     "metadata": {},
     "outputs": [],
     "prompt_number": 17
    },
    {
     "cell_type": "code",
     "collapsed": false,
     "input": [
      "piarchi2(10)"
     ],
     "language": "python",
     "metadata": {},
     "outputs": [
      {
       "metadata": {},
       "output_type": "pyout",
       "prompt_number": 18,
       "text": [
        "3.1415929273850964"
       ]
      }
     ],
     "prompt_number": 18
    },
    {
     "cell_type": "markdown",
     "metadata": {},
     "source": [
      "Convergence is very fast! But it saturates at an error of $10^{-15}$, because Python uses double precision floating point numbers. Not enough to find the Feynman point!"
     ]
    },
    {
     "cell_type": "code",
     "collapsed": false,
     "input": [
      "ts = range(30)\n",
      "dpi = [abs(piarchi2(t) - math.pi) for t in ts]\n",
      "\n",
      "mp.semilogy(ts,dpi)"
     ],
     "language": "python",
     "metadata": {},
     "outputs": [
      {
       "metadata": {},
       "output_type": "pyout",
       "prompt_number": 19,
       "text": [
        "[<matplotlib.lines.Line2D at 0x10c711d50>]"
       ]
      },
      {
       "metadata": {},
       "output_type": "display_data",
       "png": "[encoded data removed]",
       "text": [
        "<matplotlib.figure.Figure at 0x10c5fa1d0>"
       ]
      }
     ],
     "prompt_number": 19
    },
    {
     "cell_type": "code",
     "collapsed": false,
     "input": [
      "piarchi2(25)"
     ],
     "language": "python",
     "metadata": {},
     "outputs": [
      {
       "metadata": {},
       "output_type": "pyout",
       "prompt_number": 20,
       "text": [
        "3.1415926535897922"
       ]
      }
     ],
     "prompt_number": 20
    },
    {
     "cell_type": "markdown",
     "metadata": {},
     "source": [
      "To get more digits, we can appeal to the \"batteries included\" quality of Python; the quick Googling of \"python arbitrary precision arithmetics\" (which is what we need) yields a link to `mpmath`. Perusing that webpage (http://mpmath.org) convinces us of the credentials of that package. We install it with `pip` (https://pip.pypa.io/en/latest/)."
     ]
    },
    {
     "cell_type": "code",
     "collapsed": false,
     "input": [
      "!pip install mpmath"
     ],
     "language": "python",
     "metadata": {},
     "outputs": [
      {
       "output_type": "stream",
       "stream": "stdout",
       "text": [
        "Downloading/unpacking mpmath\r\n"
       ]
      },
      {
       "output_type": "stream",
       "stream": "stdout",
       "text": [
        "  Downloading mpmath-0.19.tar.gz (498kB): "
       ]
      },
      {
       "output_type": "stream",
       "stream": "stdout",
       "text": [
        "\r",
        "  Downloading mpmath-0.19.tar.gz (498kB):   0%  4.1kB\r",
        "  Downloading mpmath-0.19.tar.gz (498kB):   1%  8.2kB"
       ]
      },
      {
       "output_type": "stream",
       "stream": "stdout",
       "text": [
        "\r",
        "  Downloading mpmath-0.19.tar.gz (498kB):   2%  12kB \r",
        "  Downloading mpmath-0.19.tar.gz (498kB):   3%  16kB\r",
        "  Downloading mpmath-0.19.tar.gz (498kB):   4%  20kB\r",
        "  Downloading mpmath-0.19.tar.gz (498kB):   4%  24kB"
       ]
      },
      {
       "output_type": "stream",
       "stream": "stdout",
       "text": [
        "\r",
        "  Downloading mpmath-0.19.tar.gz (498kB):   5%  28kB\r",
        "  Downloading mpmath-0.19.tar.gz (498kB):   6%  32kB"
       ]
      },
      {
       "output_type": "stream",
       "stream": "stdout",
       "text": [
        "\r",
        "  Downloading mpmath-0.19.tar.gz (498kB):   7%  36kB"
       ]
      },
      {
       "output_type": "stream",
       "stream": "stdout",
       "text": [
        "\r",
        "  Downloading mpmath-0.19.tar.gz (498kB):   8%  40kB\r",
        "  Downloading mpmath-0.19.tar.gz (498kB):   9%  45kB"
       ]
      },
      {
       "output_type": "stream",
       "stream": "stdout",
       "text": [
        "\r",
        "  Downloading mpmath-0.19.tar.gz (498kB):   9%  49kB\r",
        "  Downloading mpmath-0.19.tar.gz (498kB):  10%  53kB\r",
        "  Downloading mpmath-0.19.tar.gz (498kB):  11%  57kB"
       ]
      },
      {
       "output_type": "stream",
       "stream": "stdout",
       "text": [
        "\r",
        "  Downloading mpmath-0.19.tar.gz (498kB):  12%  61kB"
       ]
      },
      {
       "output_type": "stream",
       "stream": "stdout",
       "text": [
        "\r",
        "  Downloading mpmath-0.19.tar.gz (498kB):  13%  65kB"
       ]
      },
      {
       "output_type": "stream",
       "stream": "stdout",
       "text": [
        "\r",
        "  Downloading mpmath-0.19.tar.gz (498kB):  13%  69kB"
       ]
      },
      {
       "output_type": "stream",
       "stream": "stdout",
       "text": [
        "\r",
        "  Downloading mpmath-0.19.tar.gz (498kB):  14%  73kB\r",
        "  Downloading mpmath-0.19.tar.gz (498kB):  15%  77kB"
       ]
      },
      {
       "output_type": "stream",
       "stream": "stdout",
       "text": [
        "\r",
        "  Downloading mpmath-0.19.tar.gz (498kB):  16%  81kB\r",
        "  Downloading mpmath-0.19.tar.gz (498kB):  17%  86kB"
       ]
      },
      {
       "output_type": "stream",
       "stream": "stdout",
       "text": [
        "\r",
        "  Downloading mpmath-0.19.tar.gz (498kB):  18%  90kB\r",
        "  Downloading mpmath-0.19.tar.gz (498kB):  18%  94kB"
       ]
      },
      {
       "output_type": "stream",
       "stream": "stdout",
       "text": [
        "\r",
        "  Downloading mpmath-0.19.tar.gz (498kB):  19%  98kB\r",
        "  Downloading mpmath-0.19.tar.gz (498kB):  20%  102kB"
       ]
      },
      {
       "output_type": "stream",
       "stream": "stdout",
       "text": [
        "\r",
        "  Downloading mpmath-0.19.tar.gz (498kB):  21%  106kB"
       ]
      },
      {
       "output_type": "stream",
       "stream": "stdout",
       "text": [
        "\r",
        "  Downloading mpmath-0.19.tar.gz (498kB):  22%  110kB"
       ]
      },
      {
       "output_type": "stream",
       "stream": "stdout",
       "text": [
        "\r",
        "  Downloading mpmath-0.19.tar.gz (498kB):  23%  114kB"
       ]
      },
      {
       "output_type": "stream",
       "stream": "stdout",
       "text": [
        "\r",
        "  Downloading mpmath-0.19.tar.gz (498kB):  23%  118kB"
       ]
      },
      {
       "output_type": "stream",
       "stream": "stdout",
       "text": [
        "\r",
        "  Downloading mpmath-0.19.tar.gz (498kB):  24%  122kB"
       ]
      },
      {
       "output_type": "stream",
       "stream": "stdout",
       "text": [
        "\r",
        "  Downloading mpmath-0.19.tar.gz (498kB):  25%  126kB\r",
        "  Downloading mpmath-0.19.tar.gz (498kB):  26%  131kB"
       ]
      },
      {
       "output_type": "stream",
       "stream": "stdout",
       "text": [
        "\r",
        "  Downloading mpmath-0.19.tar.gz (498kB):  27%  135kB\r",
        "  Downloading mpmath-0.19.tar.gz (498kB):  27%  139kB"
       ]
      },
      {
       "output_type": "stream",
       "stream": "stdout",
       "text": [
        "\r",
        "  Downloading mpmath-0.19.tar.gz (498kB):  28%  143kB\r",
        "  Downloading mpmath-0.19.tar.gz (498kB):  29%  147kB"
       ]
      },
      {
       "output_type": "stream",
       "stream": "stdout",
       "text": [
        "\r",
        "  Downloading mpmath-0.19.tar.gz (498kB):  30%  151kB\r",
        "  Downloading mpmath-0.19.tar.gz (498kB):  31%  155kB"
       ]
      },
      {
       "output_type": "stream",
       "stream": "stdout",
       "text": [
        "\r",
        "  Downloading mpmath-0.19.tar.gz (498kB):  32%  159kB\r",
        "  Downloading mpmath-0.19.tar.gz (498kB):  32%  163kB"
       ]
      },
      {
       "output_type": "stream",
       "stream": "stdout",
       "text": [
        "\r",
        "  Downloading mpmath-0.19.tar.gz (498kB):  33%  167kB\r",
        "  Downloading mpmath-0.19.tar.gz (498kB):  34%  172kB"
       ]
      },
      {
       "output_type": "stream",
       "stream": "stdout",
       "text": [
        "\r",
        "  Downloading mpmath-0.19.tar.gz (498kB):  35%  176kB\r",
        "  Downloading mpmath-0.19.tar.gz (498kB):  36%  180kB\r",
        "  Downloading mpmath-0.19.tar.gz (498kB):  36%  184kB\r",
        "  Downloading mpmath-0.19.tar.gz (498kB):  37%  188kB"
       ]
      },
      {
       "output_type": "stream",
       "stream": "stdout",
       "text": [
        "\r",
        "  Downloading mpmath-0.19.tar.gz (498kB):  38%  192kB\r",
        "  Downloading mpmath-0.19.tar.gz (498kB):  39%  196kB"
       ]
      },
      {
       "output_type": "stream",
       "stream": "stdout",
       "text": [
        "\r",
        "  Downloading mpmath-0.19.tar.gz (498kB):  40%  200kB\r",
        "  Downloading mpmath-0.19.tar.gz (498kB):  41%  204kB"
       ]
      },
      {
       "output_type": "stream",
       "stream": "stdout",
       "text": [
        "\r",
        "  Downloading mpmath-0.19.tar.gz (498kB):  41%  208kB\r",
        "  Downloading mpmath-0.19.tar.gz (498kB):  42%  212kB"
       ]
      },
      {
       "output_type": "stream",
       "stream": "stdout",
       "text": [
        "\r",
        "  Downloading mpmath-0.19.tar.gz (498kB):  43%  217kB\r",
        "  Downloading mpmath-0.19.tar.gz (498kB):  44%  221kB"
       ]
      },
      {
       "output_type": "stream",
       "stream": "stdout",
       "text": [
        "\r",
        "  Downloading mpmath-0.19.tar.gz (498kB):  45%  225kB\r",
        "  Downloading mpmath-0.19.tar.gz (498kB):  46%  229kB\r",
        "  Downloading mpmath-0.19.tar.gz (498kB):  46%  233kB\r",
        "  Downloading mpmath-0.19.tar.gz (498kB):  47%  237kB\r",
        "  Downloading mpmath-0.19.tar.gz (498kB):  48%  241kB\r",
        "  Downloading mpmath-0.19.tar.gz (498kB):  49%  245kB\r",
        "  Downloading mpmath-0.19.tar.gz (498kB):  50%  249kB\r",
        "  Downloading mpmath-0.19.tar.gz (498kB):  50%  253kB\r",
        "  Downloading mpmath-0.19.tar.gz (498kB):  51%  258kB\r",
        "  Downloading mpmath-0.19.tar.gz (498kB):  52%  262kB\r",
        "  Downloading mpmath-0.19.tar.gz (498kB):  53%  266kB\r",
        "  Downloading mpmath-0.19.tar.gz (498kB):  54%  270kB\r",
        "  Downloading mpmath-0.19.tar.gz (498kB):  55%  274kB\r",
        "  Downloading mpmath-0.19.tar.gz (498kB):  55%  278kB\r",
        "  Downloading mpmath-0.19.tar.gz (498kB):  56%  282kB\r",
        "  Downloading mpmath-0.19.tar.gz (498kB):  57%  286kB"
       ]
      },
      {
       "output_type": "stream",
       "stream": "stdout",
       "text": [
        "\r",
        "  Downloading mpmath-0.19.tar.gz (498kB):  58%  290kB\r",
        "  Downloading mpmath-0.19.tar.gz (498kB):  59%  294kB\r",
        "  Downloading mpmath-0.19.tar.gz (498kB):  59%  299kB\r",
        "  Downloading mpmath-0.19.tar.gz (498kB):  60%  303kB\r",
        "  Downloading mpmath-0.19.tar.gz (498kB):  61%  307kB\r",
        "  Downloading mpmath-0.19.tar.gz (498kB):  62%  311kB\r",
        "  Downloading mpmath-0.19.tar.gz (498kB):  63%  315kB\r",
        "  Downloading mpmath-0.19.tar.gz (498kB):  64%  319kB\r",
        "  Downloading mpmath-0.19.tar.gz (498kB):  64%  323kB\r",
        "  Downloading mpmath-0.19.tar.gz (498kB):  65%  327kB"
       ]
      },
      {
       "output_type": "stream",
       "stream": "stdout",
       "text": [
        "\r",
        "  Downloading mpmath-0.19.tar.gz (498kB):  66%  331kB\r",
        "  Downloading mpmath-0.19.tar.gz (498kB):  67%  335kB"
       ]
      },
      {
       "output_type": "stream",
       "stream": "stdout",
       "text": [
        "\r",
        "  Downloading mpmath-0.19.tar.gz (498kB):  68%  339kB\r",
        "  Downloading mpmath-0.19.tar.gz (498kB):  69%  344kB"
       ]
      },
      {
       "output_type": "stream",
       "stream": "stdout",
       "text": [
        "\r",
        "  Downloading mpmath-0.19.tar.gz (498kB):  69%  348kB\r",
        "  Downloading mpmath-0.19.tar.gz (498kB):  70%  352kB"
       ]
      },
      {
       "output_type": "stream",
       "stream": "stdout",
       "text": [
        "\r",
        "  Downloading mpmath-0.19.tar.gz (498kB):  71%  356kB\r",
        "  Downloading mpmath-0.19.tar.gz (498kB):  72%  360kB"
       ]
      },
      {
       "output_type": "stream",
       "stream": "stdout",
       "text": [
        "\r",
        "  Downloading mpmath-0.19.tar.gz (498kB):  73%  364kB\r",
        "  Downloading mpmath-0.19.tar.gz (498kB):  73%  368kB"
       ]
      },
      {
       "output_type": "stream",
       "stream": "stdout",
       "text": [
        "\r",
        "  Downloading mpmath-0.19.tar.gz (498kB):  74%  372kB\r",
        "  Downloading mpmath-0.19.tar.gz (498kB):  75%  376kB"
       ]
      },
      {
       "output_type": "stream",
       "stream": "stdout",
       "text": [
        "\r",
        "  Downloading mpmath-0.19.tar.gz (498kB):  76%  380kB"
       ]
      },
      {
       "output_type": "stream",
       "stream": "stdout",
       "text": [
        "\r",
        "  Downloading mpmath-0.19.tar.gz (498kB):  77%  385kB\r",
        "  Downloading mpmath-0.19.tar.gz (498kB):  78%  389kB\r",
        "  Downloading mpmath-0.19.tar.gz (498kB):  78%  393kB"
       ]
      },
      {
       "output_type": "stream",
       "stream": "stdout",
       "text": [
        "\r",
        "  Downloading mpmath-0.19.tar.gz (498kB):  79%  397kB\r",
        "  Downloading mpmath-0.19.tar.gz (498kB):  80%  401kB"
       ]
      },
      {
       "output_type": "stream",
       "stream": "stdout",
       "text": [
        "\r",
        "  Downloading mpmath-0.19.tar.gz (498kB):  81%  405kB"
       ]
      },
      {
       "output_type": "stream",
       "stream": "stdout",
       "text": [
        "\r",
        "  Downloading mpmath-0.19.tar.gz (498kB):  82%  409kB\r",
        "  Downloading mpmath-0.19.tar.gz (498kB):  82%  413kB\r",
        "  Downloading mpmath-0.19.tar.gz (498kB):  83%  417kB"
       ]
      },
      {
       "output_type": "stream",
       "stream": "stdout",
       "text": [
        "\r",
        "  Downloading mpmath-0.19.tar.gz (498kB):  84%  421kB\r",
        "  Downloading mpmath-0.19.tar.gz (498kB):  85%  425kB"
       ]
      },
      {
       "output_type": "stream",
       "stream": "stdout",
       "text": [
        "\r",
        "  Downloading mpmath-0.19.tar.gz (498kB):  86%  430kB"
       ]
      },
      {
       "output_type": "stream",
       "stream": "stdout",
       "text": [
        "\r",
        "  Downloading mpmath-0.19.tar.gz (498kB):  87%  434kB"
       ]
      },
      {
       "output_type": "stream",
       "stream": "stdout",
       "text": [
        "\r",
        "  Downloading mpmath-0.19.tar.gz (498kB):  87%  438kB"
       ]
      },
      {
       "output_type": "stream",
       "stream": "stdout",
       "text": [
        "\r",
        "  Downloading mpmath-0.19.tar.gz (498kB):  88%  442kB"
       ]
      },
      {
       "output_type": "stream",
       "stream": "stdout",
       "text": [
        "\r",
        "  Downloading mpmath-0.19.tar.gz (498kB):  89%  446kB\r",
        "  Downloading mpmath-0.19.tar.gz (498kB):  90%  450kB\r",
        "  Downloading mpmath-0.19.tar.gz (498kB):  91%  454kB"
       ]
      },
      {
       "output_type": "stream",
       "stream": "stdout",
       "text": [
        "\r",
        "  Downloading mpmath-0.19.tar.gz (498kB):  92%  458kB\r",
        "  Downloading mpmath-0.19.tar.gz (498kB):  92%  462kB"
       ]
      },
      {
       "output_type": "stream",
       "stream": "stdout",
       "text": [
        "\r",
        "  Downloading mpmath-0.19.tar.gz (498kB):  93%  466kB"
       ]
      },
      {
       "output_type": "stream",
       "stream": "stdout",
       "text": [
        "\r",
        "  Downloading mpmath-0.19.tar.gz (498kB):  94%  471kB\r",
        "  Downloading mpmath-0.19.tar.gz (498kB):  95%  475kB\r",
        "  Downloading mpmath-0.19.tar.gz (498kB):  96%  479kB\r",
        "  Downloading mpmath-0.19.tar.gz (498kB):  96%  483kB\r",
        "  Downloading mpmath-0.19.tar.gz (498kB):  97%  487kB\r",
        "  Downloading mpmath-0.19.tar.gz (498kB):  98%  491kB\r",
        "  Downloading mpmath-0.19.tar.gz (498kB):  99%  495kB\r",
        "  Downloading mpmath-0.19.tar.gz (498kB): 100%  498kB\r",
        "  Downloading mpmath-0.19.tar.gz (498kB):            \r",
        "  Downloading mpmath-0.19.tar.gz (498kB): 498kB downloaded\r\n"
       ]
      },
      {
       "output_type": "stream",
       "stream": "stdout",
       "text": [
        "  Running setup.py egg_info for package mpmath\r\n"
       ]
      },
      {
       "output_type": "stream",
       "stream": "stdout",
       "text": [
        "    \r\n",
        "Installing collected packages: mpmath\r\n",
        "  Running setup.py install for mpmath\r\n"
       ]
      },
      {
       "output_type": "stream",
       "stream": "stdout",
       "text": [
        "    \r\n",
        "Successfully installed mpmath\r\n",
        "Cleaning up...\r\n"
       ]
      }
     ],
     "prompt_number": 43
    },
    {
     "cell_type": "markdown",
     "metadata": {},
     "source": [
      "`mpmath` provides replacements for most math functions, and allows us to create a higher-precision float using `mpf`. The digits of precision are set by `mpmath.mp.dps`."
     ]
    },
    {
     "cell_type": "code",
     "collapsed": false,
     "input": [
      "math.exp(10.0)"
     ],
     "language": "python",
     "metadata": {},
     "outputs": [
      {
       "metadata": {},
       "output_type": "pyout",
       "prompt_number": 62,
       "text": [
        "22026.465794806718"
       ]
      }
     ],
     "prompt_number": 62
    },
    {
     "cell_type": "code",
     "collapsed": false,
     "input": [
      "import mpmath\n",
      "\n",
      "mpmath.mp.dps = 30\n",
      "\n",
      "a = mpmath.mpf(10.0)\n",
      "mpmath.exp(a)"
     ],
     "language": "python",
     "metadata": {},
     "outputs": [
      {
       "metadata": {},
       "output_type": "pyout",
       "prompt_number": 21,
       "text": [
        "mpf('22026.4657948067165169579006452833')"
       ]
      }
     ],
     "prompt_number": 21
    },
    {
     "cell_type": "markdown",
     "metadata": {},
     "source": [
      "Moreover, the `mpmath`ness of the `mpf` objects is contagious:"
     ]
    },
    {
     "cell_type": "code",
     "collapsed": false,
     "input": [
      "mpmath.mpf(2.0) + 2.0"
     ],
     "language": "python",
     "metadata": {},
     "outputs": [
      {
       "metadata": {},
       "output_type": "pyout",
       "prompt_number": 22,
       "text": [
        "mpf('4.0')"
       ]
      }
     ],
     "prompt_number": 22
    },
    {
     "cell_type": "markdown",
     "metadata": {},
     "source": [
      "This means that we need only a tiny modification to our iteration code, which seeds it with an `mpf` object, and which replaces the `sqrt` function:"
     ]
    },
    {
     "cell_type": "code",
     "collapsed": false,
     "input": [
      "def iterarchi3(a,b):\n",
      "    a = 2 * a * b  / (a + b)\n",
      "    b = mpmath.sqrt(a * b)\n",
      "    \n",
      "    # return a,b as a tuple\n",
      "    return a,b\n",
      "\n",
      "def piarchi3(iters):\n",
      "    return iterate(iterarchi3,(2*mpmath.sqrt(3),3),iters)[0]"
     ],
     "language": "python",
     "metadata": {},
     "outputs": [],
     "prompt_number": 23
    },
    {
     "cell_type": "code",
     "collapsed": false,
     "input": [
      "mpmath.mp.dps = 1000"
     ],
     "language": "python",
     "metadata": {},
     "outputs": [],
     "prompt_number": 24
    },
    {
     "cell_type": "code",
     "collapsed": false,
     "input": [
      "ts = range(0,1500,50)\n",
      "\n",
      "# we need to take the log here because matplotlib will convert mpfs back to floats,\n",
      "# and the smallest possible float is 100^-300 or so\n",
      "dpi = [mpmath.log10(abs(piarchi3(t) - mpmath.pi)) for t in ts]\n",
      "\n",
      "mp.plot(ts,dpi)"
     ],
     "language": "python",
     "metadata": {},
     "outputs": [
      {
       "metadata": {},
       "output_type": "pyout",
       "prompt_number": 25,
       "text": [
        "[<matplotlib.lines.Line2D at 0x10ca01310>]"
       ]
      },
      {
       "metadata": {},
       "output_type": "display_data",
       "png": "[encoded data removed]",
       "text": [
        "<matplotlib.figure.Figure at 0x10c9cdbd0>"
       ]
      }
     ],
     "prompt_number": 25
    },
    {
     "cell_type": "code",
     "collapsed": false,
     "input": [
      "piarchi3(1500)"
     ],
     "language": "python",
     "metadata": {},
     "outputs": [
      {
       "metadata": {},
       "output_type": "pyout",
       "prompt_number": 26,
       "text": [
        "mpf('3.141592653589793238462643383279502884197169399375105820974944592307816406286208998628034825342117067982148086513282306647093844609550582231725359408128481117450284102701938521105559644622948954930381964428810975665933446128475648233786783165271201909145648566923460348610454326648213393607260249141273724587006606315588174881520920962829254091715364367892590360011330530548820466521384146951941511609433057270365759591953092186117381932611793105118548074462379962749567351885752724891227938183011949129833673362440656643086021394946395224737190702179860943702770539217176293176752384674818467669405132000568127145263560827785771342757789609173637178721468440901224953430146549585371050792279689258923542019956112129021960864034418159813629774771309960518707211349999998372978049951059731732816096318595024459455346908302642522308253344685035261931188171010003137838752886587533208381420617177669147303598486857121064092774915854716387423296376442498044366963837290348746006879381498024826916267900427369')"
       ]
      }
     ],
     "prompt_number": 26
    },
    {
     "cell_type": "markdown",
     "metadata": {},
     "source": [
      "...and here's the Feynman point! (We convert the `mpf` to a string with the `str` constructor, and use the string method `find` to yield the position where the six nines begin.)"
     ]
    },
    {
     "cell_type": "code",
     "collapsed": false,
     "input": [
      "str(piarchi3(1500)).find('999999')"
     ],
     "language": "python",
     "metadata": {},
     "outputs": [
      {
       "metadata": {},
       "output_type": "pyout",
       "prompt_number": 27,
       "text": [
        "763"
       ]
      }
     ],
     "prompt_number": 27
    },
    {
     "cell_type": "code",
     "collapsed": false,
     "input": [],
     "language": "python",
     "metadata": {},
     "outputs": []
    },
    {
     "cell_type": "markdown",
     "metadata": {},
     "source": [
      "Now that we have arbitrary precision, we can improve considerably on the arctan series by using Machin's formula... this is in effect the solution to one of our exercises."
     ]
    },
    {
     "cell_type": "code",
     "collapsed": false,
     "input": [
      "def arctanseries(x,terms):\n",
      "    return sum(x**(2*n+1) * (-1.0)**n / (2*n+1) for n in range(terms))\n",
      "\n",
      "def piseries2(terms):\n",
      "    return 4 * (4 * arctanseries(mpmath.mpf(1.0)/5.0,terms) - arctanseries(mpmath.mpf(1.0)/239.0,terms))"
     ],
     "language": "python",
     "metadata": {},
     "outputs": [],
     "prompt_number": 28
    },
    {
     "cell_type": "code",
     "collapsed": false,
     "input": [
      "ts = range(30)\n",
      "dpi = [abs(piseries2(t) - mpmath.pi) for t in ts]\n",
      "\n",
      "mp.semilogy(ts,dpi)\n",
      "mp.title(\"This is a log-log plot!\")"
     ],
     "language": "python",
     "metadata": {},
     "outputs": [
      {
       "metadata": {},
       "output_type": "pyout",
       "prompt_number": 29,
       "text": [
        "<matplotlib.text.Text at 0x10ca277d0>"
       ]
      },
      {
       "metadata": {},
       "output_type": "display_data",
       "png": "[encoded data removed]",
       "text": [
        "<matplotlib.figure.Figure at 0x10ca08450>"
       ]
      }
     ],
     "prompt_number": 29
    },
    {
     "cell_type": "heading",
     "level": 3,
     "metadata": {},
     "source": [
      "1.1.3 With Buffon's needle"
     ]
    },
    {
     "cell_type": "markdown",
     "metadata": {},
     "source": [
      "After getting so much precision, let's go a little rogue and try a very inefficient (but fascinating) way of getting pi\u2014by physical experiment, with Buffon's needle."
     ]
    },
    {
     "cell_type": "markdown",
     "metadata": {},
     "source": [
      "In 1773, Georges-Louis Leclerc (the count of Buffon) posed what may have been the first problem in the field of geometric probability [@badger1994]. Supposing that we have a floor made of parallel strips of wood, and we drop a needle onto the floor, what is the probability that the needle will cross the boundary of a strip? Let's think about that.\n",
      "\n",
      "For simplicity, let's say that the width of the strips and the length of the needle are both equal to one. We characterize a throw of the needle by the distance of the needle's tip from the strip boundary to the south (any $x \\in [0,1]$ is equally likely) and by the angle that the needle makes with respect to the strips ($\\theta = 0$ will be orthogonal, and by symmetry any $\\theta \\in [0,2\\pi]$ will be equally likely). For a given $\\theta$, the positions that yield a crossing will be those such that $x + \\sin \\theta > 1$ (if $\\theta > 0$) or $x + \\sin \\theta < 0$ (if $\\theta < 0$). It's easy to see that the fraction of such \"good\" positions is just $|\\sin \\theta|$. Integrating this number over the distribution $p(\\theta) = 1/{2\\pi}$ yields\n",
      "\n",
      "(@crossing) $$P(\\mathrm{crossing}) = \\frac{1}{2\\pi} \\int_0^{2\\pi} |\\sin \\theta| d\\theta = \\frac{2}{\\pi}.$$\n",
      "\n",
      "Laplace later realized that Buffon's result could be used to provide an _experimental_ determination of the value of $\\pi$. The number $C$ of needle crossings in $N$ throws would approximate $\\pi$ through $C/N \\simeq P(\\mathrm{crossing}) = 2/\\pi$, and therefore $\\pi \\simeq 2 N/C$. This may have been another first... the birth of the [Monte Carlo method][montecarlo], the very general idea of using random sampling to solve a deterministic problem.\n",
      "\n",
      "A Python implementation is straightforward. All we need are random numbers between 0 and 1, which we can get from the `random` function of the `random` module:"
     ]
    },
    {
     "cell_type": "code",
     "collapsed": false,
     "input": [
      "import random\n",
      "    \n",
      "# return True if the needle falls across a boundary\n",
      "def buffontrial():\n",
      "    x, theta = random.random(), 2*math.pi*random.random()\n",
      "    \n",
      "    # nice _syntactic sugar for the comparison\n",
      "    # is the tip inside the strip?\n",
      "    return not (0 < x + math.sin(theta) < 1)\n",
      "    \n",
      "def pibuffon(n):\n",
      "    return 2.0 * n / sum(buffontrial() for i in range(n))"
     ],
     "language": "python",
     "metadata": {},
     "outputs": [],
     "prompt_number": 141
    },
    {
     "cell_type": "code",
     "collapsed": false,
     "input": [
      "pibuffon(100)"
     ],
     "language": "python",
     "metadata": {},
     "outputs": [
      {
       "metadata": {},
       "output_type": "pyout",
       "prompt_number": 142,
       "text": [
        "2.857142857142857"
       ]
      }
     ],
     "prompt_number": 142
    },
    {
     "cell_type": "markdown",
     "metadata": {},
     "source": [
      "Indeed, on very general grounds one can show that the Monte Carlo error decreases as the standard deviation of the estimator (which in this case is $2N/C$) divided by the square root of the number of samples. This turns out to be $\\sqrt{\\pi^3/2N}$."
     ]
    },
    {
     "cell_type": "code",
     "collapsed": false,
     "input": [
      "ts = range(10000,100000,1000)\n",
      "dpi = [abs(pibuffon(i) - math.pi) for i in ts]\n",
      "\n",
      "mp.semilogy(ts,dpi)"
     ],
     "language": "python",
     "metadata": {},
     "outputs": [
      {
       "metadata": {},
       "output_type": "pyout",
       "prompt_number": 148,
       "text": [
        "[<matplotlib.lines.Line2D at 0x1074d9d90>]"
       ]
      },
      {
       "metadata": {},
       "output_type": "display_data",
       "png": "[encoded data removed]",
       "text": [
        "<matplotlib.figure.Figure at 0x107320590>"
       ]
      }
     ],
     "prompt_number": 148
    },
    {
     "cell_type": "heading",
     "level": 2,
     "metadata": {},
     "source": [
      "1.2 Anagrams"
     ]
    },
    {
     "cell_type": "markdown",
     "metadata": {},
     "source": [
      "Let's play with anagrams. To start, we'll need a dictionary:"
     ]
    },
    {
     "cell_type": "code",
     "collapsed": false,
     "input": [
      "!ls /usr/share/dict"
     ],
     "language": "python",
     "metadata": {},
     "outputs": [
      {
       "output_type": "stream",
       "stream": "stdout",
       "text": [
        "README      connectives propernames web2        web2a       \u001b[35mwords\u001b[m\u001b[m\r\n"
       ]
      }
     ],
     "prompt_number": 30
    },
    {
     "cell_type": "code",
     "collapsed": false,
     "input": [
      "!head /usr/share/dict/words"
     ],
     "language": "python",
     "metadata": {},
     "outputs": [
      {
       "output_type": "stream",
       "stream": "stdout",
       "text": [
        "A\r\n",
        "a\r\n",
        "aa\r\n",
        "aal\r\n",
        "aalii\r\n",
        "aam\r\n",
        "Aani\r\n",
        "aardvark\r\n",
        "aardwolf\r\n",
        "Aaron\r\n"
       ]
      }
     ],
     "prompt_number": 31
    },
    {
     "cell_type": "markdown",
     "metadata": {},
     "source": [
      "Three ways of getting a list of words, without the ending `\\n` of each line, and converted to lowercase."
     ]
    },
    {
     "cell_type": "code",
     "collapsed": false,
     "input": [
      "words = []\n",
      "\n",
      "with file('/usr/share/dict/words','r') as f:\n",
      "    for line in f:\n",
      "        words.append(line.strip().lower())"
     ],
     "language": "python",
     "metadata": {},
     "outputs": [],
     "prompt_number": 32
    },
    {
     "cell_type": "code",
     "collapsed": false,
     "input": [
      "words = [word.strip().lower() for word in file('/usr/share/dict/words','r')]"
     ],
     "language": "python",
     "metadata": {},
     "outputs": [],
     "prompt_number": 33
    },
    {
     "cell_type": "code",
     "collapsed": false,
     "input": [
      "words = map(str.lower,map(str.strip,file('/usr/share/dict/words','r')))"
     ],
     "language": "python",
     "metadata": {},
     "outputs": [],
     "prompt_number": 34
    },
    {
     "cell_type": "code",
     "collapsed": false,
     "input": [
      "len(words)"
     ],
     "language": "python",
     "metadata": {},
     "outputs": [
      {
       "metadata": {},
       "output_type": "pyout",
       "prompt_number": 35,
       "text": [
        "235886"
       ]
      }
     ],
     "prompt_number": 35
    },
    {
     "cell_type": "markdown",
     "metadata": {},
     "source": [
      "We now build a _dictionary_ of words, indexed by sorted, lowercase words. Sorting a string returns a list of characters, which we put together again with `''.join()`."
     ]
    },
    {
     "cell_type": "code",
     "collapsed": false,
     "input": [
      "sorted('abacus')"
     ],
     "language": "python",
     "metadata": {},
     "outputs": [
      {
       "metadata": {},
       "output_type": "pyout",
       "prompt_number": 36,
       "text": [
        "['a', 'a', 'b', 'c', 's', 'u']"
       ]
      }
     ],
     "prompt_number": 36
    },
    {
     "cell_type": "code",
     "collapsed": false,
     "input": [
      "def makekey(s):\n",
      "    return ''.join(sorted(s.lower()))\n",
      "\n",
      "sortedwords = {}\n",
      "\n",
      "for w in words:\n",
      "    # get key\n",
      "    key = makekey(w)\n",
      "\n",
      "    # check if key in dictionary\n",
      "    if key in sortedwords:\n",
      "        sortedwords[key].append(w)\n",
      "    else:\n",
      "        sortedwords[key] = [w]"
     ],
     "language": "python",
     "metadata": {},
     "outputs": [],
     "prompt_number": 37
    },
    {
     "cell_type": "markdown",
     "metadata": {},
     "source": [
      "This kind of gymnastic is needed because the first time that a sorted key appears, it does not yet exist in the dictionary. The `dict` variant `defaultdict` in the module `collections` is meant to address these situations."
     ]
    },
    {
     "cell_type": "code",
     "collapsed": false,
     "input": [
      "from collections import defaultdict\n",
      "\n",
      "# default to the empty list\n",
      "sortedwords = defaultdict(list)\n",
      "\n",
      "for w in words:\n",
      "    key = makekey(w)\n",
      "    sortedwords[key].append(w)"
     ],
     "language": "python",
     "metadata": {},
     "outputs": [],
     "prompt_number": 39
    },
    {
     "cell_type": "markdown",
     "metadata": {},
     "source": [
      "Now finding anagrams (if they exist) is just a dictionary lookup."
     ]
    },
    {
     "cell_type": "code",
     "collapsed": false,
     "input": [
      "def anagram(word):\n",
      "    anagrams = sortedwords[makekey(word)]\n",
      "    \n",
      "    return [a for a in anagrams if a != word]"
     ],
     "language": "python",
     "metadata": {},
     "outputs": [],
     "prompt_number": 40
    },
    {
     "cell_type": "markdown",
     "metadata": {},
     "source": [
      "Now we build a dictionary of anagrams proper:"
     ]
    },
    {
     "cell_type": "code",
     "collapsed": false,
     "input": [
      "anagrams = {w: anagram(w) for w in words if anagram(w)}"
     ],
     "language": "python",
     "metadata": {},
     "outputs": [],
     "prompt_number": 41
    },
    {
     "cell_type": "code",
     "collapsed": false,
     "input": [
      "len(anagrams)"
     ],
     "language": "python",
     "metadata": {},
     "outputs": [
      {
       "metadata": {},
       "output_type": "pyout",
       "prompt_number": 42,
       "text": [
        "32890"
       ]
      }
     ],
     "prompt_number": 42
    },
    {
     "cell_type": "code",
     "collapsed": false,
     "input": [
      "anagrams.keys()[0]"
     ],
     "language": "python",
     "metadata": {},
     "outputs": [
      {
       "metadata": {},
       "output_type": "pyout",
       "prompt_number": 43,
       "text": [
        "'clotter'"
       ]
      }
     ],
     "prompt_number": 43
    },
    {
     "cell_type": "code",
     "collapsed": false,
     "input": [
      "anagrams['clotter']"
     ],
     "language": "python",
     "metadata": {},
     "outputs": [
      {
       "metadata": {},
       "output_type": "pyout",
       "prompt_number": 44,
       "text": [
        "['crottle']"
       ]
      }
     ],
     "prompt_number": 44
    },
    {
     "cell_type": "markdown",
     "metadata": {},
     "source": [
      "Count the number of anagrams of a certain length:"
     ]
    },
    {
     "cell_type": "code",
     "collapsed": false,
     "input": [
      "def howmany(analen):\n",
      "    # iterate over dictionary keys\n",
      "    return sum(len(anagrams[word]) for word in anagrams if len(word) == analen) / 2"
     ],
     "language": "python",
     "metadata": {},
     "outputs": [],
     "prompt_number": 45
    },
    {
     "cell_type": "code",
     "collapsed": false,
     "input": [
      "mp.plot(range(30),[howmany(i) for i in range(30)],'x-')"
     ],
     "language": "python",
     "metadata": {},
     "outputs": [
      {
       "metadata": {},
       "output_type": "pyout",
       "prompt_number": 46,
       "text": [
        "[<matplotlib.lines.Line2D at 0x1109bcc90>]"
       ]
      },
      {
       "metadata": {},
       "output_type": "display_data",
       "png": "[encoded data removed]",
       "text": [
        "<matplotlib.figure.Figure at 0x10c2e5750>"
       ]
      }
     ],
     "prompt_number": 46
    },
    {
     "cell_type": "code",
     "collapsed": false,
     "input": [
      "def bylen(analen):\n",
      "    return {word: anagrams[word] for word in anagrams if len(word) == analen}"
     ],
     "language": "python",
     "metadata": {},
     "outputs": [],
     "prompt_number": 47
    },
    {
     "cell_type": "code",
     "collapsed": false,
     "input": [
      "bylen(20)"
     ],
     "language": "python",
     "metadata": {},
     "outputs": [
      {
       "metadata": {},
       "output_type": "pyout",
       "prompt_number": 48,
       "text": [
        "{'anatomicophysiologic': ['physiologicoanatomic'],\n",
        " 'encephalomeningocele': ['meningoencephalocele'],\n",
        " 'glossolabiolaryngeal': ['labioglossolaryngeal'],\n",
        " 'labioglossolaryngeal': ['glossolabiolaryngeal'],\n",
        " 'meningoencephalocele': ['encephalomeningocele'],\n",
        " 'physiologicoanatomic': ['anatomicophysiologic']}"
       ]
      }
     ],
     "prompt_number": 48
    },
    {
     "cell_type": "markdown",
     "metadata": {},
     "source": [
      "These are not very interesting, since they amount to moving around large blocks... let's define a notion of _perfect_ anagram, where no substring longer than one letter appears in both the word and its anagram. It's sufficient to check length 2."
     ]
    },
    {
     "cell_type": "code",
     "collapsed": false,
     "input": [
      "def isperfect(word,anagram):\n",
      "    for i in range(0,len(word)-1):\n",
      "        if word[i:i+2] in anagram:\n",
      "            return False\n",
      "    \n",
      "    return True"
     ],
     "language": "python",
     "metadata": {},
     "outputs": [],
     "prompt_number": 49
    },
    {
     "cell_type": "markdown",
     "metadata": {},
     "source": [
      "Since `True + True = 2`, `sum` can be used to count the elements of an iterator where a condition is true."
     ]
    },
    {
     "cell_type": "code",
     "collapsed": false,
     "input": [
      "def howmany_perfect(analen):\n",
      "    # iterate over dictionary keys\n",
      "    return sum(sum(isperfect(word,a) for a in anagrams[word])\n",
      "               for word in anagrams if len(word) == analen) / 2"
     ],
     "language": "python",
     "metadata": {},
     "outputs": [],
     "prompt_number": 50
    },
    {
     "cell_type": "code",
     "collapsed": false,
     "input": [
      "mp.plot(range(30),[howmany_perfect(i) for i in range(30)],'x-')"
     ],
     "language": "python",
     "metadata": {},
     "outputs": [
      {
       "metadata": {},
       "output_type": "pyout",
       "prompt_number": 51,
       "text": [
        "[<matplotlib.lines.Line2D at 0x1109efd90>]"
       ]
      },
      {
       "metadata": {},
       "output_type": "display_data",
       "png": "[encoded data removed]",
       "text": [
        "<matplotlib.figure.Figure at 0x10c9fd290>"
       ]
      }
     ],
     "prompt_number": 51
    },
    {
     "cell_type": "markdown",
     "metadata": {},
     "source": [
      "List the perfect anagrams of a certain length."
     ]
    },
    {
     "cell_type": "code",
     "collapsed": false,
     "input": [
      "# sometimes list comprehensions end up too complicated, and we can revert to an honest for loop\n",
      "\n",
      "def bylen_perfect(analen):\n",
      "    ret = defaultdict(list)\n",
      "    \n",
      "    for word in anagrams:\n",
      "        if len(word) == analen:\n",
      "            for a in anagrams[word]:\n",
      "                if isperfect(word,a):\n",
      "                    ret[word].append(a)\n",
      "\n",
      "    return dict(ret)"
     ],
     "language": "python",
     "metadata": {},
     "outputs": [],
     "prompt_number": 52
    },
    {
     "cell_type": "code",
     "collapsed": false,
     "input": [
      "bylen_perfect(14)"
     ],
     "language": "python",
     "metadata": {},
     "outputs": [
      {
       "metadata": {},
       "output_type": "pyout",
       "prompt_number": 53,
       "text": [
        "{'rotundifoliate': ['titanofluoride'], 'titanofluoride': ['rotundifoliate']}"
       ]
      }
     ],
     "prompt_number": 53
    },
    {
     "cell_type": "code",
     "collapsed": false,
     "input": [
      "bylen_perfect(13)"
     ],
     "language": "python",
     "metadata": {},
     "outputs": [
      {
       "metadata": {},
       "output_type": "pyout",
       "prompt_number": 54,
       "text": [
        "{}"
       ]
      }
     ],
     "prompt_number": 54
    },
    {
     "cell_type": "code",
     "collapsed": false,
     "input": [
      "bylen_perfect(12)"
     ],
     "language": "python",
     "metadata": {},
     "outputs": [
      {
       "metadata": {},
       "output_type": "pyout",
       "prompt_number": 55,
       "text": [
        "{'adrenotropic': ['incorporated'],\n",
        " 'calotermitid': ['dilatometric'],\n",
        " 'dilatometric': ['calotermitid'],\n",
        " 'incorporated': ['adrenotropic'],\n",
        " 'inoperculata': ['precautional'],\n",
        " 'irrationable': ['orbitelarian'],\n",
        " 'lipsanotheca': ['sphacelation'],\n",
        " 'narcaciontes': ['transoceanic'],\n",
        " 'orbitelarian': ['irrationable'],\n",
        " 'precautional': ['inoperculata'],\n",
        " 'prediastolic': ['psiloceratid'],\n",
        " 'psiloceratid': ['prediastolic'],\n",
        " 'sphacelation': ['lipsanotheca'],\n",
        " 'transoceanic': ['narcaciontes']}"
       ]
      }
     ],
     "prompt_number": 55
    },
    {
     "cell_type": "code",
     "collapsed": false,
     "input": [
      "bylen_perfect(11)"
     ],
     "language": "python",
     "metadata": {},
     "outputs": [
      {
       "metadata": {},
       "output_type": "pyout",
       "prompt_number": 56,
       "text": [
        "{'accelerator': ['retrocaecal'],\n",
        " 'adrenolytic': ['declinatory'],\n",
        " 'clitoridean': ['directional'],\n",
        " 'crenelation': ['intolerance'],\n",
        " 'declinatory': ['adrenolytic'],\n",
        " 'directional': ['clitoridean'],\n",
        " 'dispensable': ['piebaldness'],\n",
        " 'entoplastic': ['spinotectal'],\n",
        " 'esperantism': ['strepsinema'],\n",
        " 'hymnologist': ['smoothingly'],\n",
        " 'intersocial': ['orleanistic'],\n",
        " 'intolerance': ['crenelation'],\n",
        " 'laryngotome': ['maternology'],\n",
        " 'maternology': ['laryngotome'],\n",
        " 'neotropical': ['percolation'],\n",
        " 'orleanistic': ['intersocial'],\n",
        " 'pentameroid': ['predominate'],\n",
        " 'percolation': ['neotropical'],\n",
        " 'peripterous': ['prepositure'],\n",
        " 'piebaldness': ['dispensable'],\n",
        " 'polarimetry': ['premorality'],\n",
        " 'predominate': ['pentameroid'],\n",
        " 'premorality': ['polarimetry'],\n",
        " 'prepositure': ['peripterous'],\n",
        " 'reincrudate': ['untraceried'],\n",
        " 'retrocaecal': ['accelerator'],\n",
        " 'smoothingly': ['hymnologist'],\n",
        " 'spinotectal': ['entoplastic'],\n",
        " 'springhouse': ['surgeonship'],\n",
        " 'strepsinema': ['esperantism'],\n",
        " 'surgeonship': ['springhouse'],\n",
        " 'untraceried': ['reincrudate']}"
       ]
      }
     ],
     "prompt_number": 56
    },
    {
     "cell_type": "code",
     "collapsed": false,
     "input": [
      "bylen_perfect(10)"
     ],
     "language": "python",
     "metadata": {},
     "outputs": [
      {
       "metadata": {},
       "output_type": "pyout",
       "prompt_number": 57,
       "text": [
        "{'acetopyrin': ['capernoity'],\n",
        " 'acleistous': ['ossiculate'],\n",
        " 'admonisher': ['rhamnoside'],\n",
        " 'adulterine': ['laurentide'],\n",
        " 'antifouler': ['fluorinate'],\n",
        " 'antiseptic': ['psittacine'],\n",
        " 'arctoidean': ['dinocerata'],\n",
        " 'capernaite': ['paraenetic'],\n",
        " 'capernoity': ['acetopyrin'],\n",
        " 'carotenoid': ['decoration'],\n",
        " 'carotidean': ['dinocerata'],\n",
        " 'centimolar': ['melicraton'],\n",
        " 'ceremonial': ['neomiracle'],\n",
        " 'cetorhinus': ['urosthenic'],\n",
        " 'chromopsia': ['isocamphor'],\n",
        " 'chuprassie': ['haruspices'],\n",
        " 'citronella': ['interlocal'],\n",
        " 'clypeolate': ['ptyalocele'],\n",
        " 'cordaitean': ['dinocerata'],\n",
        " 'coresidual': ['radiculose'],\n",
        " 'crotalinae': ['laceration'],\n",
        " 'dacryolith': ['hydrotical'],\n",
        " 'deaconship': ['endophasic'],\n",
        " 'decoration': ['carotenoid'],\n",
        " 'depuration': ['portunidae'],\n",
        " 'dinocerata': ['arctoidean', 'carotidean', 'cordaitean'],\n",
        " 'discrepate': ['pederastic'],\n",
        " 'discretion': ['soricident'],\n",
        " 'disharmony': ['hydramnios'],\n",
        " 'doctorship': ['trophodisc'],\n",
        " 'endophasic': ['deaconship'],\n",
        " 'epharmonic': ['pinachrome'],\n",
        " 'fluorinate': ['antifouler'],\n",
        " 'genitorial': ['religation'],\n",
        " 'haruspices': ['chuprassie'],\n",
        " 'hydramnios': ['disharmony'],\n",
        " 'hydrotical': ['dacryolith'],\n",
        " 'hypodorian': ['radiophony'],\n",
        " 'importancy': ['patronymic'],\n",
        " 'impugnable': ['plumbagine'],\n",
        " 'interlocal': ['citronella'],\n",
        " 'iodocasein': ['oniscoidea'],\n",
        " 'isocamphor': ['chromopsia'],\n",
        " 'laceration': ['crotalinae'],\n",
        " 'laurentide': ['adulterine'],\n",
        " 'marcionite': ['microtinae'],\n",
        " 'melicraton': ['centimolar'],\n",
        " 'microtinae': ['marcionite'],\n",
        " 'mortacious': ['urosomatic'],\n",
        " 'mosandrite': ['tarsonemid'],\n",
        " 'neomiracle': ['ceremonial'],\n",
        " 'oniscoidea': ['iodocasein'],\n",
        " 'ossiculate': ['acleistous'],\n",
        " 'pachnolite': ['phonetical'],\n",
        " 'paraenetic': ['capernaite'],\n",
        " 'patronymic': ['importancy'],\n",
        " 'pederastic': ['discrepate'],\n",
        " 'persistent': ['prettiness'],\n",
        " 'phonetical': ['pachnolite'],\n",
        " 'physiocrat': ['psychotria'],\n",
        " 'phytometry': ['thermotypy'],\n",
        " 'pinachrome': ['epharmonic'],\n",
        " 'plumbagine': ['impugnable'],\n",
        " 'polypterus': ['suppletory'],\n",
        " 'portunidae': ['depuration'],\n",
        " 'postgenial': ['spangolite'],\n",
        " 'premusical': ['superclaim'],\n",
        " 'prettiness': ['persistent'],\n",
        " 'procnemial': ['recomplain'],\n",
        " 'psittacine': ['antiseptic'],\n",
        " 'psychotria': ['physiocrat'],\n",
        " 'ptyalocele': ['clypeolate'],\n",
        " 'puritaness': ['supersaint'],\n",
        " 'radiculose': ['coresidual'],\n",
        " 'radiophony': ['hypodorian'],\n",
        " 'recomplain': ['procnemial'],\n",
        " 'regulation': ['urogenital'],\n",
        " 'religation': ['genitorial'],\n",
        " 'renavigate': ['vegetarian'],\n",
        " 'rhamnoside': ['admonisher'],\n",
        " 'semivector': ['viscometer'],\n",
        " 'soricident': ['discretion'],\n",
        " 'spangolite': ['postgenial'],\n",
        " 'substernal': ['turbanless'],\n",
        " 'superclaim': ['premusical'],\n",
        " 'supersaint': ['puritaness'],\n",
        " 'supertotal': ['tetraplous'],\n",
        " 'suppletory': ['polypterus'],\n",
        " 'tarsonemid': ['mosandrite'],\n",
        " 'tetraplous': ['supertotal'],\n",
        " 'thermotypy': ['phytometry'],\n",
        " 'titleboard': ['trilobated'],\n",
        " 'trilobated': ['titleboard'],\n",
        " 'trophodisc': ['doctorship'],\n",
        " 'turbanless': ['substernal'],\n",
        " 'urogenital': ['regulation'],\n",
        " 'urosomatic': ['mortacious'],\n",
        " 'urosthenic': ['cetorhinus'],\n",
        " 'vegetarian': ['renavigate'],\n",
        " 'viscometer': ['semivector']}"
       ]
      }
     ],
     "prompt_number": 57
    },
    {
     "cell_type": "markdown",
     "metadata": {},
     "source": [
      "In this vocabulary, \"dinocerata\" (an extinct rhino-like mammal) is the shortest word to have more than one perfect anagram: \"arctoidean\" (extinct carnivorous mammals), \"carotidean\" (pertaining to the carotid), and \"cordaitean\" (extinct trees)."
     ]
    },
    {
     "cell_type": "heading",
     "level": 2,
     "metadata": {},
     "source": [
      "2.1 References and exercises"
     ]
    },
    {
     "cell_type": "heading",
     "level": 3,
     "metadata": {},
     "source": [
      "2.1.1 Python references and tutorials"
     ]
    },
    {
     "cell_type": "markdown",
     "metadata": {},
     "source": [
      "The standard (but very good) Python tutorial:\n",
      "\n",
      "* http://docs.python.org/tutorial\n",
      "\n",
      "In order of complexity, for scientific applications:\n",
      "\n",
      "* https://github.com/jrjohansson/scientific-python-lectures\n",
      "* https://scipy-lectures.github.io/index.html\n",
      "* http://nbviewer.ipython.org/gist/rpmuller/5920182\n",
      "\n",
      "Interesting (but incomplete) notes on software development with Python:\n",
      "\n",
      "* http://docs.python-guide.org/en/latest\n",
      "\n",
      "On Pythonic style:\n",
      "\n",
      "* http://python.net/~goodger/projects/pycon/2007/idiomatic/handout.html\n",
      "* http://docs.python-guide.org/en/latest/writing/style/\n",
      "\n",
      "Guido van Rossum's \"History of Python\" blog:\n",
      "\n",
      "* http://python-history.blogspot.com\n",
      "* Its introduction to Python: http://python-history.blogspot.com/2009/01/introduction-and-overview.html\n",
      "* Python's design principles: http://python-history.blogspot.com/2009/01/pythons-design-philosophy.html"
     ]
    },
    {
     "cell_type": "heading",
     "level": 3,
     "metadata": {},
     "source": [
      "2.1.2 Exercises"
     ]
    },
    {
     "cell_type": "markdown",
     "metadata": {},
     "source": [
      "**More ways to get pi**. The convergence of the arctan series is greatly improved by differencing two series in _Machin's formula_:\n",
      "\n",
      "$$\\frac{\\pi}{4} = 4 \\arctan\\left(\\frac{1}{5}\\right) - \\arctan\\left(\\frac{1}{239}\\right).$$\n",
      "\n",
      "The amazing [_Brent\u2013Salamin algorithm_][brent] is similar in spirit to Archimedes' exhaustion, but it _doubles_ the number of correct digits of pi with every iteration:\n",
      "\n",
      "$$a_{n+1} = \\frac{a_n + g_n}{2}, \\quad g_{n+1} = \\sqrt{a_n g_n}, \\quad d_n = a_n^2 - g_n^2,$$\n",
      "\n",
      "where you start with $a_0 = 1$, $g_0 = 1/\\sqrt{2}$, and then\n",
      "\n",
      "$$\\pi \\simeq \\frac{4 a_N^2}{1 - \\sum_{j=1}^N 2^{j+1} d_j}.$$\n",
      "\n",
      "Implement both algorithms using `mpmath`, and study their convergence. Or try implementing the modern and surprising [_spigot_][spigot] algorithm (this is more work).\n",
      "\n",
      "[brent]: http://mathworld.wolfram.com/Brent-SalaminFormula.html\n",
      "[spigot]: http://www.jstor.org/pss/2975006\n",
      "\n",
      "**The digits of pi**. Now that you can generate pi digits _ad libitum_, look for patterns in their sequence and distribution. For instance, verify whether the distribution is base-10 [normal][].\n",
      "\n",
      "[normal]: http://www.pi314.at/math/normal.html\n",
      "\n",
      "**Lazzarini's lucky hand**. In 1901, Mario Lazzarini claimed to have successfully determined $\\pi$ to _six digits_ (3.1415929) using 3,408 Buffon throws [@badger1994]. This seems unlikely: the number $C$ of throws that yield crossings is a [Poisson][] variable with mean and variance equal to $2 N/\\pi$, and propagating the error to $2N/C$ yields\n",
      "\n",
      "$$\\delta (2N/C) \\simeq 2N/C^2 \\delta C \\simeq \n",
      "\\frac{2N}{(2 N / \\pi)^2} \\sqrt{2 N/\\pi}\n",
      "\\simeq \\sqrt{\\frac{\\pi^3}{2 N}}.$$\n",
      "\n",
      "On this grounds alone, a few thousand throws should yield no more than one decimal digit. In addition, the number of throws (3,408) is very strange. Why not 3,500, or 4,000? The suspicion is that Lazzarini may have stopped throwing as soon as he chanced upon a lucky estimate, which is not fair, of course.\n",
      "\n",
      "So we ask the question: if we keep updating our estimate of $\\pi$ as we accumulate throws, how close is it likely to wander to the correct value? For exercise, adapt our code to determine the closest approach over a sequence of throws, and then run it repeatedly to understand the statistics of Lazzarini's cheat. In the light of those, do you think that his cheating was of an even worse kind?\n",
      "\n",
      "[Poisson]: http://en.wikipedia.org/wiki/Poisson_distribution\n",
      "\n",
      "**A score for anagrams**. Define the \"goodness\" of an anagram as the smallest number of substrings of a word that need to be rearranged to obtain its anagram. (For a \"perfect\" anagram as we defined it above, the score would be equal to the length of the word.) Write Python code to compute the goodness of a (word,anagram) pair. This will require substantial string gymnastics. Plot the average goodness score as a function of word length."
     ]
    }
   ],
   "metadata": {}
  }
 ]
}