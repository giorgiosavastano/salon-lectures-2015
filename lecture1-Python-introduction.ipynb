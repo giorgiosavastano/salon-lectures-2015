{
 "metadata": {
  "name": "",
  "signature": "sha256:c88dbf2abd9d7eebe59803819d12cbb0af3a731883d3fea9707d89ecb91e0e48"
 },
 "nbformat": 3,
 "nbformat_minor": 0,
 "worksheets": [
  {
   "cells": [
    {
     "cell_type": "heading",
     "level": 1,
     "metadata": {},
     "source": [
      "Salon2 Lecture 1 - Feb 3, 2015"
     ]
    },
    {
     "cell_type": "heading",
     "level": 2,
     "metadata": {},
     "source": [
      "0. The philosophy of the computational salon"
     ]
    },
    {
     "cell_type": "markdown",
     "metadata": {},
     "source": [
      "On learning by doing: \n",
      "\n",
      "* [Ericsson et al. 1993](http://graphics8.nytimes.com/images/blogs/freakonomics/pdf/DeliberatePractice%28PsychologicalReview%29.pdf) Psychological Review 100, 363-406 (_The Role of Deliberate Practice in the Acquisition of Expert Performance_): \"The maximal level of performance for individuals in a given domain is not attained automatically as a function of extended experience, but the level of performance can be increased even by highly experienced individuals as a result of deliberate efforts to improve. [...] The most effective learning requires a well-defined task with an appropriate difficulty level for the particular individual, informative feedback, and opportunities for repetition and corrections of errors.\"\n",
      "* Picasso: \"When art critics get together they talk about Form and Structure and Meaning. When artists get together they talk about where you can buy cheap turpentine.\" Venkatesh Rao on the (bad) [Turpentine Effect](http://www.ribbonfarm.com/2010/03/18/the-turpentine-effect). "
     ]
    },
    {
     "cell_type": "heading",
     "level": 2,
     "metadata": {},
     "source": [
      "1. Introduction to the beauty and power of Python"
     ]
    },
    {
     "cell_type": "markdown",
     "metadata": {},
     "source": [
      "Experimenting with [iPython notebook](http://ipython.org/notebook.html)...\n",
      "\n",
      "* Hit `Enter` to start writing in a cell; hit `Shift-Enter` to execute it and see the result.\n",
      "* You alternate between *edit mode*, where you change the content of cells, and *command mode*, where you work with full cells: you can add one with `a` or `b`, delete one with `dd`, change its type with `1`, `2`, `3`, `4` for titles, `y` for code, and `m` for [markdown](http://daringfireball.net/projects/markdown/syntax), a very terse formatting language good for documentation and even [formulas](http://www.mathjax.org/)."
     ]
    },
    {
     "cell_type": "code",
     "collapsed": false,
     "input": [
      "2+2"
     ],
     "language": "python",
     "metadata": {},
     "outputs": [
      {
       "metadata": {},
       "output_type": "pyout",
       "prompt_number": 1,
       "text": [
        "4"
       ]
      }
     ],
     "prompt_number": 1
    },
    {
     "cell_type": "markdown",
     "metadata": {},
     "source": [
      "Python contains its own mantras..."
     ]
    },
    {
     "cell_type": "code",
     "collapsed": false,
     "input": [
      "import this"
     ],
     "language": "python",
     "metadata": {},
     "outputs": [
      {
       "output_type": "stream",
       "stream": "stdout",
       "text": [
        "The Zen of Python, by Tim Peters\n",
        "\n",
        "Beautiful is better than ugly.\n",
        "Explicit is better than implicit.\n",
        "Simple is better than complex.\n",
        "Complex is better than complicated.\n",
        "Flat is better than nested.\n",
        "Sparse is better than dense.\n",
        "Readability counts.\n",
        "Special cases aren't special enough to break the rules.\n",
        "Although practicality beats purity.\n",
        "Errors should never pass silently.\n",
        "Unless explicitly silenced.\n",
        "In the face of ambiguity, refuse the temptation to guess.\n",
        "There should be one-- and preferably only one --obvious way to do it.\n",
        "Although that way may not be obvious at first unless you're Dutch.\n",
        "Now is better than never.\n",
        "Although never is often better than *right* now.\n",
        "If the implementation is hard to explain, it's a bad idea.\n",
        "If the implementation is easy to explain, it may be a good idea.\n",
        "Namespaces are one honking great idea -- let's do more of those!\n"
       ]
      }
     ],
     "prompt_number": 2
    },
    {
     "cell_type": "markdown",
     "metadata": {},
     "source": [
      "Technical characteristics of Python:\n",
      "\n",
      "* a general purpose, high-level, interpreted, object-oriented language\n",
      "* **strongly** but **dynamically** typed\n",
      "* **names**, not variables\n",
      "* **mutable** and **immutable** types\n",
      "* name-based **polymorphism** (duck typing)\n",
      "* automatic memory management\n",
      "* error management by exceptions (EAFP)\n",
      "* extensive standard library and third-party modules and packages"
     ]
    },
    {
     "cell_type": "markdown",
     "metadata": {},
     "source": [
      "Python features we will see today:\n",
      "\n",
      "* types and \"variables\"\n",
      "* loops\n",
      "* the print statement\n",
      "* lists, tuples, dictionaries\n",
      "* strings (a little)\n",
      "* list comprehensions and generator expressions\n",
      "* functions\n",
      "* import modules\n",
      "\n",
      "See [Johansson's tutorial](http://nbviewer.ipython.org/github/jrjohansson/scientific-python-lectures/blob/master/Lecture-1-Introduction-to-Python-Programming.ipynb) and the list of tutorials at the bottom of this document."
     ]
    },
    {
     "cell_type": "heading",
     "level": 3,
     "metadata": {},
     "source": [
      "1.1 Let's make pi.. and find the Feynman point"
     ]
    },
    {
     "cell_type": "markdown",
     "metadata": {},
     "source": [
      "> The Feynman point is a sequence of six 9s that begins at the 762nd decimal place of the decimal representation of \u03c0. It is named after physicist Richard Feynman, who once stated during a lecture he would like to memorize the digits of \u03c0 until that point, so he could recite them and quip \"nine nine nine nine nine nine and so on\" (wikipedia)"
     ]
    },
    {
     "cell_type": "heading",
     "level": 4,
     "metadata": {},
     "source": [
      "1.1.1 With the arctan series."
     ]
    },
    {
     "cell_type": "markdown",
     "metadata": {},
     "source": [
      "Leibniz\u2013Gregory 1668 series for the arctangent [@roy1990],\n",
      "\n",
      "$$\\arctan(x) = x - \\frac{x^3}{3} + \\frac{x^5}{5} - \\frac{x^7}{7} + \\cdots,$$\n",
      "\n",
      "(which follows, e.g., by starting with $\\arctan(x) = \\int dx/(1+x^2)$, using the geometric series $1/(1 + x^2) = \\sum_k x^{2k}$, and integrating) and therefore\n",
      "\n",
      "$$\\arctan(1) = \\frac{\\pi}{4} = 1 - \\frac{1}{3} + \\frac{1}{5} - \\frac{1}{7} \\cdots.$$"
     ]
    },
    {
     "cell_type": "markdown",
     "metadata": {},
     "source": [
      "As it would be in C (note the \"magic\" `%%file` that writes to a file in a sufficiently new iPython):"
     ]
    },
    {
     "cell_type": "code",
     "collapsed": false,
     "input": [
      "%%file piseries.c\n",
      "\n",
      "#include <stdio.h>\n",
      "#include <math.h>\n",
      "\n",
      "int main(int argc,char **argv) {\n",
      "    int terms = 100, n;\n",
      "    double acc = 0.0, pi;\n",
      "\n",
      "    for(n=0;n<terms;n++) {\n",
      "        /* could also do 1.0 - 2.0 * (n % 2) or (n % 2) ? -1.0 : 1.0  */\n",
      "        /* note that we need at least one float here otherwise we get integer division */\n",
      "        acc += pow(-1.0,n) / (2*n+1);\n",
      "    }\n",
      "\n",
      "    pi = 4 * acc;\n",
      "\n",
      "    printf(\"After %d terms, pi = %f\\n\",terms,pi);\n",
      "\n",
      "    return 0;\n",
      "}"
     ],
     "language": "python",
     "metadata": {},
     "outputs": [
      {
       "output_type": "stream",
       "stream": "stdout",
       "text": [
        "Overwriting piseries.c\n"
       ]
      }
     ],
     "prompt_number": 3
    },
    {
     "cell_type": "markdown",
     "metadata": {},
     "source": [
      "(Running shell commands with \"`!`\" in iPython.)"
     ]
    },
    {
     "cell_type": "code",
     "collapsed": false,
     "input": [
      "!gcc piseries.c -o piseries"
     ],
     "language": "python",
     "metadata": {},
     "outputs": [],
     "prompt_number": 4
    },
    {
     "cell_type": "code",
     "collapsed": false,
     "input": [
      "!./piseries"
     ],
     "language": "python",
     "metadata": {},
     "outputs": [
      {
       "output_type": "stream",
       "stream": "stdout",
       "text": [
        "After 100 terms, pi = 3.131593\r\n"
       ]
      }
     ],
     "prompt_number": 5
    },
    {
     "cell_type": "markdown",
     "metadata": {},
     "source": [
      "Let's take the C apart and see if we can come up with Python.\n",
      "\n",
      "* First, remove all braces; indentation is still sufficient to specify structure.\n",
      "* Next, remove also semicolons; line endings will do (backslash to continue).\n",
      "* The `int main` declaration is also superfluous, especially given that we don't take command-line arguments. Then we can indent everything back. So is the `return 0`.\n",
      "* In Python, there's no need to declare the type of variables, since it's determined at runtime.\n",
      "* The `for` line is not very expressive because it concerns us with the mechanics of the counter. We replace it with the more description Python form.\n",
      "* `pow` is just `**`, and we don't need `math.h` to use it.\n",
      "* `printf` becomes `print`, with rather similar syntax (a case where the Python designer thought it useful to rely on programmers' experience with C); it does not need `stdio.h` though, nor the final `\\n`."
     ]
    },
    {
     "cell_type": "code",
     "collapsed": false,
     "input": [
      "terms = 100\n",
      "acc = 0.0\n",
      "\n",
      "for n in range(terms):\n",
      "    acc += (-1.0)**n / (2*n+1)\n",
      "\n",
      "pi = 4 * acc\n",
      "\n",
      "print(\"After %d terms, pi = %f\" % (terms,pi))"
     ],
     "language": "python",
     "metadata": {},
     "outputs": [
      {
       "output_type": "stream",
       "stream": "stdout",
       "text": [
        "After 100 terms, pi = 3.131593\n"
       ]
      }
     ],
     "prompt_number": 6
    },
    {
     "cell_type": "markdown",
     "metadata": {},
     "source": [
      "This is much terser, but it's still influenced heavily by the programming logic that we need in C. We can make it more _Pythonic_ by using Python's built-in `sum`, and Python's _generator expression_ (an object that returns a sequence of other objects built from a rule)."
     ]
    },
    {
     "cell_type": "code",
     "collapsed": false,
     "input": [
      "terms = 100\n",
      "\n",
      "pi = 4 * sum((-1.0)**n / (2*n+1) for n in range(terms))\n",
      "\n",
      "print(\"After %d terms, pi = %f\" % (terms,pi))"
     ],
     "language": "python",
     "metadata": {},
     "outputs": [
      {
       "output_type": "stream",
       "stream": "stdout",
       "text": [
        "After 100 terms, pi = 3.131593\n"
       ]
      }
     ],
     "prompt_number": 7
    },
    {
     "cell_type": "markdown",
     "metadata": {},
     "source": [
      "If we make this into a function, we can have some fun with it, such as monitor its convergence."
     ]
    },
    {
     "cell_type": "code",
     "collapsed": false,
     "input": [
      "def pi_leibniz(terms):\n",
      "    return 4 * sum((-1.0)**n / (2*n+1) for n in range(terms))"
     ],
     "language": "python",
     "metadata": {},
     "outputs": [],
     "prompt_number": 8
    },
    {
     "cell_type": "markdown",
     "metadata": {},
     "source": [
      "We need to _import_ a couple of modules. `math` to give us the exact value of pi, and `matplotlib` to plot its error."
     ]
    },
    {
     "cell_type": "code",
     "collapsed": false,
     "input": [
      "import math\n",
      "import matplotlib.pyplot as mp"
     ],
     "language": "python",
     "metadata": {},
     "outputs": [],
     "prompt_number": 9
    },
    {
     "cell_type": "markdown",
     "metadata": {},
     "source": [
      "In iPython notebook, this magic makes sure that we can plot inside the notebook."
     ]
    },
    {
     "cell_type": "code",
     "collapsed": false,
     "input": [
      "%matplotlib inline"
     ],
     "language": "python",
     "metadata": {},
     "outputs": [],
     "prompt_number": 10
    },
    {
     "cell_type": "markdown",
     "metadata": {},
     "source": [
      "Here we use a _list comprehension_ to build a Python _list_ of the errors made in computing pi. "
     ]
    },
    {
     "cell_type": "code",
     "collapsed": false,
     "input": [
      "error_leibniz = [abs(pi_leibniz(i) - math.pi) for i in range(100)]\n",
      "\n",
      "mp.semilogy(error_leibniz)\n",
      "\n",
      "# show what we're plotting\n",
      "mp.xlabel('iteration')\n",
      "mp.ylabel('error')\n",
      "mp.title('pi with arctan series')"
     ],
     "language": "python",
     "metadata": {},
     "outputs": [
      {
       "metadata": {},
       "output_type": "pyout",
       "prompt_number": 12,
       "text": [
        "<matplotlib.text.Text at 0x1079f19e8>"
       ]
      },
      {
       "metadata": {},
       "output_type": "display_data",
       "png": "[encoded data removed]",
       "text": [
        "<matplotlib.figure.Figure at 0x1079ae358>"
       ]
      }
     ],
     "prompt_number": 12
    },
    {
     "cell_type": "markdown",
     "metadata": {},
     "source": [
      "Convergence is not so great! It's actually linear in the number of terms: the error decreases only as $k^{-1}$, since the $k$-th residual is bounded by $1/(2k+3)$. So the cost of new digits rises exponentially."
     ]
    },
    {
     "cell_type": "heading",
     "level": 4,
     "metadata": {},
     "source": [
      "1.1.2 With Archimedes' exhaustion principle"
     ]
    },
    {
     "cell_type": "markdown",
     "metadata": {},
     "source": [
      "To do better, we leave Leibniz and go back to Archimedes.\n",
      "\n",
      "It seems fitting that we start with the first known algorithm to do so, devised by none other than Archimedes (circa 287\u2013211 B.C.). He figured out that the perimeters of regular polygons inscribed and circumscribed around the unit circle would represent lower and higher bounds to $2\\pi$, of increasing accuracy as the number of sides increases. Using hexagons, the circumscribed semiperimeter comes to $a_0 = 2 \\sqrt{3}$, and the inscribed semiperimeter to $b_0 = 3$.\n",
      "\n",
      "[Here we include the figure `archimedes-1.png` in this directory using the Markdown syntax.]\n",
      "\n",
      "![Archimedes' geometric scheme to approximate $\\pi$.](./archimedes-1.png)\n",
      "\n",
      "Using only geometric reasoning, Archimedes' was able to work out the change in the two perimeters when the number of sides is doubled, and he applied this step four times (up to 96-gons), obtaining $b_4 < \\pi < a_4$, namely $\\frac{223}{71} < \\pi < \\frac{22}{7}$, or $3.1408 < \\pi < 3.1429$. Archimedes didn't have decimal numbers, which makes his work even more remarkable.[^1]\n",
      "The iterative nature of the algorithm makes it possible to compute $\\pi$ (at least in principle) to any precision, and it can be rightfully said to mark the birth of both numerical and error analysis. Indeed, Archimedes' process of _exhaustion_ anticipates modern integration... but that's another story."
     ]
    },
    {
     "cell_type": "markdown",
     "metadata": {},
     "source": [
      "From a modern viewpoint, it is hard to resist using trigonometry to reproduce Archimedes' doubling step, which in fact makes it quite painless. Given the perimeters\n",
      "\n",
      "$$a_n = 6 \\times 2^n \\, \\tan \\theta_n, \\quad\n",
      "b_n = 6 \\times 2^n \\, \\sin \\theta_n, \\quad\n",
      "\\theta_n = \\frac{\\pi}{6 \\times 2^n},$$\n",
      "\n",
      "we need to find $a_{n+1}$ and $b_{n+1}$ given $a_n$, $b_n$. A quick look at our high-school trigonometry book suggests the bisection formulas,\n",
      "\n",
      "$$\\tan \\theta_{n+1} = \\tan(\\theta_n/2) = \\frac{\\sin \\theta_n}{1 + \\cos \\theta_n}, \\quad\n",
      "\\sin \\theta_{n+1} = \\sin(\\theta_n/2) = \\pm \\sqrt{\\frac{1 - \\cos \\theta_n}{2}};$$\n",
      "\n",
      "and after some rumination, we succeed in assembling\n",
      "\n",
      "$$a_{n+1} = \\frac{2 a_n b_n}{a_n + b_n}, \\quad\n",
      "b_{n+1} = \\sqrt{a_{n+1} b_n}.$$\n",
      "\n",
      "The iteration can be seeded with the hexagon ($\\theta_0 = \\pi/6$, $a_n = 2 \\sqrt{3}$, $b_n = 3$)."
     ]
    },
    {
     "cell_type": "code",
     "collapsed": false,
     "input": [
      "def pi_archimedes(iters):\n",
      "    a, b = 2 * math.sqrt(3), 3    # tuple unpacking\n",
      "        \n",
      "    for i in range(iters):        # iterate from i = 0 to n-1, C-style\n",
      "        a = 2 * a * b  / (a + b)\n",
      "        b = math.sqrt(a * b)\n",
      "        \n",
      "    return a                      # return the higher bound"
     ],
     "language": "python",
     "metadata": {},
     "outputs": [],
     "prompt_number": 16
    },
    {
     "cell_type": "markdown",
     "metadata": {},
     "source": [
      "Nice!"
     ]
    },
    {
     "cell_type": "code",
     "collapsed": false,
     "input": [
      "pi_archimedes(10)"
     ],
     "language": "python",
     "metadata": {},
     "outputs": [
      {
       "metadata": {},
       "output_type": "pyout",
       "prompt_number": 17,
       "text": [
        "3.1415929273850964"
       ]
      }
     ],
     "prompt_number": 17
    },
    {
     "cell_type": "markdown",
     "metadata": {},
     "source": [
      "If we want to be more Pythonic, we can define an iterator operator/function, and apply it repeatedly. Here we learn that functions are _first-class objects_ in Python... and also about _tuples_."
     ]
    },
    {
     "cell_type": "code",
     "collapsed": false,
     "input": [
      "def iteration_archimedes(a,b):\n",
      "    a = 2 * a * b  / (a + b)\n",
      "    b = math.sqrt(a * b)\n",
      "    \n",
      "    return a,b          # return a,b as a tuple\n",
      "\n",
      "\n",
      "# a generic function to iterate function \"func\" n times, starting from x\n",
      "def iterate(func,x,n):\n",
      "    for i in range(n):\n",
      "        x = func(*x)    # Python idiom to unpack the tuple x into individual arguments\n",
      "        \n",
      "    return x\n",
      "\n",
      "def pi_archimedes2(iters):\n",
      "    a, b = iterate(iteration_archimedes,(2*math.sqrt(3),3),iters)\n",
      "    return a"
     ],
     "language": "python",
     "metadata": {},
     "outputs": [],
     "prompt_number": 39
    },
    {
     "cell_type": "markdown",
     "metadata": {},
     "source": [
      "Note however that `iterate` wouldn't work on functions with a single argument, because it won't be able to unpack it."
     ]
    },
    {
     "cell_type": "code",
     "collapsed": false,
     "input": [
      "def square(x):\n",
      "    return x*x\n",
      "\n",
      "iterate(square,2,4)"
     ],
     "language": "python",
     "metadata": {},
     "outputs": [
      {
       "ename": "TypeError",
       "evalue": "square() argument after * must be a sequence, not int",
       "output_type": "pyerr",
       "traceback": [
        "\u001b[0;31m---------------------------------------------------------------------------\u001b[0m\n\u001b[0;31mTypeError\u001b[0m                                 Traceback (most recent call last)",
        "\u001b[0;32m<ipython-input-40-77c836abcd39>\u001b[0m in \u001b[0;36m<module>\u001b[0;34m()\u001b[0m\n\u001b[1;32m      2\u001b[0m     \u001b[0;32mreturn\u001b[0m \u001b[0mx\u001b[0m\u001b[0;34m*\u001b[0m\u001b[0mx\u001b[0m\u001b[0;34m\u001b[0m\u001b[0m\n\u001b[1;32m      3\u001b[0m \u001b[0;34m\u001b[0m\u001b[0m\n\u001b[0;32m----> 4\u001b[0;31m \u001b[0miterate\u001b[0m\u001b[0;34m(\u001b[0m\u001b[0msquare\u001b[0m\u001b[0;34m,\u001b[0m\u001b[0;36m2\u001b[0m\u001b[0;34m,\u001b[0m\u001b[0;36m4\u001b[0m\u001b[0;34m)\u001b[0m\u001b[0;34m\u001b[0m\u001b[0m\n\u001b[0m",
        "\u001b[0;32m<ipython-input-39-81c89aa5fef2>\u001b[0m in \u001b[0;36miterate\u001b[0;34m(func, x, n)\u001b[0m\n\u001b[1;32m      9\u001b[0m \u001b[0;32mdef\u001b[0m \u001b[0miterate\u001b[0m\u001b[0;34m(\u001b[0m\u001b[0mfunc\u001b[0m\u001b[0;34m,\u001b[0m\u001b[0mx\u001b[0m\u001b[0;34m,\u001b[0m\u001b[0mn\u001b[0m\u001b[0;34m)\u001b[0m\u001b[0;34m:\u001b[0m\u001b[0;34m\u001b[0m\u001b[0m\n\u001b[1;32m     10\u001b[0m     \u001b[0;32mfor\u001b[0m \u001b[0mi\u001b[0m \u001b[0;32min\u001b[0m \u001b[0mrange\u001b[0m\u001b[0;34m(\u001b[0m\u001b[0mn\u001b[0m\u001b[0;34m)\u001b[0m\u001b[0;34m:\u001b[0m\u001b[0;34m\u001b[0m\u001b[0m\n\u001b[0;32m---> 11\u001b[0;31m         \u001b[0mx\u001b[0m \u001b[0;34m=\u001b[0m \u001b[0mfunc\u001b[0m\u001b[0;34m(\u001b[0m\u001b[0;34m*\u001b[0m\u001b[0mx\u001b[0m\u001b[0;34m)\u001b[0m    \u001b[0;31m# Python idiom to unpack the tuple x into individual arguments\u001b[0m\u001b[0;34m\u001b[0m\u001b[0m\n\u001b[0m\u001b[1;32m     12\u001b[0m \u001b[0;34m\u001b[0m\u001b[0m\n\u001b[1;32m     13\u001b[0m     \u001b[0;32mreturn\u001b[0m \u001b[0mx\u001b[0m\u001b[0;34m\u001b[0m\u001b[0m\n",
        "\u001b[0;31mTypeError\u001b[0m: square() argument after * must be a sequence, not int"
       ]
      }
     ],
     "prompt_number": 40
    },
    {
     "cell_type": "markdown",
     "metadata": {},
     "source": [
      "For that we need a slightly more verbose iterator:"
     ]
    },
    {
     "cell_type": "code",
     "collapsed": false,
     "input": [
      "def iterate2(func,x,n):\n",
      "    for i in range(n):\n",
      "        x = func(*x) if isinstance(x,tuple) else func(x)\n",
      "        \n",
      "    return x\n",
      "\n",
      "iterate2(square,2,5)"
     ],
     "language": "python",
     "metadata": {},
     "outputs": [
      {
       "metadata": {},
       "output_type": "pyout",
       "prompt_number": 42,
       "text": [
        "4294967296"
       ]
      }
     ],
     "prompt_number": 42
    },
    {
     "cell_type": "markdown",
     "metadata": {},
     "source": [
      "Back to Archimedes iteration, its convergence is very fast! But it saturates at an error of $10^{-15}$, because Python uses double precision floating point numbers. Not enough to find the Feynman point!"
     ]
    },
    {
     "cell_type": "code",
     "collapsed": false,
     "input": [
      "error_archimedes = [abs(pi_archimedes(i) - math.pi) for i in range(100)]\n",
      "\n",
      "mp.semilogy(error_leibniz)\n",
      "mp.semilogy(error_archimedes)\n",
      "\n",
      "# show what we're plotting\n",
      "mp.xlabel('iteration')\n",
      "mp.ylabel('error')\n",
      "mp.legend(['arctan','archimedes'],loc='center right')"
     ],
     "language": "python",
     "metadata": {},
     "outputs": [
      {
       "metadata": {},
       "output_type": "pyout",
       "prompt_number": 43,
       "text": [
        "<matplotlib.legend.Legend at 0x10842e438>"
       ]
      },
      {
       "metadata": {},
       "output_type": "display_data",
       "png": "[encoded data removed]",
       "text": [
        "<matplotlib.figure.Figure at 0x109bd1320>"
       ]
      }
     ],
     "prompt_number": 43
    },
    {
     "cell_type": "markdown",
     "metadata": {},
     "source": [
      "To get more digits, we can appeal to the \"batteries included\" quality of Python; the quick Googling of \"python arbitrary precision arithmetics\" (which is what we need) yields a link to `mpmath`. Perusing that webpage (http://mpmath.org) convinces us of the credentials of that package. We install it with `pip` (https://pip.pypa.io/en/latest/)."
     ]
    },
    {
     "cell_type": "code",
     "collapsed": false,
     "input": [
      "!pip install mpmath"
     ],
     "language": "python",
     "metadata": {},
     "outputs": [
      {
       "output_type": "stream",
       "stream": "stdout",
       "text": [
        "Downloading/unpacking mpmath\r\n"
       ]
      },
      {
       "output_type": "stream",
       "stream": "stdout",
       "text": [
        "  Downloading mpmath-0.19.tar.gz (498kB): \r",
        "  Downloading mpmath-0.19.tar.gz (498kB):   0%  4.1kB\r",
        "  Downloading mpmath-0.19.tar.gz (498kB):   1%  8.2kB\r",
        "  Downloading mpmath-0.19.tar.gz (498kB):   2%  12kB \r",
        "  Downloading mpmath-0.19.tar.gz (498kB):   3%  16kB\r",
        "  Downloading mpmath-0.19.tar.gz (498kB):   4%  20kB\r",
        "  Downloading mpmath-0.19.tar.gz (498kB):   4%  24kB\r",
        "  Downloading mpmath-0.19.tar.gz (498kB):   5%  28kB\r",
        "  Downloading mpmath-0.19.tar.gz (498kB):   6%  32kB\r",
        "  Downloading mpmath-0.19.tar.gz (498kB):   7%  36kB\r",
        "  Downloading mpmath-0.19.tar.gz (498kB):   8%  40kB\r",
        "  Downloading mpmath-0.19.tar.gz (498kB):   9%  45kB\r",
        "  Downloading mpmath-0.19.tar.gz (498kB):   9%  49kB\r",
        "  Downloading mpmath-0.19.tar.gz (498kB):  10%  53kB\r",
        "  Downloading mpmath-0.19.tar.gz (498kB):  11%  57kB\r",
        "  Downloading mpmath-0.19.tar.gz (498kB):  12%  61kB"
       ]
      },
      {
       "output_type": "stream",
       "stream": "stdout",
       "text": [
        "\r",
        "  Downloading mpmath-0.19.tar.gz (498kB):  13%  65kB\r",
        "  Downloading mpmath-0.19.tar.gz (498kB):  13%  69kB\r",
        "  Downloading mpmath-0.19.tar.gz (498kB):  14%  73kB\r",
        "  Downloading mpmath-0.19.tar.gz (498kB):  15%  77kB\r",
        "  Downloading mpmath-0.19.tar.gz (498kB):  16%  81kB\r",
        "  Downloading mpmath-0.19.tar.gz (498kB):  17%  86kB\r",
        "  Downloading mpmath-0.19.tar.gz (498kB):  18%  90kB\r",
        "  Downloading mpmath-0.19.tar.gz (498kB):  18%  94kB\r",
        "  Downloading mpmath-0.19.tar.gz (498kB):  19%  98kB\r",
        "  Downloading mpmath-0.19.tar.gz (498kB):  20%  102kB\r",
        "  Downloading mpmath-0.19.tar.gz (498kB):  21%  106kB\r",
        "  Downloading mpmath-0.19.tar.gz (498kB):  22%  110kB\r",
        "  Downloading mpmath-0.19.tar.gz (498kB):  23%  114kB\r",
        "  Downloading mpmath-0.19.tar.gz (498kB):  23%  118kB\r",
        "  Downloading mpmath-0.19.tar.gz (498kB):  24%  122kB\r",
        "  Downloading mpmath-0.19.tar.gz (498kB):  25%  126kB\r",
        "  Downloading mpmath-0.19.tar.gz (498kB):  26%  131kB\r",
        "  Downloading mpmath-0.19.tar.gz (498kB):  27%  135kB\r",
        "  Downloading mpmath-0.19.tar.gz (498kB):  27%  139kB\r",
        "  Downloading mpmath-0.19.tar.gz (498kB):  28%  143kB\r",
        "  Downloading mpmath-0.19.tar.gz (498kB):  29%  147kB\r",
        "  Downloading mpmath-0.19.tar.gz (498kB):  30%  151kB\r",
        "  Downloading mpmath-0.19.tar.gz (498kB):  31%  155kB\r",
        "  Downloading mpmath-0.19.tar.gz (498kB):  32%  159kB\r",
        "  Downloading mpmath-0.19.tar.gz (498kB):  32%  163kB\r",
        "  Downloading mpmath-0.19.tar.gz (498kB):  33%  167kB\r",
        "  Downloading mpmath-0.19.tar.gz (498kB):  34%  172kB\r",
        "  Downloading mpmath-0.19.tar.gz (498kB):  35%  176kB\r",
        "  Downloading mpmath-0.19.tar.gz (498kB):  36%  180kB\r",
        "  Downloading mpmath-0.19.tar.gz (498kB):  36%  184kB\r",
        "  Downloading mpmath-0.19.tar.gz (498kB):  37%  188kB\r",
        "  Downloading mpmath-0.19.tar.gz (498kB):  38%  192kB\r",
        "  Downloading mpmath-0.19.tar.gz (498kB):  39%  196kB"
       ]
      },
      {
       "output_type": "stream",
       "stream": "stdout",
       "text": [
        "\r",
        "  Downloading mpmath-0.19.tar.gz (498kB):  40%  200kB\r",
        "  Downloading mpmath-0.19.tar.gz (498kB):  41%  204kB\r",
        "  Downloading mpmath-0.19.tar.gz (498kB):  41%  208kB\r",
        "  Downloading mpmath-0.19.tar.gz (498kB):  42%  212kB\r",
        "  Downloading mpmath-0.19.tar.gz (498kB):  43%  217kB\r",
        "  Downloading mpmath-0.19.tar.gz (498kB):  44%  221kB\r",
        "  Downloading mpmath-0.19.tar.gz (498kB):  45%  225kB\r",
        "  Downloading mpmath-0.19.tar.gz (498kB):  46%  229kB\r",
        "  Downloading mpmath-0.19.tar.gz (498kB):  46%  233kB\r",
        "  Downloading mpmath-0.19.tar.gz (498kB):  47%  237kB\r",
        "  Downloading mpmath-0.19.tar.gz (498kB):  48%  241kB\r",
        "  Downloading mpmath-0.19.tar.gz (498kB):  49%  245kB\r",
        "  Downloading mpmath-0.19.tar.gz (498kB):  50%  249kB\r",
        "  Downloading mpmath-0.19.tar.gz (498kB):  50%  253kB\r",
        "  Downloading mpmath-0.19.tar.gz (498kB):  51%  258kB\r",
        "  Downloading mpmath-0.19.tar.gz (498kB):  52%  262kB\r",
        "  Downloading mpmath-0.19.tar.gz (498kB):  53%  266kB\r",
        "  Downloading mpmath-0.19.tar.gz (498kB):  54%  270kB\r",
        "  Downloading mpmath-0.19.tar.gz (498kB):  55%  274kB\r",
        "  Downloading mpmath-0.19.tar.gz (498kB):  55%  278kB\r",
        "  Downloading mpmath-0.19.tar.gz (498kB):  56%  282kB\r",
        "  Downloading mpmath-0.19.tar.gz (498kB):  57%  286kB\r",
        "  Downloading mpmath-0.19.tar.gz (498kB):  58%  290kB\r",
        "  Downloading mpmath-0.19.tar.gz (498kB):  59%  294kB\r",
        "  Downloading mpmath-0.19.tar.gz (498kB):  59%  299kB\r",
        "  Downloading mpmath-0.19.tar.gz (498kB):  60%  303kB\r",
        "  Downloading mpmath-0.19.tar.gz (498kB):  61%  307kB\r",
        "  Downloading mpmath-0.19.tar.gz (498kB):  62%  311kB"
       ]
      },
      {
       "output_type": "stream",
       "stream": "stdout",
       "text": [
        "\r",
        "  Downloading mpmath-0.19.tar.gz (498kB):  63%  315kB\r",
        "  Downloading mpmath-0.19.tar.gz (498kB):  64%  319kB\r",
        "  Downloading mpmath-0.19.tar.gz (498kB):  64%  323kB\r",
        "  Downloading mpmath-0.19.tar.gz (498kB):  65%  327kB\r",
        "  Downloading mpmath-0.19.tar.gz (498kB):  66%  331kB\r",
        "  Downloading mpmath-0.19.tar.gz (498kB):  67%  335kB\r",
        "  Downloading mpmath-0.19.tar.gz (498kB):  68%  339kB\r",
        "  Downloading mpmath-0.19.tar.gz (498kB):  69%  344kB\r",
        "  Downloading mpmath-0.19.tar.gz (498kB):  69%  348kB\r",
        "  Downloading mpmath-0.19.tar.gz (498kB):  70%  352kB\r",
        "  Downloading mpmath-0.19.tar.gz (498kB):  71%  356kB\r",
        "  Downloading mpmath-0.19.tar.gz (498kB):  72%  360kB\r",
        "  Downloading mpmath-0.19.tar.gz (498kB):  73%  364kB\r",
        "  Downloading mpmath-0.19.tar.gz (498kB):  73%  368kB\r",
        "  Downloading mpmath-0.19.tar.gz (498kB):  74%  372kB\r",
        "  Downloading mpmath-0.19.tar.gz (498kB):  75%  376kB\r",
        "  Downloading mpmath-0.19.tar.gz (498kB):  76%  380kB\r",
        "  Downloading mpmath-0.19.tar.gz (498kB):  77%  385kB\r",
        "  Downloading mpmath-0.19.tar.gz (498kB):  78%  389kB\r",
        "  Downloading mpmath-0.19.tar.gz (498kB):  78%  393kB\r",
        "  Downloading mpmath-0.19.tar.gz (498kB):  79%  397kB\r",
        "  Downloading mpmath-0.19.tar.gz (498kB):  80%  401kB\r",
        "  Downloading mpmath-0.19.tar.gz (498kB):  81%  405kB\r",
        "  Downloading mpmath-0.19.tar.gz (498kB):  82%  409kB\r",
        "  Downloading mpmath-0.19.tar.gz (498kB):  82%  413kB\r",
        "  Downloading mpmath-0.19.tar.gz (498kB):  83%  417kB\r",
        "  Downloading mpmath-0.19.tar.gz (498kB):  84%  421kB\r",
        "  Downloading mpmath-0.19.tar.gz (498kB):  85%  425kB\r",
        "  Downloading mpmath-0.19.tar.gz (498kB):  86%  430kB\r",
        "  Downloading mpmath-0.19.tar.gz (498kB):  87%  434kB\r",
        "  Downloading mpmath-0.19.tar.gz (498kB):  87%  438kB\r",
        "  Downloading mpmath-0.19.tar.gz (498kB):  88%  442kB"
       ]
      },
      {
       "output_type": "stream",
       "stream": "stdout",
       "text": [
        "\r",
        "  Downloading mpmath-0.19.tar.gz (498kB):  89%  446kB\r",
        "  Downloading mpmath-0.19.tar.gz (498kB):  90%  450kB\r",
        "  Downloading mpmath-0.19.tar.gz (498kB):  91%  454kB\r",
        "  Downloading mpmath-0.19.tar.gz (498kB):  92%  458kB\r",
        "  Downloading mpmath-0.19.tar.gz (498kB):  92%  462kB\r",
        "  Downloading mpmath-0.19.tar.gz (498kB):  93%  466kB\r",
        "  Downloading mpmath-0.19.tar.gz (498kB):  94%  471kB\r",
        "  Downloading mpmath-0.19.tar.gz (498kB):  95%  475kB\r",
        "  Downloading mpmath-0.19.tar.gz (498kB):  96%  479kB\r",
        "  Downloading mpmath-0.19.tar.gz (498kB):  96%  483kB\r",
        "  Downloading mpmath-0.19.tar.gz (498kB):  97%  487kB\r",
        "  Downloading mpmath-0.19.tar.gz (498kB):  98%  491kB\r",
        "  Downloading mpmath-0.19.tar.gz (498kB):  99%  495kB\r",
        "  Downloading mpmath-0.19.tar.gz (498kB): 100%  498kB\r",
        "  Downloading mpmath-0.19.tar.gz (498kB):            \r",
        "  Downloading mpmath-0.19.tar.gz (498kB): 498kB downloaded\r\n"
       ]
      },
      {
       "output_type": "stream",
       "stream": "stdout",
       "text": [
        "  Running setup.py (path:/private/var/folders/tw/klvh1ns95x54x574_hjzg33r0000gn/T/pip_build_vallis/mpmath/setup.py) egg_info for package mpmath\r\n"
       ]
      },
      {
       "output_type": "stream",
       "stream": "stdout",
       "text": [
        "    \r\n"
       ]
      },
      {
       "output_type": "stream",
       "stream": "stdout",
       "text": [
        "Installing collected packages: mpmath\r\n",
        "  Running setup.py install for mpmath\r\n"
       ]
      },
      {
       "output_type": "stream",
       "stream": "stdout",
       "text": [
        "    \r\n"
       ]
      },
      {
       "output_type": "stream",
       "stream": "stdout",
       "text": [
        "Successfully installed mpmath\r\n",
        "Cleaning up...\r\n"
       ]
      }
     ],
     "prompt_number": 21
    },
    {
     "cell_type": "markdown",
     "metadata": {},
     "source": [
      "`mpmath` provides replacements for most math functions, and allows us to create a higher-precision float using `mpf`. The digits of precision are set by `mpmath.mp.dps`."
     ]
    },
    {
     "cell_type": "code",
     "collapsed": false,
     "input": [
      "math.exp(10.0)"
     ],
     "language": "python",
     "metadata": {},
     "outputs": [
      {
       "metadata": {},
       "output_type": "pyout",
       "prompt_number": 44,
       "text": [
        "22026.465794806718"
       ]
      }
     ],
     "prompt_number": 44
    },
    {
     "cell_type": "code",
     "collapsed": false,
     "input": [
      "import mpmath\n",
      "\n",
      "mpmath.mp.dps = 30\n",
      "\n",
      "a = mpmath.mpf(10.0)\n",
      "mpmath.exp(a)"
     ],
     "language": "python",
     "metadata": {},
     "outputs": [
      {
       "metadata": {},
       "output_type": "pyout",
       "prompt_number": 45,
       "text": [
        "mpf('22026.4657948067165169579006452833')"
       ]
      }
     ],
     "prompt_number": 45
    },
    {
     "cell_type": "markdown",
     "metadata": {},
     "source": [
      "Moreover, the `mpmath`ness of the `mpf` objects is contagious:"
     ]
    },
    {
     "cell_type": "code",
     "collapsed": false,
     "input": [
      "mpmath.mpf(2.0) + 2.0"
     ],
     "language": "python",
     "metadata": {},
     "outputs": [
      {
       "metadata": {},
       "output_type": "pyout",
       "prompt_number": 46,
       "text": [
        "mpf('4.0')"
       ]
      }
     ],
     "prompt_number": 46
    },
    {
     "cell_type": "markdown",
     "metadata": {},
     "source": [
      "This means that we need only a tiny modification to our iteration code, which seeds it with an `mpf` object, and which replaces the `sqrt` function:"
     ]
    },
    {
     "cell_type": "code",
     "collapsed": false,
     "input": [
      "def iteration_archimedes_mpmath(a,b):\n",
      "    a = 2 * a * b  / (a + b)\n",
      "    b = mpmath.sqrt(a * b)\n",
      "    \n",
      "    # return a,b as a tuple\n",
      "    return a,b\n",
      "\n",
      "def pi_archimedes_mpmath(iters):\n",
      "    a, b = iterate(iteration_archimedes_mpmath,(2*mpmath.sqrt(3),3),iters)\n",
      "    return a"
     ],
     "language": "python",
     "metadata": {},
     "outputs": [],
     "prompt_number": 47
    },
    {
     "cell_type": "code",
     "collapsed": false,
     "input": [
      "mpmath.mp.dps = 1000"
     ],
     "language": "python",
     "metadata": {},
     "outputs": [],
     "prompt_number": 48
    },
    {
     "cell_type": "code",
     "collapsed": false,
     "input": [
      "error_archimedes_mpmath = [abs(pi_archimedes_mpmath(i) - mpmath.pi) for i in range(100)]\n",
      "\n",
      "mp.semilogy(error_leibniz)\n",
      "mp.semilogy(error_archimedes)\n",
      "mp.semilogy(error_archimedes_mpmath)\n",
      "\n",
      "# show what we're plotting\n",
      "mp.xlabel('iteration')\n",
      "mp.ylabel('error')\n",
      "mp.legend(['arctan','archimedes','mpmath'],loc='center right')"
     ],
     "language": "python",
     "metadata": {},
     "outputs": [
      {
       "metadata": {},
       "output_type": "pyout",
       "prompt_number": 49,
       "text": [
        "<matplotlib.legend.Legend at 0x109d52d68>"
       ]
      },
      {
       "metadata": {},
       "output_type": "display_data",
       "png": "[encoded data removed]",
       "text": [
        "<matplotlib.figure.Figure at 0x10a0d7128>"
       ]
      }
     ],
     "prompt_number": 49
    },
    {
     "cell_type": "heading",
     "level": 4,
     "metadata": {},
     "source": [
      "1.1.3 Find Feynman's point"
     ]
    },
    {
     "cell_type": "markdown",
     "metadata": {},
     "source": [
      "To find Feynman's point, we convert the `mpf` to a string with the `str` constructor, and use the string method `find` to yield the position where the six nines begin."
     ]
    },
    {
     "cell_type": "code",
     "collapsed": false,
     "input": [
      "pi_archimedes_mpmath(1500)"
     ],
     "language": "python",
     "metadata": {},
     "outputs": [
      {
       "metadata": {},
       "output_type": "pyout",
       "prompt_number": 50,
       "text": [
        "mpf('3.141592653589793238462643383279502884197169399375105820974944592307816406286208998628034825342117067982148086513282306647093844609550582231725359408128481117450284102701938521105559644622948954930381964428810975665933446128475648233786783165271201909145648566923460348610454326648213393607260249141273724587006606315588174881520920962829254091715364367892590360011330530548820466521384146951941511609433057270365759591953092186117381932611793105118548074462379962749567351885752724891227938183011949129833673362440656643086021394946395224737190702179860943702770539217176293176752384674818467669405132000568127145263560827785771342757789609173637178721468440901224953430146549585371050792279689258923542019956112129021960864034418159813629774771309960518707211349999998372978049951059731732816096318595024459455346908302642522308253344685035261931188171010003137838752886587533208381420617177669147303598486857121064092774915854716387423296376442498044366963837290348746006879381498024826916267900427369')"
       ]
      }
     ],
     "prompt_number": 50
    },
    {
     "cell_type": "code",
     "collapsed": false,
     "input": [
      "# find '999999'; we add one two the resulting index to account for Python's\n",
      "# zero indexing, and subtract two to account for the initial \"3.\"\n",
      "str(pi_archimedes_mpmath(1500)).find('999999') - 1"
     ],
     "language": "python",
     "metadata": {},
     "outputs": [
      {
       "metadata": {},
       "output_type": "pyout",
       "prompt_number": 52,
       "text": [
        "762"
       ]
      }
     ],
     "prompt_number": 52
    },
    {
     "cell_type": "heading",
     "level": 4,
     "metadata": {},
     "source": [
      "1.1.4 In-class exercises"
     ]
    },
    {
     "cell_type": "markdown",
     "metadata": {},
     "source": [
      "Compute pi using Machin's formula\n",
      "\n",
      "$$\\frac{\\pi}{4} = 4 \\arctan{\\frac{1}{5}} - \\arctan{\\frac{1}{239}}$$\n",
      "\n",
      "and plot its convergence."
     ]
    },
    {
     "cell_type": "markdown",
     "metadata": {},
     "source": [
      "**And/or** compute pi using Brent\u2013Salamin recursion\n",
      "\n",
      "$$\n",
      "\\left\\{\\begin{array}{l} a_0 = 1 \\\\ g_0 = \\frac{1}{\\sqrt{2}} \\end{array}\\right. \\quad\n",
      "\\left\\{\\begin{array}{l} a_{n+1} = \\frac{a_n + g_n}{2} \\\\ g_{n+1} = \\sqrt{a_n g_n} \\end{array}\\right.\n",
      "$$\n",
      "\n",
      "and\n",
      "\n",
      "$$\n",
      "\\pi \\simeq \\frac{4 a_n^2}{1 - \\sum_{j=1}^n 2^{j+1} d_j} \\quad \\text{with} \\quad\n",
      "d_n = a_n^2 - g^2_n.\n",
      "$$"
     ]
    },
    {
     "cell_type": "heading",
     "level": 3,
     "metadata": {},
     "source": [
      "1.2 References and homework"
     ]
    },
    {
     "cell_type": "markdown",
     "metadata": {},
     "source": [
      "Even _Nature_ [endorses Python](http://www.nature.com/news/programming-pick-up-python-1.16833) as _the_ language for scientific computing!"
     ]
    },
    {
     "cell_type": "heading",
     "level": 4,
     "metadata": {},
     "source": [
      "1.2.1 Python references and tutorials"
     ]
    },
    {
     "cell_type": "markdown",
     "metadata": {},
     "source": [
      "The standard (but very good) Python tutorial:\n",
      "\n",
      "* http://docs.python.org/tutorial\n",
      "\n",
      "In order of complexity, for scientific applications:\n",
      "\n",
      "* https://github.com/jrjohansson/scientific-python-lectures\n",
      "* https://scipy-lectures.github.io/index.html\n",
      "* http://nbviewer.ipython.org/gist/rpmuller/5920182\n",
      "\n",
      "Interesting (but incomplete) notes on software development with Python:\n",
      "\n",
      "* http://docs.python-guide.org/en/latest\n",
      "\n",
      "On Pythonic style:\n",
      "\n",
      "* http://python.net/~goodger/projects/pycon/2007/idiomatic/handout.html\n",
      "* http://docs.python-guide.org/en/latest/writing/style/\n",
      "\n",
      "Guido van Rossum's \"History of Python\" blog:\n",
      "\n",
      "* http://python-history.blogspot.com\n",
      "* Its introduction to Python: http://python-history.blogspot.com/2009/01/introduction-and-overview.html\n",
      "* Python's design principles: http://python-history.blogspot.com/2009/01/pythons-design-philosophy.html"
     ]
    },
    {
     "cell_type": "heading",
     "level": 4,
     "metadata": {},
     "source": [
      "1.2.2 Homework: anagrams"
     ]
    },
    {
     "cell_type": "markdown",
     "metadata": {},
     "source": [
      "Using a dictionary of English words:\n",
      "* plot the number of anagrams as a function of length;\n",
      "* plot the number of *perfect* anagrams, where we define a perfect anagram as a pair of words where every letter has different neighbors in each (for instance, anatomicophysiologic/physiologicoanatomic is very far from being perfect);\n",
      "* which is the longest perfect anagram."
     ]
    },
    {
     "cell_type": "markdown",
     "metadata": {},
     "source": [
      "I'll start you off with reading a list of dictionary words. (On Windows, you should download it from [this link](https://raw.githubusercontent.com/eneko/data-repository/master/data/words.txt))."
     ]
    },
    {
     "cell_type": "code",
     "collapsed": false,
     "input": [
      "!ls /usr/share/dict"
     ],
     "language": "python",
     "metadata": {},
     "outputs": [
      {
       "output_type": "stream",
       "stream": "stdout",
       "text": [
        "README      connectives propernames web2        web2a       \u001b[35mwords\u001b[m\u001b[m\r\n"
       ]
      }
     ],
     "prompt_number": 30
    },
    {
     "cell_type": "code",
     "collapsed": false,
     "input": [
      "!head /usr/share/dict/words"
     ],
     "language": "python",
     "metadata": {},
     "outputs": [
      {
       "output_type": "stream",
       "stream": "stdout",
       "text": [
        "A\r\n",
        "a\r\n",
        "aa\r\n",
        "aal\r\n",
        "aalii\r\n",
        "aam\r\n",
        "Aani\r\n",
        "aardvark\r\n",
        "aardwolf\r\n",
        "Aaron\r\n"
       ]
      }
     ],
     "prompt_number": 31
    },
    {
     "cell_type": "code",
     "collapsed": false,
     "input": [
      "words = [line.strip().lower() for line in open('/usr/share/dict/words','r')]"
     ],
     "language": "python",
     "metadata": {},
     "outputs": [],
     "prompt_number": 31
    },
    {
     "cell_type": "code",
     "collapsed": false,
     "input": [
      "len(words)"
     ],
     "language": "python",
     "metadata": {},
     "outputs": [
      {
       "metadata": {},
       "output_type": "pyout",
       "prompt_number": 32,
       "text": [
        "235886"
       ]
      }
     ],
     "prompt_number": 32
    },
    {
     "cell_type": "code",
     "collapsed": false,
     "input": [
      "words[:10]"
     ],
     "language": "python",
     "metadata": {},
     "outputs": [
      {
       "metadata": {},
       "output_type": "pyout",
       "prompt_number": 33,
       "text": [
        "['a',\n",
        " 'a',\n",
        " 'aa',\n",
        " 'aal',\n",
        " 'aalii',\n",
        " 'aam',\n",
        " 'aani',\n",
        " 'aardvark',\n",
        " 'aardwolf',\n",
        " 'aaron']"
       ]
      }
     ],
     "prompt_number": 33
    },
    {
     "cell_type": "markdown",
     "metadata": {},
     "source": [
      "*Hint*: anagrams are pairs of words that are the same when sorted, so you could build a Python dictionary of words indexed by their sorted *key*."
     ]
    }
   ],
   "metadata": {}
  }
 ]
}