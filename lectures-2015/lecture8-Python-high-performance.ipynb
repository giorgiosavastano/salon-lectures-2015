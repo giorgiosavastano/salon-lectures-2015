{
 "metadata": {
  "name": "",
  "signature": "sha256:52c875b8650d8ec775f4e5d84ee14a18faf6fb58b2ec23f1d4408ebafc7e59ac"
 },
 "nbformat": 3,
 "nbformat_minor": 0,
 "worksheets": [
  {
   "cells": [
    {
     "cell_type": "heading",
     "level": 1,
     "metadata": {},
     "source": [
      "Salon2 Lecture 8 - Oct 2, 2014"
     ]
    },
    {
     "cell_type": "heading",
     "level": 2,
     "metadata": {},
     "source": [
      "Grab bag: high performance computing, debugging, profiling, testing, and packaging."
     ]
    },
    {
     "cell_type": "code",
     "collapsed": false,
     "input": [
      "import matplotlib.pyplot as pp\n",
      "import numpy as np"
     ],
     "language": "python",
     "metadata": {},
     "outputs": [],
     "prompt_number": 2
    },
    {
     "cell_type": "code",
     "collapsed": false,
     "input": [
      "%matplotlib inline"
     ],
     "language": "python",
     "metadata": {},
     "outputs": [],
     "prompt_number": 3
    },
    {
     "cell_type": "heading",
     "level": 2,
     "metadata": {},
     "source": [
      "1.0 Optimizing the Mandelbrot code for high performance."
     ]
    },
    {
     "cell_type": "markdown",
     "metadata": {},
     "source": [
      "We're going to investigate several techniques to speed up the Mandelbrot-set code from Lecture 4. We're not going to do explicit use of parallel computing as such; for that, the dominant approach in Python has been _multiprocessing_ (as opposed to _multithreading_, because of Python's [global interpreter lock](http://www.jeffknupp.com/blog/2012/03/31/pythons-hardest-problem/)).\n",
      "\n",
      "* You would probably use Python's `multiprocessing` module ([1](http://broadcast.oreilly.com/2009/04/pymotw-multiprocessing-part-1.html), [2](http://broadcast.oreilly.com/2009/04/pymotw-multiprocessing-part-2.html)). The easiest thing to do is to set up a `Pool` of processors, and then `map` the work on them. But you should be careful not to be passing big data objects around, since that's slow (it involves [serialization/deserialization](https://docs.python.org/3/library/pickle.html)). \n",
      "* But see also the master-slave model of parallel computing [implemented in iPython](http://lighthouseinthesky.blogspot.com/2014/10/parallel-ipython-notebooks.html)."
     ]
    },
    {
     "cell_type": "heading",
     "level": 3,
     "metadata": {},
     "source": [
      "1.1 Pure Python (with numpy arrays)"
     ]
    },
    {
     "cell_type": "markdown",
     "metadata": {},
     "source": [
      "OK, we start with pure Python, allowing ourselves the luxury of storing the image in a numpy array. We keep the main per-point compute loop in a separate function so we can later change it. Remember that functions are first-class objects in Python, so we can pass them as a function argument and even assign them a default value, no questions asked. "
     ]
    },
    {
     "cell_type": "code",
     "collapsed": false,
     "input": [
      "def compute_mandel(c,maxi):\n",
      "    z = 0.0j\n",
      "    \n",
      "    for it in range(1,maxi):\n",
      "        z = z*z + c\n",
      "        \n",
      "        if abs(z) > 2.0:\n",
      "            return it\n",
      "\n",
      "    return 0\n",
      "    \n",
      "def run_mandel(maxi=256,xres=128,xmin=-2.0,xmax=1.0,ymin=-1.0,ymax=1.0,compute=compute_mandel):\n",
      "    # figure out the y-axis resolution on the basis of the computed region\n",
      "    # and of the x-axis resolution\n",
      "    yres = int(xres * (ymax - ymin) / (xmax - xmin))\n",
      "    \n",
      "    dx = (xmax - xmin) / (xres - 1)\n",
      "    dy = (ymax - ymin) / (yres - 1)\n",
      "    \n",
      "    # we lay out the result array in Cartesian-plane fashion, so y goes first\n",
      "    escaped = np.zeros((yres,xres),'int32')\n",
      "    color = np.zeros((yres,xres),'float64')\n",
      "    \n",
      "    for i in range(xres):\n",
      "        x = xmin + i * dx\n",
      "        \n",
      "        for j in range(yres):\n",
      "            y = ymin + j * dx\n",
      "            \n",
      "            c = x + 1j * y\n",
      "            escaped[j,i] = compute(c,maxi)\n",
      "    \n",
      "    color = escaped / maxi    \n",
      "    \n",
      "    return color"
     ],
     "language": "python",
     "metadata": {},
     "outputs": [],
     "prompt_number": 4
    },
    {
     "cell_type": "markdown",
     "metadata": {},
     "source": [
      "It seems to run fine."
     ]
    },
    {
     "cell_type": "code",
     "collapsed": false,
     "input": [
      "color = run_mandel(xres=512)\n",
      "pp.imshow(color,interpolation='none',origin='lower',extent=(-2.0,1.0,-1.0,1.0))"
     ],
     "language": "python",
     "metadata": {},
     "outputs": [
      {
       "metadata": {},
       "output_type": "pyout",
       "prompt_number": 5,
       "text": [
        "<matplotlib.image.AxesImage at 0x108f16b00>"
       ]
      },
      {
       "metadata": {},
       "output_type": "display_data",
       "png": "[encoded data removed]",
       "text": [
        "<matplotlib.figure.Figure at 0x107db69e8>"
       ]
      }
     ],
     "prompt_number": 5
    },
    {
     "cell_type": "markdown",
     "metadata": {},
     "source": [
      "But it's not horribly fast."
     ]
    },
    {
     "cell_type": "code",
     "collapsed": false,
     "input": [
      "%timeit run_mandel(xres=512)"
     ],
     "language": "python",
     "metadata": {},
     "outputs": [
      {
       "output_type": "stream",
       "stream": "stdout",
       "text": [
        "1 loops, best of 3: 1.89 s per loop\n"
       ]
      }
     ],
     "prompt_number": 6
    },
    {
     "cell_type": "markdown",
     "metadata": {},
     "source": [
      "To get an idea of where the code is slowing down, we use the excellent Python [line_profiler](https://github.com/rkern/line_profiler), with its iPython magic extension."
     ]
    },
    {
     "cell_type": "code",
     "collapsed": false,
     "input": [
      "!pip install line_profiler"
     ],
     "language": "python",
     "metadata": {},
     "outputs": [
      {
       "output_type": "stream",
       "stream": "stdout",
       "text": [
        "Requirement already satisfied (use --upgrade to upgrade): line-profiler in /Applications/anaconda/envs/py3k/lib/python3.4/site-packages\r\n",
        "Cleaning up...\r\n"
       ]
      }
     ],
     "prompt_number": 82
    },
    {
     "cell_type": "code",
     "collapsed": false,
     "input": [
      "%load_ext line_profiler"
     ],
     "language": "python",
     "metadata": {},
     "outputs": [],
     "prompt_number": 7
    },
    {
     "cell_type": "markdown",
     "metadata": {},
     "source": [
      "We run the profiler specifying the function we want to call (at the end) and the functions that we want to profile (under `-f`). Predictably, the math is slow, but the loop takes a long time, too."
     ]
    },
    {
     "cell_type": "code",
     "collapsed": false,
     "input": [
      "%lprun -f run_mandel -f compute_mandel run_mandel(xres=512)"
     ],
     "language": "python",
     "metadata": {},
     "outputs": [],
     "prompt_number": 8
    },
    {
     "cell_type": "markdown",
     "metadata": {},
     "source": [
      "The profiling output pops up in a window dialog, but I reproduce it here.\n",
      "\n",
      "    Timer unit: 1e-06 s\n",
      "\n",
      "    Total time: 16.0758 s\n",
      "    File: <ipython-input-4-f72f714c1e3c>\n",
      "    Function: compute_mandel at line 1\n",
      "\n",
      "    Line #      Hits         Time  Per Hit   % Time  Line Contents\n",
      "    ==============================================================\n",
      "         1                                           def compute_mandel(c,maxi):\n",
      "         2    174592        64885      0.4      0.4      z = 0.0j\n",
      "         3                                               \n",
      "         4  12206590      4697439      0.4     29.2      for it in range(1,maxi):\n",
      "         5  12162443      5362683      0.4     33.4          z = z*z + c\n",
      "         6                                                   \n",
      "         7  12162443      5884216      0.5     36.6          if abs(z) > 2.0:\n",
      "         8    130445        50804      0.4      0.3              return it\n",
      "         9                                           \n",
      "        10     44147        15759      0.4      0.1      return 0\n",
      "\n",
      "    Total time: 30.0532 s\n",
      "    File: <ipython-input-4-f72f714c1e3c>\n",
      "    Function: run_mandel at line 12\n",
      "\n",
      "    Line #      Hits         Time  Per Hit   % Time  Line Contents\n",
      "    ==============================================================\n",
      "        12                                           def run_mandel(maxi=256,xres=128,xmin=-2.0,xmax=1.0,ymin=-1.0,ymax=1.0,compute=compute_mandel):\n",
      "        13                                               # figure out the y-axis resolution on the basis of the computed region\n",
      "        14                                               # and of the x-axis resolution\n",
      "        15         1            3      3.0      0.0      yres = int(xres * (ymax - ymin) / (xmax - xmin))\n",
      "        16                                               \n",
      "        17         1            1      1.0      0.0      dx = (xmax - xmin) / (xres - 1)\n",
      "        18         1            0      0.0      0.0      dy = (ymax - ymin) / (yres - 1)\n",
      "        19                                               \n",
      "        20                                               # we lay out the result array in Cartesian-plane fashion, so y goes first\n",
      "        21         1          103    103.0      0.0      escaped = np.zeros((yres,xres),'int32')\n",
      "        22         1           75     75.0      0.0      color = np.zeros((yres,xres),'float64')\n",
      "        23                                               \n",
      "        24       513          277      0.5      0.0      for i in range(xres):\n",
      "        25       512          326      0.6      0.0          x = xmin + i * dx\n",
      "        26                                                   \n",
      "        27    175104        87759      0.5      0.3          for j in range(yres):\n",
      "        28    174592       104549      0.6      0.3              y = ymin + j * dx\n",
      "        29                                                       \n",
      "        30    174592       100988      0.6      0.3              c = x + 1j * y\n",
      "        31    174592     29758509    170.4     99.0              escaped[j,i] = compute(c,maxi)\n",
      "        32                                               \n",
      "        33         1          626    626.0      0.0      color = escaped / maxi    \n",
      "        34                                               \n",
      "        35         1            1      1.0      0.0      return color"
     ]
    },
    {
     "cell_type": "markdown",
     "metadata": {},
     "source": [
      "Using the `dis` module, we can also inspect the Python compiled bytecode. It's a simple stack language."
     ]
    },
    {
     "cell_type": "code",
     "collapsed": false,
     "input": [
      "import dis"
     ],
     "language": "python",
     "metadata": {},
     "outputs": [],
     "prompt_number": 43
    },
    {
     "cell_type": "markdown",
     "metadata": {},
     "source": [
      "    def compute_mandel(c,maxi):\n",
      "        z = 0.0j\n",
      "\n",
      "        for it in range(1,maxi):\n",
      "            z = z*z + c\n",
      "\n",
      "            if abs(z) > 2.0:\n",
      "                return it\n",
      "\n",
      "        return 0"
     ]
    },
    {
     "cell_type": "code",
     "collapsed": false,
     "input": [
      "dis.dis(compute_mandel)"
     ],
     "language": "python",
     "metadata": {},
     "outputs": [
      {
       "output_type": "stream",
       "stream": "stdout",
       "text": [
        "  2           0 LOAD_CONST               1 (0j)\n",
        "              3 STORE_FAST               2 (z)\n",
        "\n",
        "  4           6 SETUP_LOOP              59 (to 68)\n",
        "              9 LOAD_GLOBAL              0 (range)\n",
        "             12 LOAD_CONST               2 (1)\n",
        "             15 LOAD_FAST                1 (maxi)\n",
        "             18 CALL_FUNCTION            2 (2 positional, 0 keyword pair)\n",
        "             21 GET_ITER\n",
        "        >>   22 FOR_ITER                42 (to 67)\n",
        "             25 STORE_FAST               3 (it)\n",
        "\n",
        "  5          28 LOAD_FAST                2 (z)\n",
        "             31 LOAD_FAST                2 (z)\n",
        "             34 BINARY_MULTIPLY\n",
        "             35 LOAD_FAST                0 (c)\n",
        "             38 BINARY_ADD\n",
        "             39 STORE_FAST               2 (z)\n",
        "\n",
        "  7          42 LOAD_GLOBAL              1 (abs)\n",
        "             45 LOAD_FAST                2 (z)\n",
        "             48 CALL_FUNCTION            1 (1 positional, 0 keyword pair)\n",
        "             51 LOAD_CONST               3 (2.0)\n",
        "             54 COMPARE_OP               4 (>)\n",
        "             57 POP_JUMP_IF_FALSE       22\n",
        "\n",
        "  8          60 LOAD_FAST                3 (it)\n",
        "             63 RETURN_VALUE\n",
        "             64 JUMP_ABSOLUTE           22\n",
        "        >>   67 POP_BLOCK\n",
        "\n",
        " 10     >>   68 LOAD_CONST               4 (0)\n",
        "             71 RETURN_VALUE\n"
       ]
      }
     ],
     "prompt_number": 44
    },
    {
     "cell_type": "heading",
     "level": 3,
     "metadata": {},
     "source": [
      "1.2 numba JIT"
     ]
    },
    {
     "cell_type": "markdown",
     "metadata": {},
     "source": [
      "A recent approach to speeding Python up, especially for numerical computation, is [Numba](http://numba.pydata.org/), which compiled Python on the fly to [LLVM](http://llvm.org), and then to assembly. Numba is smart enough that it is sufficient to [decorate](http://www.jeffknupp.com/blog/2013/11/29/improve-your-python-decorators-explained/) a function very simply to have it compiled (when it works... when it doesn't, the decorators need to indicate more details)."
     ]
    },
    {
     "cell_type": "code",
     "collapsed": false,
     "input": [
      "from numba.decorators import autojit"
     ],
     "language": "python",
     "metadata": {},
     "outputs": [],
     "prompt_number": 10
    },
    {
     "cell_type": "code",
     "collapsed": false,
     "input": [
      "@autojit\n",
      "def compute_mandel_numba(c,maxit):\n",
      "    z = 0.0j\n",
      "\n",
      "    for i in range(maxit):\n",
      "        z = z*z + c\n",
      "\n",
      "        # if abs(z) >= 2 is much slower\n",
      "        if (z.real*z.real + z.imag*z.imag) >= 4:\n",
      "            return i\n",
      "    \n",
      "    return 0"
     ],
     "language": "python",
     "metadata": {},
     "outputs": [],
     "prompt_number": 11
    },
    {
     "cell_type": "code",
     "collapsed": false,
     "input": [
      "color = run_mandel(xres=512,compute=compute_mandel_numba)\n",
      "pp.imshow(color,interpolation='none',origin='lower',extent=(-2.0,1.0,-1.0,1.0))"
     ],
     "language": "python",
     "metadata": {},
     "outputs": [
      {
       "metadata": {},
       "output_type": "pyout",
       "prompt_number": 12,
       "text": [
        "<matplotlib.image.AxesImage at 0x10e6694a8>"
       ]
      },
      {
       "metadata": {},
       "output_type": "display_data",
       "png": "[encoded data removed]",
       "text": [
        "<matplotlib.figure.Figure at 0x108eed208>"
       ]
      }
     ],
     "prompt_number": 12
    },
    {
     "cell_type": "code",
     "collapsed": false,
     "input": [
      "%timeit run_mandel(xres=512,compute=compute_mandel_numba)"
     ],
     "language": "python",
     "metadata": {},
     "outputs": [
      {
       "output_type": "stream",
       "stream": "stdout",
       "text": [
        "10 loops, best of 3: 123 ms per loop\n"
       ]
      }
     ],
     "prompt_number": 13
    },
    {
     "cell_type": "heading",
     "level": 3,
     "metadata": {},
     "source": [
      "1.3 numpy"
     ]
    },
    {
     "cell_type": "markdown",
     "metadata": {},
     "source": [
      "There's always good old `numpy`... to get the maximum speed improvement, we need to re-express our code in terms of whole matrices. When there are branches (\"if else\" alternatives), we need to be creative with `numpy` [fancy indexing](http://docs.scipy.org/doc/numpy/user/basics.indexing.html). "
     ]
    },
    {
     "cell_type": "code",
     "collapsed": false,
     "input": [
      "def run_mandel_numpy(maxi=256,xres=128,xmin=-2.0,xmax=1.0,ymin=-1.0,ymax=1.0):\n",
      "    yres = int(xres * (ymax - ymin) / (xmax - xmin))\n",
      "    \n",
      "    # meshgrid takes axis sequences to full matrices\n",
      "    # (uses Cartesian ordering by default, so we don't need to transpose before plotting)\n",
      "    x,y = np.meshgrid(np.linspace(xmin,xmax,xres),\n",
      "                      np.linspace(ymin,ymax,yres))\n",
      "    c = x + 1j*y\n",
      "    \n",
      "    z = np.zeros(x.shape,'complex128')\n",
      "    \n",
      "    # by default, points sit in the Mandelbrot set\n",
      "    escaped = np.zeros(x.shape,'int32')\n",
      "    \n",
      "    for it in range(1,maxi):\n",
      "        # we want to work only with points that haven't escaped yet,\n",
      "        # so we build a True/False mask for that condition...\n",
      "        alive = (escaped == 0)\n",
      "        \n",
      "        # ...and use it with numpy fancy indexing to apply the\n",
      "        # Mandelbrot iteration to a subset of the matrices\n",
      "        z[alive] = z[alive]**2 + c[alive]\n",
      "        \n",
      "        # if the point _just_ escaped, save the current iteration,\n",
      "        escaped[alive & (np.abs(z) > 2)] = it\n",
      "            \n",
      "    color = escaped / maxi\n",
      "        \n",
      "    return color"
     ],
     "language": "python",
     "metadata": {},
     "outputs": [],
     "prompt_number": 14
    },
    {
     "cell_type": "code",
     "collapsed": false,
     "input": [
      "color = run_mandel_numpy(xres=512)\n",
      "pp.imshow(color,interpolation='none',origin='lower',extent=(-2.0,1.0,-1.0,1.0))"
     ],
     "language": "python",
     "metadata": {},
     "outputs": [
      {
       "metadata": {},
       "output_type": "pyout",
       "prompt_number": 15,
       "text": [
        "<matplotlib.image.AxesImage at 0x109762710>"
       ]
      },
      {
       "metadata": {},
       "output_type": "display_data",
       "png": "[encoded data removed]",
       "text": [
        "<matplotlib.figure.Figure at 0x10e628978>"
       ]
      }
     ],
     "prompt_number": 15
    },
    {
     "cell_type": "code",
     "collapsed": false,
     "input": [
      "%timeit run_mandel_numpy(xres=512)"
     ],
     "language": "python",
     "metadata": {},
     "outputs": [
      {
       "output_type": "stream",
       "stream": "stdout",
       "text": [
        "1 loops, best of 3: 365 ms per loop\n"
       ]
      }
     ],
     "prompt_number": 16
    },
    {
     "cell_type": "heading",
     "level": 3,
     "metadata": {},
     "source": [
      "1.4 numpy with numexpr"
     ]
    },
    {
     "cell_type": "markdown",
     "metadata": {},
     "source": [
      "`numpy` can be slowish; although the numerics happen reasonably fast for entire arrays, there is considerable overhead involved with creating temporary arrays, etc. The [`numexpr`](https://github.com/pydata/numexpr) package tries to speed up `numpy` by compiling matrix expressions to machine code, and avoiding temporaries. `numexpr` does not support fancy indexing, so we need to use the [`where`](http://docs.scipy.org/doc/numpy/reference/generated/numpy.where.html) function."
     ]
    },
    {
     "cell_type": "code",
     "collapsed": false,
     "input": [
      "from numexpr import evaluate"
     ],
     "language": "python",
     "metadata": {},
     "outputs": [],
     "prompt_number": 65
    },
    {
     "cell_type": "code",
     "collapsed": false,
     "input": [
      "def run_mandel_numexpr(maxi=256,xres=128,xmin=-2.0,xmax=1.0,ymin=-1.0,ymax=1.0):\n",
      "    yres = int(xres * (ymax - ymin) / (xmax - xmin))\n",
      "    \n",
      "    # meshgrid takes axis sequences to full matrices\n",
      "    # (uses Cartesian ordering by default, so we don't need to transpose before plotting)\n",
      "    x,y = np.meshgrid(np.linspace(xmin,xmax,xres),\n",
      "                      np.linspace(ymin,ymax,yres))\n",
      "    c = x + 1j*y\n",
      "    \n",
      "    z = np.zeros(x.shape,'complex128')\n",
      "    \n",
      "    # by default, points sit in the Mandelbrot set\n",
      "    escaped = np.zeros(x.shape,'int64')\n",
      "    alive = np.zeros(x.shape,'bool')\n",
      "    \n",
      "    for it in range(1,maxi):\n",
      "        evaluate('escaped == 0', out=alive)\n",
      "        evaluate('where(alive,z**2+c,0)',out=z)\n",
      "        evaluate('where(alive & (abs(z).real > 2),it,escaped)',out=escaped)\n",
      "    \n",
      "    color = escaped / maxi\n",
      "        \n",
      "    return color"
     ],
     "language": "python",
     "metadata": {},
     "outputs": [],
     "prompt_number": 103
    },
    {
     "cell_type": "markdown",
     "metadata": {},
     "source": [
      "A little better, but not by much."
     ]
    },
    {
     "cell_type": "code",
     "collapsed": false,
     "input": [
      "%timeit run_mandel_numexpr(xres=512)"
     ],
     "language": "python",
     "metadata": {},
     "outputs": [
      {
       "output_type": "stream",
       "stream": "stdout",
       "text": [
        "1 loops, best of 3: 245 ms per loop\n"
       ]
      }
     ],
     "prompt_number": 104
    },
    {
     "cell_type": "code",
     "collapsed": false,
     "input": [
      "* pure Python: 1.89 s\n",
      "* numbified Python: 123 ms\n",
      "* numpy: 365 ms\n",
      "* numexpr: 245 ms"
     ],
     "language": "python",
     "metadata": {},
     "outputs": []
    },
    {
     "cell_type": "heading",
     "level": 3,
     "metadata": {},
     "source": [
      "1.5 pypy"
     ]
    },
    {
     "cell_type": "markdown",
     "metadata": {},
     "source": [
      "A surprisingly fast way to run Python code, as long as you don't need C extensions or packages outside the standard library, is  [pypy](http://pypy.org), an alternative Python interpreter that includes a just-in-time compiler. It doesn't have `numpy` arrays though (at least not yet), so we change the code to use lists of lists as storage. Note the `__name__ == '__main__'` [idiom](https://docs.python.org/3/library/__main__.html) so that this module can discover whether it's being run as a script rather than imported."
     ]
    },
    {
     "cell_type": "code",
     "collapsed": false,
     "input": [
      "%%file mandy.py\n",
      "\n",
      "from __future__ import division\n",
      "from __future__ import print_function\n",
      "\n",
      "def pythonplot(maxi=256,xres=128,xmin=-2.0,xmax=1.0,ymin=-1.0,ymax=1.0):\n",
      "    # figure out the y-axis resolution on the basis of the computed region\n",
      "    # and of the x-axis resolution\n",
      "    yres = int(xres * (ymax - ymin) / (xmax - xmin))\n",
      "    \n",
      "    dx = (xmax - xmin) / (xres - 1)\n",
      "    dy = (ymax - ymin) / (yres - 1)\n",
      "    \n",
      "    # why would [[0] * xres] * yres and[[0.0] * xres] * yres not work here?\n",
      "    # ...think about Python reference semantics\n",
      "    escaped = [[0] * xres for i in range(yres)]\n",
      "    color = [[0.0] * xres for i in range(yres)]\n",
      "    \n",
      "    for i in range(xres):\n",
      "        x = xmin + i * dx\n",
      "        \n",
      "        for j in range(yres):\n",
      "            y = ymin + j * dx\n",
      "            \n",
      "            c = x + 1j * y\n",
      "            z = 0.0\n",
      "            \n",
      "            escaped[j][i] = 0\n",
      "            \n",
      "            for it in range(1,maxi):\n",
      "                z = z*z + c\n",
      "                \n",
      "                if abs(z) > 2.0:\n",
      "                    escaped[j][i] = it\n",
      "                    break\n",
      "            \n",
      "            color[j][i] = escaped[j][i] / maxi\n",
      "            \n",
      "    return color\n",
      "\n",
      "import time\n",
      "from timeit import default_timer as timer\n",
      "\n",
      "# if run as a script, we time the Mandelbrot computation\n",
      "if __name__ == '__main__':\n",
      "    for k in range(3):\n",
      "        start = timer()\n",
      "        pythonplot(xres=512)\n",
      "        print('%.2f' % (timer() - start))"
     ],
     "language": "python",
     "metadata": {},
     "outputs": [
      {
       "output_type": "stream",
       "stream": "stdout",
       "text": [
        "Writing mandy.py\n"
       ]
      }
     ],
     "prompt_number": 18
    },
    {
     "cell_type": "markdown",
     "metadata": {},
     "source": [
      "This code is correct Python, so it runs under the regular interpreter."
     ]
    },
    {
     "cell_type": "code",
     "collapsed": false,
     "input": [
      "import mandy\n",
      "\n",
      "color = mandy.pythonplot(xres=128)\n",
      "pp.imshow(np.array(color),interpolation='none',origin='lower',extent=(-2.0,1.0,-1.0,1.0))"
     ],
     "language": "python",
     "metadata": {},
     "outputs": [
      {
       "metadata": {},
       "output_type": "pyout",
       "prompt_number": 19,
       "text": [
        "<matplotlib.image.AxesImage at 0x1096b2b00>"
       ]
      },
      {
       "metadata": {},
       "output_type": "display_data",
       "png": "[encoded data removed]",
       "text": [
        "<matplotlib.figure.Figure at 0x101185780>"
       ]
      }
     ],
     "prompt_number": 19
    },
    {
     "cell_type": "code",
     "collapsed": false,
     "input": [
      "!python mandy.py"
     ],
     "language": "python",
     "metadata": {},
     "outputs": [
      {
       "output_type": "stream",
       "stream": "stdout",
       "text": [
        "1.90\r\n"
       ]
      },
      {
       "output_type": "stream",
       "stream": "stdout",
       "text": [
        "2.00\r\n"
       ]
      },
      {
       "output_type": "stream",
       "stream": "stdout",
       "text": [
        "1.93\r\n"
       ]
      }
     ],
     "prompt_number": 20
    },
    {
     "cell_type": "code",
     "collapsed": false,
     "input": [
      "!pypy mandy.py"
     ],
     "language": "python",
     "metadata": {},
     "outputs": [
      {
       "output_type": "stream",
       "stream": "stdout",
       "text": [
        "0.23\r\n"
       ]
      },
      {
       "output_type": "stream",
       "stream": "stdout",
       "text": [
        "0.21\r\n"
       ]
      },
      {
       "output_type": "stream",
       "stream": "stdout",
       "text": [
        "0.20\r\n"
       ]
      }
     ],
     "prompt_number": 21
    },
    {
     "cell_type": "heading",
     "level": 3,
     "metadata": {},
     "source": [
      "1.6 cython"
     ]
    },
    {
     "cell_type": "markdown",
     "metadata": {},
     "source": [
      "We already met [Cython](http://cython.org), a compiler for Python that we used to glue C code to Python. Cython can be used for speed by providing it with _type annotations_ about variables, which then are treated in the compiled code as C variables rather than overhead-heavy Python objects. The iPython `%%cython` magic makes it extremely convenient to use from the notebook."
     ]
    },
    {
     "cell_type": "code",
     "collapsed": false,
     "input": [
      "%load_ext cythonmagic"
     ],
     "language": "python",
     "metadata": {},
     "outputs": [],
     "prompt_number": 24
    },
    {
     "cell_type": "code",
     "collapsed": false,
     "input": [
      "%%cython\n",
      "\n",
      "def compute_cython(complex c,int maxi):\n",
      "    cdef complex z = 0.0j\n",
      "    cdef int it\n",
      "    \n",
      "    for it in range(1,maxi):\n",
      "        z = z*z + c\n",
      "        \n",
      "        if z.real*z.real + z.imag*z.imag > 4.0:\n",
      "            return it\n",
      "\n",
      "    return 0"
     ],
     "language": "python",
     "metadata": {},
     "outputs": [],
     "prompt_number": 25
    },
    {
     "cell_type": "markdown",
     "metadata": {},
     "source": [
      "Indeed, we can just mix Cythonized and regular Python code, in this case by passing the `compute_cython` function to our driver. The resulting speed is very nice."
     ]
    },
    {
     "cell_type": "code",
     "collapsed": false,
     "input": [
      "color = run_mandel(xres=512,compute=compute_cython)\n",
      "pp.imshow(color,interpolation='none',origin='lower',extent=(-2.0,1.0,-1.0,1.0))"
     ],
     "language": "python",
     "metadata": {},
     "outputs": [
      {
       "metadata": {},
       "output_type": "pyout",
       "prompt_number": 26,
       "text": [
        "<matplotlib.image.AxesImage at 0x109c58f98>"
       ]
      },
      {
       "metadata": {},
       "output_type": "display_data",
       "png": "[encoded data removed]",
       "text": [
        "<matplotlib.figure.Figure at 0x109c19358>"
       ]
      }
     ],
     "prompt_number": 26
    },
    {
     "cell_type": "code",
     "collapsed": false,
     "input": [
      "%timeit run_mandel(xres=512,compute=compute_cython)"
     ],
     "language": "python",
     "metadata": {},
     "outputs": [
      {
       "output_type": "stream",
       "stream": "stdout",
       "text": [
        "10 loops, best of 3: 103 ms per loop\n"
       ]
      }
     ],
     "prompt_number": 27
    },
    {
     "cell_type": "markdown",
     "metadata": {},
     "source": [
      "And we can do even better by Cythonizing the entire computation. Note the special syntax (and the `cimport numpy`) for [declaring `numpy` arrays](http://docs.cython.org/src/tutorial/numpy.html). If we do that, then the compiled code will be able to loop very efficiently over them. Cython has also support for using multiple threads [in parallel](http://docs.cython.org/src/userguide/parallelism.html). "
     ]
    },
    {
     "cell_type": "code",
     "collapsed": false,
     "input": [
      "%%cython \n",
      "\n",
      "from cython.parallel import parallel, prange\n",
      "\n",
      "import numpy as np\n",
      "cimport numpy as np\n",
      "\n",
      "cdef int compute_cython2(complex c,int maxi):\n",
      "    cdef complex z = 0.0j\n",
      "    cdef int it\n",
      "    \n",
      "    for it in range(1,maxi):\n",
      "        z = z*z + c\n",
      "        \n",
      "        if z.real*z.real + z.imag*z.imag > 4.0:\n",
      "            return it\n",
      "\n",
      "    return 0\n",
      "\n",
      "def run_mandel_cython(int maxi=256,int xres=128,double xmin=-2.0,double xmax=1.0,double ymin=-1.0,double ymax=1.0):\n",
      "    # figure out the y-axis resolution on the basis of the computed region\n",
      "    # and of the x-axis resolution\n",
      "    cdef int yres = int(xres * (ymax - ymin) / (xmax - xmin))\n",
      "    \n",
      "    cdef double dx = (xmax - xmin) / (xres - 1)\n",
      "    cdef double dy = (ymax - ymin) / (yres - 1)\n",
      "    \n",
      "    # we lay out the result array in Cartesian-plane fashion, so y goes first\n",
      "    cdef np.ndarray[np.int32_t,ndim=2] escaped = np.zeros((yres,xres),'int32')\n",
      "    cdef np.ndarray[np.float64_t,ndim=2] color = np.zeros((yres,xres),'float64')\n",
      "    \n",
      "    cdef int i, j\n",
      "    cdef double x, y\n",
      "    cdef complex z, c\n",
      "    \n",
      "    for i in range(xres):\n",
      "        x = xmin + i * dx\n",
      "\n",
      "        for j in range(yres):\n",
      "            y = ymin + j * dx\n",
      "\n",
      "            c = x + 1j * y\n",
      "            escaped[j,i] = compute_cython2(c,maxi)\n",
      "\n",
      "            color[j,i] = escaped[j,i] / maxi    \n",
      "    \n",
      "    return color"
     ],
     "language": "python",
     "metadata": {},
     "outputs": [],
     "prompt_number": 28
    },
    {
     "cell_type": "code",
     "collapsed": false,
     "input": [
      "%timeit run_mandel_cython(xres=512)"
     ],
     "language": "python",
     "metadata": {},
     "outputs": [
      {
       "output_type": "stream",
       "stream": "stdout",
       "text": [
        "10 loops, best of 3: 49.8 ms per loop\n"
       ]
      }
     ],
     "prompt_number": 29
    },
    {
     "cell_type": "heading",
     "level": 3,
     "metadata": {},
     "source": [
      "1.7 numba CUDA"
     ]
    },
    {
     "cell_type": "markdown",
     "metadata": {},
     "source": [
      "For the grand finale, we use the GPU in our machine (as long as it's NVIDIA...) to accelerate the computation using its massive parallelism. [`numbapro`](http://docs.continuum.io/numbapro/) (a commercial product) makes this especially convenient. There are [other packages](http://mathema.tician.de/software/pycuda) as well. We follow [this example](http://nbviewer.ipython.org/gist/harrism/f5707335f40af9463c43)."
     ]
    },
    {
     "cell_type": "code",
     "collapsed": false,
     "input": [
      "from numba import *\n",
      "import numbapro"
     ],
     "language": "python",
     "metadata": {},
     "outputs": [
      {
       "output_type": "stream",
       "stream": "stderr",
       "text": [
        "Vendor:  Continuum Analytics, Inc.\n",
        "Package: numbapro\n",
        "Message: trial mode expires in 30 days\n"
       ]
      }
     ],
     "prompt_number": 30
    },
    {
     "cell_type": "markdown",
     "metadata": {},
     "source": [
      "More annotations... but also some boilerplate distributing the computation among CUDA _blocks_ and _kernels_. Too complicated (and not quite elegant enough) to explain here."
     ]
    },
    {
     "cell_type": "code",
     "collapsed": false,
     "input": [
      "@cuda.jit(restype=uint32,argtypes=[c16,uint32],device=True)\n",
      "def compute_mandel_cuda(c,maxit):\n",
      "    z = 0.0j\n",
      "\n",
      "    for i in range(maxit):\n",
      "        z = z*z + c\n",
      "\n",
      "        if (z.real*z.real + z.imag*z.imag) >= 4:\n",
      "            return i\n",
      "    \n",
      "    return 0"
     ],
     "language": "python",
     "metadata": {},
     "outputs": [],
     "prompt_number": 35
    },
    {
     "cell_type": "code",
     "collapsed": false,
     "input": [
      "@cuda.jit(argtypes=[f8,f8,f8,f8,uint8[:,:],uint32])\n",
      "def mandel_kernel(xmin,xmax,ymin,ymax,image,iters):\n",
      "    height, width = image.shape\n",
      "\n",
      "    dx, dy = (xmax - xmin) / width, (ymax - ymin) / height\n",
      "\n",
      "    # start = blockDim * blockIdx + threadIdx\n",
      "    startX, startY = cuda.grid(2)\n",
      "    \n",
      "    gridX = cuda.gridDim.x * cuda.blockDim.x\n",
      "    gridY = cuda.gridDim.y * cuda.blockDim.y\n",
      "\n",
      "    for i in range(startX,width,gridX):\n",
      "        real = xmin + i * dx\n",
      "        for j in range(startY,height,gridY):\n",
      "            imag = ymin + j * dy\n",
      "            image[j,i] = compute_mandel_cuda(real + 1j * imag, iters)"
     ],
     "language": "python",
     "metadata": {},
     "outputs": [],
     "prompt_number": 36
    },
    {
     "cell_type": "markdown",
     "metadata": {},
     "source": [
      "Amazing speed! The 6 ms below are for my desktop. My laptop, which has a few times fewer compute cores in its mobile GPU, was a few times slower."
     ]
    },
    {
     "cell_type": "code",
     "collapsed": false,
     "input": [
      "from timeit import default_timer as timer\n",
      "\n",
      "gimage = np.zeros((341,512), dtype = np.uint8)\n",
      "\n",
      "blockdim = (16,32) # size of each block given to a kernel\n",
      "griddim = (16,32)  # size of the grid of kernels\n",
      "\n",
      "start = timer()\n",
      "\n",
      "d_image = cuda.to_device(gimage)\n",
      "mandel_kernel[griddim, blockdim](-2.0,1.0,-1.0,1.0,d_image,256) \n",
      "d_image.to_host()\n",
      "print('%.4f' % (timer() - start))\n",
      "\n",
      "\n",
      "pp.imshow(gimage,interpolation='none',origin='lower',extent=(-2.0,1.0,-1.0,1.0))"
     ],
     "language": "python",
     "metadata": {},
     "outputs": [
      {
       "output_type": "stream",
       "stream": "stdout",
       "text": [
        "0.0055\n"
       ]
      },
      {
       "metadata": {},
       "output_type": "pyout",
       "prompt_number": 41,
       "text": [
        "<matplotlib.image.AxesImage at 0x114380240>"
       ]
      },
      {
       "metadata": {},
       "output_type": "display_data",
       "png": "[encoded data removed]",
       "text": [
        "<matplotlib.figure.Figure at 0x114282e48>"
       ]
      }
     ],
     "prompt_number": 41
    },
    {
     "cell_type": "markdown",
     "metadata": {},
     "source": [
      "So here's the final tally:\n",
      "\n",
      "* pure Python: 1.89 s\n",
      "* Numbified Python: 123 ms\n",
      "* numpy: 365 ms\n",
      "* numexpr: 245 ms\n",
      "* pypy: 200 ms\n",
      "* Cython: 100/50 ms\n",
      "* CUDA (w/NumbaPro): 6 ms\n",
      "\n",
      "We celebrate with a Tuftian bar plot (see lecture 6)."
     ]
    },
    {
     "cell_type": "code",
     "collapsed": false,
     "input": [
      "import collections\n",
      "\n",
      "timings = collections.OrderedDict([(\"Python\", 1890),\n",
      "                                   (\"Numba\", 123),\n",
      "                                   (\"numpy\", 365),\n",
      "                                   (\"numexpr\", 245),\n",
      "                                   (\"pypy\", 200),\n",
      "                                   (\"Cython\", 50),\n",
      "                                   (\"CUDA\", 6)])\n",
      "\n",
      "import brewer2mpl\n",
      "\n",
      "pp.bar(range(7),timings.values(),\n",
      "       linewidth=0,\n",
      "       color=brewer2mpl.get_map('Set2', 'qualitative', 5).mpl_colors)\n",
      "\n",
      "pp.xticks([x + 0.4 for x in range(7)],list(timings.keys()))\n",
      "\n",
      "pp.axis(ymax=2100)\n",
      "\n",
      "for x, value in enumerate(timings.values()):\n",
      "    pp.text(x + 0.4,value + 75,'%d ms' % value,\n",
      "            horizontalalignment='center')\n",
      "\n",
      "ax = pp.gca()\n",
      "for d in ['top','bottom','right','left']:\n",
      "    ax.spines[d].set_visible(False)\n",
      "    \n",
      "# finally, overlay a thin grid\n",
      "pp.grid(axis='y',color='white',linestyle='-',linewidth=0.5)"
     ],
     "language": "python",
     "metadata": {},
     "outputs": [
      {
       "metadata": {},
       "output_type": "display_data",
       "png": "[encoded data removed]",
       "text": [
        "<matplotlib.figure.Figure at 0x114f9dcf8>"
       ]
      }
     ],
     "prompt_number": 70
    },
    {
     "cell_type": "heading",
     "level": 3,
     "metadata": {},
     "source": [
      "2.0 Distributing a simple package"
     ]
    },
    {
     "cell_type": "markdown",
     "metadata": {},
     "source": [
      "Following the example at https://developer.yahoo.com/weather, we will write a simple utility that gets a weather forecast from Yahoo, and package it for distribution. We use `requests` (see lecture3) to get the data, then `json` to unpack it into Python structures. ([JSON](http://json.org/) is almost Python anyway...)"
     ]
    },
    {
     "cell_type": "code",
     "collapsed": false,
     "input": [
      "import requests\n",
      "import json"
     ],
     "language": "python",
     "metadata": {},
     "outputs": [],
     "prompt_number": 78
    },
    {
     "cell_type": "code",
     "collapsed": false,
     "input": [
      "def getweather(city='Pasadena, CA'):\n",
      "    baseurl = \"https://query.yahooapis.com/v1/public/yql\"\n",
      "\n",
      "    woeid = 'select woeid from geo.places(1) where text=\"{0}\"'.format(city)\n",
      "    query = 'select * from weather.forecast where woeid in ({0})'.format(woeid)\n",
      "\n",
      "    r = requests.get(baseurl,params={'q': query, 'format': 'json'})\n",
      "    data = json.loads(r.text)\n",
      "\n",
      "    if not r.ok:\n",
      "        raise RuntimeError\n",
      "    \n",
      "    return data['query']['results']['channel']\n",
      "\n",
      "def printweather(city='Pasadena, CA',units='F'):\n",
      "    weather = getweather(city)\n",
      "    \n",
      "    print(\"Weather for {0}, {1}:\".format(weather['location']['city'],\n",
      "                                         weather['location']['region']))\n",
      "    \n",
      "    for d in weather['item']['forecast']:\n",
      "        if units=='F':\n",
      "            print('{0}: {1}-{2} ({3})'.format(d['day'],d['low'],d['high'],d['text']))\n",
      "        else:\n",
      "            print('{0}: {1:.1f}-{2:.1f} ({3})'.format(d['day'],ftoc(int(d['low'])),ftoc(int(d['high'])),d['text']))"
     ],
     "language": "python",
     "metadata": {},
     "outputs": [],
     "prompt_number": 73
    },
    {
     "cell_type": "code",
     "collapsed": false,
     "input": [
      "def ftoc(temp):\n",
      "    \"\"\"Converts temperature from Fahrenheit to Celsius.\n",
      "    \n",
      "    >>> ftoc(32)\n",
      "    0.0\n",
      "    >>> ftoc(100)\n",
      "    37.77\n",
      "    \"\"\"\n",
      "    \n",
      "    return (5/9) * (temp-32)"
     ],
     "language": "python",
     "metadata": {},
     "outputs": [],
     "prompt_number": 75
    },
    {
     "cell_type": "code",
     "collapsed": false,
     "input": [
      "ftoc(60)"
     ],
     "language": "python",
     "metadata": {},
     "outputs": [
      {
       "metadata": {},
       "output_type": "pyout",
       "prompt_number": 76,
       "text": [
        "15.555555555555557"
       ]
      }
     ],
     "prompt_number": 76
    },
    {
     "cell_type": "code",
     "collapsed": false,
     "input": [
      "printweather('La Canada Flintridge, CA','C')"
     ],
     "language": "python",
     "metadata": {},
     "outputs": [
      {
       "output_type": "stream",
       "stream": "stdout",
       "text": [
        "Weather for La Canada Flintridge, CA:\n",
        "Wed: 16.7-29.4 (Clear)\n",
        "Thu: 16.1-27.8 (Sunny)\n",
        "Fri: 17.2-29.4 (Sunny)\n",
        "Sat: 16.7-31.1 (Sunny)\n",
        "Sun: 16.1-30.6 (Sunny)\n"
       ]
      }
     ],
     "prompt_number": 79
    },
    {
     "cell_type": "markdown",
     "metadata": {},
     "source": [
      "A Python package (see https://packaging.python.org/en/latest) is basically a directory that contains one or more Python modules (and possibly subdirectories), as well as an `__init__.py` file, which can be empty, or can do initializations, `import`s, etc. (this requirement disappeared in Python 3.4).\n",
      "\n",
      "We're going to use our package to exercise two ways of _testing_ Python code: [doctest](https://docs.python.org/3/library/doctest.html) and [unittest](https://docs.python.org/3/library/unittest.html). The first kind of tests are written within the _docstrings_ of functions, and are actually run by `doctest.testmod()`; the second kind are written inside a customized subclass of `unittest.TestCase`, and are run with `unittest.main()`. You can also use [`nose`](https://nose.readthedocs.org/en/latest/) to run the tests."
     ]
    },
    {
     "cell_type": "code",
     "collapsed": false,
     "input": [
      "!mkdir getweather"
     ],
     "language": "python",
     "metadata": {},
     "outputs": [],
     "prompt_number": 162
    },
    {
     "cell_type": "code",
     "collapsed": false,
     "input": [
      "%%file getweather/__init__.py\n",
      "from getweather.lib import *"
     ],
     "language": "python",
     "metadata": {},
     "outputs": [
      {
       "output_type": "stream",
       "stream": "stdout",
       "text": [
        "Overwriting getweather/__init__.py\n"
       ]
      }
     ],
     "prompt_number": 178
    },
    {
     "cell_type": "code",
     "collapsed": false,
     "input": [
      "%%file getweather/lib.py\n",
      "import requests\n",
      "import json\n",
      "\n",
      "def getweather(city='Pasadena, CA'):\n",
      "    baseurl = \"https://query.yahooapis.com/v1/public/yql\"\n",
      "\n",
      "    woeid = 'select woeid from geo.places(1) where text=\"{0}\"'.format(city)\n",
      "    query = 'select * from weather.forecast where woeid in ({0})'.format(woeid)\n",
      "\n",
      "    r = requests.get(baseurl,params={'q': query, 'format': 'json'})\n",
      "    data = json.loads(r.text)\n",
      "\n",
      "    if not r.ok:\n",
      "        raise RuntimeError\n",
      "    \n",
      "    return data['query']['results']['channel']\n",
      "\n",
      "def printweather(city='Pasadena, CA',units='F'):\n",
      "    weather = getweather(city)\n",
      "    \n",
      "    print(\"Weather for {0}, {1}:\".format(weather['location']['city'],\n",
      "                                         weather['location']['region']))\n",
      "    \n",
      "    for d in weather['item']['forecast']:\n",
      "        if units=='F':\n",
      "            print('{0}: {1}-{2} ({3})'.format(d['day'],d['low'],d['high'],d['text']))\n",
      "        else:\n",
      "            print('{0}: {1:.1f}-{2:.1f} ({3})'.format(d['day'],ftoc(int(d['low'])),ftoc(int(d['high'])),d['text']))\n",
      "\n",
      "def ftoc(temp):\n",
      "    \"\"\"Converts temperature from Fahrenheit to Celsius.\n",
      "    \n",
      "    >>> ftoc(32)\n",
      "    0.0\n",
      "    >>> ftoc(100)\n",
      "    37.77777777777778\n",
      "    \"\"\"\n",
      "    \n",
      "    return (5/9) * (temp-32)\n",
      "\n",
      "import unittest\n",
      "\n",
      "class test_ftoc(unittest.TestCase):\n",
      "    # in case we need to set up data structures, connect to databases... for multiple tests\n",
      "    def setUp(self):\n",
      "        pass\n",
      "\n",
      "    def test_extrema(self):\n",
      "        self.assertEqual(ftoc(32),0.0)\n",
      "        self.assertAlmostEqual(ftoc(100),37 + 7/9)\n",
      "\n",
      "    # to clean up\n",
      "    def tearDown(self):\n",
      "        pass\n",
      "        \n",
      "if __name__ == '__main__':\n",
      "    import doctest\n",
      "    doctest.testmod()\n",
      "    \n",
      "    unittest.main()"
     ],
     "language": "python",
     "metadata": {},
     "outputs": [
      {
       "output_type": "stream",
       "stream": "stdout",
       "text": [
        "Overwriting getweather/lib.py\n"
       ]
      }
     ],
     "prompt_number": 207
    },
    {
     "cell_type": "markdown",
     "metadata": {},
     "source": [
      "Checking that the tests work."
     ]
    },
    {
     "cell_type": "code",
     "collapsed": false,
     "input": [
      "!python getweather/lib.py"
     ],
     "language": "python",
     "metadata": {},
     "outputs": [],
     "prompt_number": 201
    },
    {
     "cell_type": "markdown",
     "metadata": {},
     "source": [
      "To distribute the package and have users install it to their standard installation directory, we write a simple `setup.py` file (effectively, a `Makefile` for Python, which is run with `python setup.py install`). Even this simple a `setup.py` allows you to upload a package to https://pypi.python.org with a simple `python setup.py upload`. Once the package is there, it can be installed without downloading explicitly, with `pip install PACKAGENAME`.\n",
      "\n",
      "We also talked about Python [virtual environments](http://docs.python-guide.org/en/latest/dev/virtualenvs) (and see [`venv`](https://docs.python.org/3/library/venv.html) for Python 3)."
     ]
    },
    {
     "cell_type": "code",
     "collapsed": false,
     "input": [
      "%%file setup.py\n",
      "from setuptools import setup\n",
      "\n",
      "setup(name='getweather',\n",
      "      version='0.1',\n",
      "      \n",
      "      packages=['getweather'])"
     ],
     "language": "python",
     "metadata": {},
     "outputs": [
      {
       "output_type": "stream",
       "stream": "stdout",
       "text": [
        "Overwriting setup.py\n"
       ]
      }
     ],
     "prompt_number": 179
    },
    {
     "cell_type": "code",
     "collapsed": false,
     "input": [
      "!python setup.py install"
     ],
     "language": "python",
     "metadata": {},
     "outputs": [
      {
       "output_type": "stream",
       "stream": "stdout",
       "text": [
        "running install\r\n"
       ]
      },
      {
       "output_type": "stream",
       "stream": "stdout",
       "text": [
        "running bdist_egg\r\n"
       ]
      },
      {
       "output_type": "stream",
       "stream": "stdout",
       "text": [
        "running egg_info\r\n",
        "writing dependency_links to getweather.egg-info/dependency_links.txt\r\n",
        "writing getweather.egg-info/PKG-INFO\r\n",
        "writing top-level names to getweather.egg-info/top_level.txt\r\n",
        "reading manifest file 'getweather.egg-info/SOURCES.txt'\r\n",
        "writing manifest file 'getweather.egg-info/SOURCES.txt'\r\n",
        "installing library code to build/bdist.macosx-10.5-x86_64/egg\r\n",
        "running install_lib\r\n",
        "running build_py\r\n",
        "copying getweather/__init__.py -> build/lib/getweather\r\n",
        "creating build/bdist.macosx-10.5-x86_64/egg\r\n",
        "creating build/bdist.macosx-10.5-x86_64/egg/getweather\r\n",
        "copying build/lib/getweather/__init__.py -> build/bdist.macosx-10.5-x86_64/egg/getweather\r\n",
        "copying build/lib/getweather/lib.py -> build/bdist.macosx-10.5-x86_64/egg/getweather\r\n",
        "byte-compiling build/bdist.macosx-10.5-x86_64/egg/getweather/__init__.py to __init__.cpython-34.pyc\r\n",
        "byte-compiling build/bdist.macosx-10.5-x86_64/egg/getweather/lib.py to lib.cpython-34.pyc\r\n",
        "creating build/bdist.macosx-10.5-x86_64/egg/EGG-INFO\r\n",
        "copying getweather.egg-info/PKG-INFO -> build/bdist.macosx-10.5-x86_64/egg/EGG-INFO\r\n",
        "copying getweather.egg-info/SOURCES.txt -> build/bdist.macosx-10.5-x86_64/egg/EGG-INFO\r\n",
        "copying getweather.egg-info/dependency_links.txt -> build/bdist.macosx-10.5-x86_64/egg/EGG-INFO\r\n",
        "copying getweather.egg-info/top_level.txt -> build/bdist.macosx-10.5-x86_64/egg/EGG-INFO\r\n",
        "zip_safe flag not set; analyzing archive contents...\r\n",
        "creating 'dist/getweather-0.1-py3.4.egg' and adding 'build/bdist.macosx-10.5-x86_64/egg' to it\r\n",
        "removing 'build/bdist.macosx-10.5-x86_64/egg' (and everything under it)\r\n",
        "Processing getweather-0.1-py3.4.egg\r\n",
        "Removing /anaconda/envs/py3k/lib/python3.4/site-packages/getweather-0.1-py3.4.egg\r\n",
        "Copying getweather-0.1-py3.4.egg to /anaconda/envs/py3k/lib/python3.4/site-packages\r\n",
        "getweather 0.1 is already the active version in easy-install.pth\r\n",
        "\r\n",
        "Installed /anaconda/envs/py3k/lib/python3.4/site-packages/getweather-0.1-py3.4.egg\r\n",
        "Processing dependencies for getweather==0.1\r\n",
        "Finished processing dependencies for getweather==0.1\r\n"
       ]
      }
     ],
     "prompt_number": 180
    },
    {
     "cell_type": "markdown",
     "metadata": {},
     "source": [
      "One more thing that I demonstrated live in the classroom was Python debugging with `pdb`. For that, see\n",
      "\n",
      "* http://scipy-lectures.github.io/advanced/debugging/\n",
      "\n",
      "and remember that in iPython you can type `%debug STATEMENT` to run the debugger interactively on a piece of code, and just `%debug` to \"enter\" a stack trace, inspect variables, etc. after your code failed."
     ]
    },
    {
     "cell_type": "heading",
     "level": 3,
     "metadata": {},
     "source": [
      "...and that's all folks! It's been fun, thanks for attending!"
     ]
    }
   ],
   "metadata": {}
  }
 ]
}