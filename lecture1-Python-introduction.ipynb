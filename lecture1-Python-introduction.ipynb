{
 "cells": [
  {
   "cell_type": "markdown",
   "metadata": {},
   "source": [
    "# Salon2 Lecture 1 - Feb 3, 2015"
   ]
  },
  {
   "cell_type": "markdown",
   "metadata": {},
   "source": [
    "## 0. The philosophy of the computational salon"
   ]
  },
  {
   "cell_type": "markdown",
   "metadata": {},
   "source": [
    "On learning by doing: \n",
    "\n",
    "* [Ericsson et al. 1993](http://graphics8.nytimes.com/images/blogs/freakonomics/pdf/DeliberatePractice%28PsychologicalReview%29.pdf) Psychological Review 100, 363-406 (_The Role of Deliberate Practice in the Acquisition of Expert Performance_): \"The maximal level of performance for individuals in a given domain is not attained automatically as a function of extended experience, but the level of performance can be increased even by highly experienced individuals as a result of deliberate efforts to improve. [...] The most effective learning requires a well-defined task with an appropriate difficulty level for the particular individual, informative feedback, and opportunities for repetition and corrections of errors.\"\n",
    "* Picasso: \"When art critics get together they talk about Form and Structure and Meaning. When artists get together they talk about where you can buy cheap turpentine.\" Venkatesh Rao on the (bad) [Turpentine Effect](http://www.ribbonfarm.com/2010/03/18/the-turpentine-effect). "
   ]
  },
  {
   "cell_type": "markdown",
   "metadata": {},
   "source": [
    "## 1. Introduction to the beauty and power of Python"
   ]
  },
  {
   "cell_type": "markdown",
   "metadata": {},
   "source": [
    "Experimenting with [Jupyter notebook](https://jupyter.org/)...\n",
    "\n",
    "* Hit `Enter` to start writing in a cell; hit `Shift-Enter` to execute it and see the result.\n",
    "* You alternate between *edit mode*, where you change the content of cells, and *command mode*, where you work with full cells: you can add one with `a` or `b`, delete one with `dd`, change its type with `1`, `2`, `3`, `4` for titles, `y` for code, and `m` for [markdown](http://daringfireball.net/projects/markdown/syntax), a very terse formatting language good for documentation and even [formulas](http://www.mathjax.org/)."
   ]
  },
  {
   "cell_type": "code",
   "execution_count": 1,
   "metadata": {},
   "outputs": [
    {
     "data": {
      "text/plain": [
       "4"
      ]
     },
     "execution_count": 1,
     "metadata": {},
     "output_type": "execute_result"
    }
   ],
   "source": [
    "2+2"
   ]
  },
  {
   "cell_type": "markdown",
   "metadata": {},
   "source": [
    "Python contains its own mantras..."
   ]
  },
  {
   "cell_type": "code",
   "execution_count": 2,
   "metadata": {},
   "outputs": [
    {
     "name": "stdout",
     "output_type": "stream",
     "text": [
      "The Zen of Python, by Tim Peters\n",
      "\n",
      "Beautiful is better than ugly.\n",
      "Explicit is better than implicit.\n",
      "Simple is better than complex.\n",
      "Complex is better than complicated.\n",
      "Flat is better than nested.\n",
      "Sparse is better than dense.\n",
      "Readability counts.\n",
      "Special cases aren't special enough to break the rules.\n",
      "Although practicality beats purity.\n",
      "Errors should never pass silently.\n",
      "Unless explicitly silenced.\n",
      "In the face of ambiguity, refuse the temptation to guess.\n",
      "There should be one-- and preferably only one --obvious way to do it.\n",
      "Although that way may not be obvious at first unless you're Dutch.\n",
      "Now is better than never.\n",
      "Although never is often better than *right* now.\n",
      "If the implementation is hard to explain, it's a bad idea.\n",
      "If the implementation is easy to explain, it may be a good idea.\n",
      "Namespaces are one honking great idea -- let's do more of those!\n"
     ]
    }
   ],
   "source": [
    "import this"
   ]
  },
  {
   "cell_type": "markdown",
   "metadata": {},
   "source": [
    "Technical characteristics of Python:\n",
    "\n",
    "* a general purpose, high-level, interpreted, object-oriented language\n",
    "* **strongly** but **dynamically** typed\n",
    "* **names**, not variables\n",
    "* **mutable** and **immutable** types\n",
    "* name-based **polymorphism** (duck typing)\n",
    "* automatic memory management\n",
    "* error management by exceptions (EAFP)\n",
    "* extensive standard library and third-party modules and packages"
   ]
  },
  {
   "cell_type": "markdown",
   "metadata": {},
   "source": [
    "Python features we will see today:\n",
    "\n",
    "* types and \"variables\"\n",
    "* loops\n",
    "* the print statement\n",
    "* lists, tuples, dictionaries\n",
    "* strings (a little)\n",
    "* list comprehensions and generator expressions\n",
    "* functions\n",
    "* import modules\n",
    "\n",
    "See [Johansson's tutorial](https://github.com/jrjohansson/scientific-python-lectures) and the list of tutorials at the bottom of this document."
   ]
  },
  {
   "cell_type": "markdown",
   "metadata": {},
   "source": [
    "### 1.1 Let's make pi.. and find the Feynman point"
   ]
  },
  {
   "cell_type": "markdown",
   "metadata": {},
   "source": [
    "> The Feynman point is a sequence of six 9s that begins at the 762nd decimal place of the decimal representation of π. It is named after physicist Richard Feynman, who once stated during a lecture he would like to memorize the digits of π until that point, so he could recite them and quip \"nine nine nine nine nine nine and so on\" (wikipedia)"
   ]
  },
  {
   "cell_type": "markdown",
   "metadata": {},
   "source": [
    "#### 1.1.1 With the arctan series."
   ]
  },
  {
   "cell_type": "markdown",
   "metadata": {},
   "source": [
    "Leibniz–Gregory 1668 series for the arctangent [@roy1990],\n",
    "\n",
    "$$\\arctan(x) = x - \\frac{x^3}{3} + \\frac{x^5}{5} - \\frac{x^7}{7} + \\cdots,$$\n",
    "\n",
    "(which follows, e.g., by starting with $\\arctan(x) = \\int dx/(1+x^2)$, using the geometric series $1/(1 + x^2) = \\sum_k x^{2k}$, and integrating) and therefore\n",
    "\n",
    "$$\\arctan(1) = \\frac{\\pi}{4} = 1 - \\frac{1}{3} + \\frac{1}{5} - \\frac{1}{7} \\cdots.$$"
   ]
  },
  {
   "cell_type": "markdown",
   "metadata": {},
   "source": [
    "As it would be in C (note the \"magic\" `%%file` that writes to a file in a sufficiently new iPython):"
   ]
  },
  {
   "cell_type": "code",
   "execution_count": 3,
   "metadata": {},
   "outputs": [
    {
     "name": "stdout",
     "output_type": "stream",
     "text": [
      "Writing piseries.c\n"
     ]
    }
   ],
   "source": [
    "%%file piseries.c\n",
    "\n",
    "#include <stdio.h>\n",
    "#include <math.h>\n",
    "\n",
    "int main(int argc,char **argv) {\n",
    "    int terms = 100, n;\n",
    "    double acc = 0.0, pi;\n",
    "\n",
    "    for(n=0;n<terms;n++) {\n",
    "        /* could also do 1.0 - 2.0 * (n % 2) or (n % 2) ? -1.0 : 1.0  */\n",
    "        /* note that we need at least one float here otherwise we get integer division */\n",
    "        acc += pow(-1.0,n) / (2*n+1);\n",
    "    }\n",
    "\n",
    "    pi = 4 * acc;\n",
    "\n",
    "    printf(\"After %d terms, pi = %f\\n\",terms,pi);\n",
    "\n",
    "    return 0;\n",
    "}"
   ]
  },
  {
   "cell_type": "markdown",
   "metadata": {},
   "source": [
    "(Running shell commands with \"`!`\" in iPython.)"
   ]
  },
  {
   "cell_type": "code",
   "execution_count": 5,
   "metadata": {},
   "outputs": [],
   "source": [
    "!gcc piseries.c -o piseries -lm"
   ]
  },
  {
   "cell_type": "code",
   "execution_count": 6,
   "metadata": {},
   "outputs": [
    {
     "name": "stdout",
     "output_type": "stream",
     "text": [
      "After 100 terms, pi = 3.131593\r\n"
     ]
    }
   ],
   "source": [
    "!./piseries"
   ]
  },
  {
   "cell_type": "markdown",
   "metadata": {},
   "source": [
    "Let's take the C apart and see if we can come up with Python.\n",
    "\n",
    "* First, remove all braces; indentation is still sufficient to specify structure.\n",
    "* Next, remove also semicolons; line endings will do (backslash to continue).\n",
    "* The `int main` declaration is also superfluous, especially given that we don't take command-line arguments. Then we can indent everything back. So is the `return 0`.\n",
    "* In Python, there's no need to declare the type of variables, since it's determined at runtime.\n",
    "* The `for` line is not very expressive because it concerns us with the mechanics of the counter. We replace it with the more description Python form.\n",
    "* `pow` is just `**`, and we don't need `math.h` to use it.\n",
    "* `printf` becomes `print`, with rather similar syntax (a case where the Python designer thought it useful to rely on programmers' experience with C); it does not need `stdio.h` though, nor the final `\\n`."
   ]
  },
  {
   "cell_type": "code",
   "execution_count": 7,
   "metadata": {},
   "outputs": [
    {
     "name": "stdout",
     "output_type": "stream",
     "text": [
      "After 100 terms, pi = 3.131593\n"
     ]
    }
   ],
   "source": [
    "terms = 100\n",
    "acc = 0.0\n",
    "\n",
    "for n in range(terms):\n",
    "    acc += (-1.0)**n / (2*n+1)\n",
    "\n",
    "pi = 4 * acc\n",
    "\n",
    "print(\"After %d terms, pi = %f\" % (terms,pi))"
   ]
  },
  {
   "cell_type": "markdown",
   "metadata": {},
   "source": [
    "This is much terser, but it's still influenced heavily by the programming logic that we need in C. We can make it more _Pythonic_ by using Python's built-in `sum`, and Python's _generator expression_ (an object that returns a sequence of other objects built from a rule)."
   ]
  },
  {
   "cell_type": "code",
   "execution_count": 8,
   "metadata": {},
   "outputs": [
    {
     "name": "stdout",
     "output_type": "stream",
     "text": [
      "After 100 terms, pi = 3.131593\n"
     ]
    }
   ],
   "source": [
    "terms = 100\n",
    "\n",
    "pi = 4 * sum((-1.0)**n / (2*n+1) for n in range(terms))\n",
    "\n",
    "print(\"After %d terms, pi = %f\" % (terms,pi))"
   ]
  },
  {
   "cell_type": "markdown",
   "metadata": {},
   "source": [
    "If we make this into a function, we can have some fun with it, such as monitor its convergence."
   ]
  },
  {
   "cell_type": "code",
   "execution_count": 9,
   "metadata": {},
   "outputs": [],
   "source": [
    "def pi_leibniz(terms):\n",
    "    return 4 * sum((-1.0)**n / (2*n+1) for n in range(terms))"
   ]
  },
  {
   "cell_type": "markdown",
   "metadata": {},
   "source": [
    "We need to _import_ a couple of modules. `math` to give us the exact value of pi, and `matplotlib` to plot its error."
   ]
  },
  {
   "cell_type": "code",
   "execution_count": 11,
   "metadata": {},
   "outputs": [],
   "source": [
    "import math\n",
    "import matplotlib.pyplot as mp"
   ]
  },
  {
   "cell_type": "markdown",
   "metadata": {},
   "source": [
    "In iPython notebook, this magic makes sure that we can plot inside the notebook."
   ]
  },
  {
   "cell_type": "code",
   "execution_count": 12,
   "metadata": {},
   "outputs": [],
   "source": [
    "%matplotlib inline"
   ]
  },
  {
   "cell_type": "markdown",
   "metadata": {},
   "source": [
    "Here we use a _list comprehension_ to build a Python _list_ of the errors made in computing pi. "
   ]
  },
  {
   "cell_type": "code",
   "execution_count": 13,
   "metadata": {},
   "outputs": [
    {
     "data": {
      "text/plain": [
       "Text(0.5,1,'pi with arctan series')"
      ]
     },
     "execution_count": 13,
     "metadata": {},
     "output_type": "execute_result"
    },
    {
     "data": {
      "image/png": "[encoded data removed]",
      "text/plain": [
       "<matplotlib.figure.Figure at 0x7f24e2ba09b0>"
      ]
     },
     "metadata": {},
     "output_type": "display_data"
    }
   ],
   "source": [
    "error_leibniz = [abs(pi_leibniz(i) - math.pi) for i in range(100)]\n",
    "\n",
    "mp.semilogy(error_leibniz)\n",
    "\n",
    "# show what we're plotting\n",
    "mp.xlabel('iteration')\n",
    "mp.ylabel('error')\n",
    "mp.title('pi with arctan series')"
   ]
  },
  {
   "cell_type": "markdown",
   "metadata": {},
   "source": [
    "Convergence is not so great! It's actually linear in the number of terms: the error decreases only as $k^{-1}$, since the $k$-th residual is bounded by $1/(2k+3)$. So the cost of new digits rises exponentially."
   ]
  },
  {
   "cell_type": "markdown",
   "metadata": {},
   "source": [
    "#### 1.1.2 With Archimedes' exhaustion principle"
   ]
  },
  {
   "cell_type": "markdown",
   "metadata": {},
   "source": [
    "To do better, we leave Leibniz and go back to Archimedes.\n",
    "\n",
    "It seems fitting that we start with the first known algorithm to do so, devised by none other than Archimedes (circa 287–211 B.C.). He figured out that the perimeters of regular polygons inscribed and circumscribed around the unit circle would represent lower and higher bounds to $2\\pi$, of increasing accuracy as the number of sides increases. Using hexagons, the circumscribed semiperimeter comes to $a_0 = 2 \\sqrt{3}$, and the inscribed semiperimeter to $b_0 = 3$.\n",
    "\n",
    "[Here we include the figure `archimedes-1.png` in this directory using the Markdown syntax.]\n",
    "\n",
    "![Archimedes' geometric scheme to approximate $\\pi$.](./archimedes-1.png)\n",
    "\n",
    "Using only geometric reasoning, Archimedes' was able to work out the change in the two perimeters when the number of sides is doubled, and he applied this step four times (up to 96-gons), obtaining $b_4 < \\pi < a_4$, namely $\\frac{223}{71} < \\pi < \\frac{22}{7}$, or $3.1408 < \\pi < 3.1429$. Archimedes didn't have decimal numbers, which makes his work even more remarkable.[^1]\n",
    "The iterative nature of the algorithm makes it possible to compute $\\pi$ (at least in principle) to any precision, and it can be rightfully said to mark the birth of both numerical and error analysis. Indeed, Archimedes' process of _exhaustion_ anticipates modern integration... but that's another story."
   ]
  },
  {
   "cell_type": "markdown",
   "metadata": {},
   "source": [
    "From a modern viewpoint, it is hard to resist using trigonometry to reproduce Archimedes' doubling step, which in fact makes it quite painless. Given the perimeters\n",
    "\n",
    "$$a_n = 6 \\times 2^n \\, \\tan \\theta_n, \\quad\n",
    "b_n = 6 \\times 2^n \\, \\sin \\theta_n, \\quad\n",
    "\\theta_n = \\frac{\\pi}{6 \\times 2^n},$$\n",
    "\n",
    "we need to find $a_{n+1}$ and $b_{n+1}$ given $a_n$, $b_n$. A quick look at our high-school trigonometry book suggests the bisection formulas,\n",
    "\n",
    "$$\\tan \\theta_{n+1} = \\tan(\\theta_n/2) = \\frac{\\sin \\theta_n}{1 + \\cos \\theta_n}, \\quad\n",
    "\\sin \\theta_{n+1} = \\sin(\\theta_n/2) = \\pm \\sqrt{\\frac{1 - \\cos \\theta_n}{2}};$$\n",
    "\n",
    "and after some rumination, we succeed in assembling\n",
    "\n",
    "$$a_{n+1} = \\frac{2 a_n b_n}{a_n + b_n}, \\quad\n",
    "b_{n+1} = \\sqrt{a_{n+1} b_n}.$$\n",
    "\n",
    "The iteration can be seeded with the hexagon ($\\theta_0 = \\pi/6$, $a_n = 2 \\sqrt{3}$, $b_n = 3$)."
   ]
  },
  {
   "cell_type": "code",
   "execution_count": 14,
   "metadata": {},
   "outputs": [],
   "source": [
    "def pi_archimedes(iters):\n",
    "    a, b = 2 * math.sqrt(3), 3    # tuple unpacking\n",
    "        \n",
    "    for i in range(iters):        # iterate from i = 0 to n-1, C-style\n",
    "        a = 2 * a * b  / (a + b)\n",
    "        b = math.sqrt(a * b)\n",
    "        \n",
    "    return a                      # return the higher bound"
   ]
  },
  {
   "cell_type": "markdown",
   "metadata": {},
   "source": [
    "Nice!"
   ]
  },
  {
   "cell_type": "code",
   "execution_count": 15,
   "metadata": {},
   "outputs": [
    {
     "data": {
      "text/plain": [
       "3.1415929273850964"
      ]
     },
     "execution_count": 15,
     "metadata": {},
     "output_type": "execute_result"
    }
   ],
   "source": [
    "pi_archimedes(10)"
   ]
  },
  {
   "cell_type": "markdown",
   "metadata": {},
   "source": [
    "If we want to be more Pythonic, we can define an iterator operator/function, and apply it repeatedly. Here we learn that functions are _first-class objects_ in Python... and also about _tuples_."
   ]
  },
  {
   "cell_type": "code",
   "execution_count": 16,
   "metadata": {},
   "outputs": [],
   "source": [
    "def iteration_archimedes(a,b):\n",
    "    a = 2 * a * b  / (a + b)\n",
    "    b = math.sqrt(a * b)\n",
    "    \n",
    "    return a,b          # return a,b as a tuple\n",
    "\n",
    "\n",
    "# a generic function to iterate function \"func\" n times, starting from x\n",
    "def iterate(func,x,n):\n",
    "    for i in range(n):\n",
    "        x = func(*x)    # Python idiom to unpack the tuple x into individual arguments\n",
    "        \n",
    "    return x\n",
    "\n",
    "def pi_archimedes2(iters):\n",
    "    a, b = iterate(iteration_archimedes,(2*math.sqrt(3),3),iters)\n",
    "    return a"
   ]
  },
  {
   "cell_type": "markdown",
   "metadata": {},
   "source": [
    "Note however that `iterate` wouldn't work on functions with a single argument, because it won't be able to unpack it."
   ]
  },
  {
   "cell_type": "code",
   "execution_count": 17,
   "metadata": {},
   "outputs": [
    {
     "ename": "TypeError",
     "evalue": "square() argument after * must be an iterable, not int",
     "output_type": "error",
     "traceback": [
      "\u001b[0;31m---------------------------------------------------------------------------\u001b[0m",
      "\u001b[0;31mTypeError\u001b[0m                                 Traceback (most recent call last)",
      "\u001b[0;32m<ipython-input-17-c1b0eb4e1998>\u001b[0m in \u001b[0;36m<module>\u001b[0;34m()\u001b[0m\n\u001b[1;32m      2\u001b[0m     \u001b[0;32mreturn\u001b[0m \u001b[0mx\u001b[0m\u001b[0;34m*\u001b[0m\u001b[0mx\u001b[0m\u001b[0;34m\u001b[0m\u001b[0m\n\u001b[1;32m      3\u001b[0m \u001b[0;34m\u001b[0m\u001b[0m\n\u001b[0;32m----> 4\u001b[0;31m \u001b[0miterate\u001b[0m\u001b[0;34m(\u001b[0m\u001b[0msquare\u001b[0m\u001b[0;34m,\u001b[0m\u001b[0;36m2\u001b[0m\u001b[0;34m,\u001b[0m\u001b[0;36m4\u001b[0m\u001b[0;34m)\u001b[0m\u001b[0;34m\u001b[0m\u001b[0m\n\u001b[0m",
      "\u001b[0;32m<ipython-input-16-95a3b6e91b3f>\u001b[0m in \u001b[0;36miterate\u001b[0;34m(func, x, n)\u001b[0m\n\u001b[1;32m      9\u001b[0m \u001b[0;32mdef\u001b[0m \u001b[0miterate\u001b[0m\u001b[0;34m(\u001b[0m\u001b[0mfunc\u001b[0m\u001b[0;34m,\u001b[0m\u001b[0mx\u001b[0m\u001b[0;34m,\u001b[0m\u001b[0mn\u001b[0m\u001b[0;34m)\u001b[0m\u001b[0;34m:\u001b[0m\u001b[0;34m\u001b[0m\u001b[0m\n\u001b[1;32m     10\u001b[0m     \u001b[0;32mfor\u001b[0m \u001b[0mi\u001b[0m \u001b[0;32min\u001b[0m \u001b[0mrange\u001b[0m\u001b[0;34m(\u001b[0m\u001b[0mn\u001b[0m\u001b[0;34m)\u001b[0m\u001b[0;34m:\u001b[0m\u001b[0;34m\u001b[0m\u001b[0m\n\u001b[0;32m---> 11\u001b[0;31m         \u001b[0mx\u001b[0m \u001b[0;34m=\u001b[0m \u001b[0mfunc\u001b[0m\u001b[0;34m(\u001b[0m\u001b[0;34m*\u001b[0m\u001b[0mx\u001b[0m\u001b[0;34m)\u001b[0m    \u001b[0;31m# Python idiom to unpack the tuple x into individual arguments\u001b[0m\u001b[0;34m\u001b[0m\u001b[0m\n\u001b[0m\u001b[1;32m     12\u001b[0m \u001b[0;34m\u001b[0m\u001b[0m\n\u001b[1;32m     13\u001b[0m     \u001b[0;32mreturn\u001b[0m \u001b[0mx\u001b[0m\u001b[0;34m\u001b[0m\u001b[0m\n",
      "\u001b[0;31mTypeError\u001b[0m: square() argument after * must be an iterable, not int"
     ]
    }
   ],
   "source": [
    "def square(x):\n",
    "    return x*x\n",
    "\n",
    "iterate(square,2,4)"
   ]
  },
  {
   "cell_type": "markdown",
   "metadata": {},
   "source": [
    "For that we need a slightly more verbose iterator:"
   ]
  },
  {
   "cell_type": "code",
   "execution_count": 18,
   "metadata": {},
   "outputs": [
    {
     "data": {
      "text/plain": [
       "4294967296"
      ]
     },
     "execution_count": 18,
     "metadata": {},
     "output_type": "execute_result"
    }
   ],
   "source": [
    "def iterate2(func,x,n):\n",
    "    for i in range(n):\n",
    "        x = func(*x) if isinstance(x,tuple) else func(x)\n",
    "        \n",
    "    return x\n",
    "\n",
    "iterate2(square,2,5)"
   ]
  },
  {
   "cell_type": "markdown",
   "metadata": {},
   "source": [
    "Back to Archimedes iteration, its convergence is very fast! But it saturates at an error of $10^{-15}$, because Python uses double precision floating point numbers. Not enough to find the Feynman point!"
   ]
  },
  {
   "cell_type": "code",
   "execution_count": 19,
   "metadata": {},
   "outputs": [
    {
     "data": {
      "text/plain": [
       "<matplotlib.legend.Legend at 0x7f24e295ee10>"
      ]
     },
     "execution_count": 19,
     "metadata": {},
     "output_type": "execute_result"
    },
    {
     "data": {
      "image/png": "[encoded data removed]",
      "text/plain": [
       "<matplotlib.figure.Figure at 0x7f24e29baa58>"
      ]
     },
     "metadata": {},
     "output_type": "display_data"
    }
   ],
   "source": [
    "error_archimedes = [abs(pi_archimedes(i) - math.pi) for i in range(100)]\n",
    "\n",
    "mp.semilogy(error_leibniz)\n",
    "mp.semilogy(error_archimedes)\n",
    "\n",
    "# show what we're plotting\n",
    "mp.xlabel('iteration')\n",
    "mp.ylabel('error')\n",
    "mp.legend(['arctan','archimedes'],loc='center right')"
   ]
  },
  {
   "cell_type": "markdown",
   "metadata": {},
   "source": [
    "(The drop after the 20th iteration is where the `archimedes` estimate happens to match the finite-precision value of `math.pi`. Beyond that point, we cannot truly assess the accuracy of the result.)"
   ]
  },
  {
   "cell_type": "markdown",
   "metadata": {},
   "source": [
    "To get more digits, we can appeal to the \"batteries included\" quality of Python; the quick Googling of \"python arbitrary precision arithmetics\" (which is what we need) yields a link to `mpmath`. Perusing that webpage (http://mpmath.org) convinces us of the credentials of that package. If you are running on Binder, the package is already preinstalled; otherwise, you can install it with `pip` (https://pip.pypa.io/en/latest/); from this notebook, you can run `!pip install mpmath`."
   ]
  },
  {
   "cell_type": "markdown",
   "metadata": {},
   "source": [
    "`mpmath` provides replacements for most math functions, and allows us to create a higher-precision float using `mpf`. The digits of precision are set by `mpmath.mp.dps`."
   ]
  },
  {
   "cell_type": "code",
   "execution_count": 20,
   "metadata": {},
   "outputs": [
    {
     "data": {
      "text/plain": [
       "22026.465794806718"
      ]
     },
     "execution_count": 20,
     "metadata": {},
     "output_type": "execute_result"
    }
   ],
   "source": [
    "math.exp(10.0)"
   ]
  },
  {
   "cell_type": "code",
   "execution_count": 21,
   "metadata": {},
   "outputs": [
    {
     "data": {
      "text/plain": [
       "mpf('22026.4657948067165169579006452833')"
      ]
     },
     "execution_count": 21,
     "metadata": {},
     "output_type": "execute_result"
    }
   ],
   "source": [
    "import mpmath\n",
    "\n",
    "mpmath.mp.dps = 30\n",
    "\n",
    "a = mpmath.mpf(10.0)\n",
    "mpmath.exp(a)"
   ]
  },
  {
   "cell_type": "markdown",
   "metadata": {},
   "source": [
    "Moreover, the `mpmath`ness of the `mpf` objects is contagious:"
   ]
  },
  {
   "cell_type": "code",
   "execution_count": 22,
   "metadata": {},
   "outputs": [
    {
     "data": {
      "text/plain": [
       "mpf('4.0')"
      ]
     },
     "execution_count": 22,
     "metadata": {},
     "output_type": "execute_result"
    }
   ],
   "source": [
    "mpmath.mpf(2.0) + 2.0"
   ]
  },
  {
   "cell_type": "markdown",
   "metadata": {},
   "source": [
    "This means that we need only a tiny modification to our iteration code, which seeds it with an `mpf` object, and which replaces the `sqrt` function:"
   ]
  },
  {
   "cell_type": "code",
   "execution_count": 23,
   "metadata": {},
   "outputs": [],
   "source": [
    "def iteration_archimedes_mpmath(a,b):\n",
    "    a = 2 * a * b  / (a + b)\n",
    "    b = mpmath.sqrt(a * b)\n",
    "    \n",
    "    # return a,b as a tuple\n",
    "    return a,b\n",
    "\n",
    "def pi_archimedes_mpmath(iters):\n",
    "    a, b = iterate(iteration_archimedes_mpmath,(2*mpmath.sqrt(3),3),iters)\n",
    "    return a"
   ]
  },
  {
   "cell_type": "code",
   "execution_count": 24,
   "metadata": {},
   "outputs": [],
   "source": [
    "mpmath.mp.dps = 1000"
   ]
  },
  {
   "cell_type": "code",
   "execution_count": 25,
   "metadata": {},
   "outputs": [
    {
     "data": {
      "text/plain": [
       "<matplotlib.legend.Legend at 0x7f248c5d5128>"
      ]
     },
     "execution_count": 25,
     "metadata": {},
     "output_type": "execute_result"
    },
    {
     "data": {
      "image/png": "[encoded data removed]",
      "text/plain": [
       "<matplotlib.figure.Figure at 0x7f24f8689438>"
      ]
     },
     "metadata": {},
     "output_type": "display_data"
    }
   ],
   "source": [
    "error_archimedes_mpmath = [abs(pi_archimedes_mpmath(i) - mpmath.pi) for i in range(100)]\n",
    "\n",
    "mp.semilogy(error_leibniz)\n",
    "mp.semilogy(error_archimedes)\n",
    "mp.semilogy(error_archimedes_mpmath)\n",
    "\n",
    "# show what we're plotting\n",
    "mp.xlabel('iteration')\n",
    "mp.ylabel('error')\n",
    "mp.legend(['arctan','archimedes','mpmath'],loc='center right')"
   ]
  },
  {
   "cell_type": "markdown",
   "metadata": {},
   "source": [
    "#### 1.1.3 Find Feynman's point"
   ]
  },
  {
   "cell_type": "markdown",
   "metadata": {},
   "source": [
    "To find Feynman's point, we convert the `mpf` to a string with the `str` constructor, and use the string method `find` to yield the position where the six nines begin."
   ]
  },
  {
   "cell_type": "code",
   "execution_count": 26,
   "metadata": {},
   "outputs": [
    {
     "data": {
      "text/plain": [
       "mpf('3.141592653589793238462643383279502884197169399375105820974944592307816406286208998628034825342117067982148086513282306647093844609550582231725359408128481117450284102701938521105559644622948954930381964428810975665933446128475648233786783165271201909145648566923460348610454326648213393607260249141273724587006606315588174881520920962829254091715364367892590360011330530548820466521384146951941511609433057270365759591953092186117381932611793105118548074462379962749567351885752724891227938183011949129833673362440656643086021394946395224737190702179860943702770539217176293176752384674818467669405132000568127145263560827785771342757789609173637178721468440901224953430146549585371050792279689258923542019956112129021960864034418159813629774771309960518707211349999998372978049951059731732816096318595024459455346908302642522308253344685035261931188171010003137838752886587533208381420617177669147303598486857121064092774915854716387423296376442498044366963837290348746006879381498024826916267900427369')"
      ]
     },
     "execution_count": 26,
     "metadata": {},
     "output_type": "execute_result"
    }
   ],
   "source": [
    "pi_archimedes_mpmath(1500)"
   ]
  },
  {
   "cell_type": "code",
   "execution_count": 27,
   "metadata": {},
   "outputs": [
    {
     "data": {
      "text/plain": [
       "762"
      ]
     },
     "execution_count": 27,
     "metadata": {},
     "output_type": "execute_result"
    }
   ],
   "source": [
    "# find '999999'; we add one two the resulting index to account for Python's\n",
    "# zero indexing, and subtract two to account for the initial \"3.\"\n",
    "str(pi_archimedes_mpmath(1500)).find('999999') - 1"
   ]
  },
  {
   "cell_type": "markdown",
   "metadata": {},
   "source": [
    "#### 1.1.4 In-class exercises"
   ]
  },
  {
   "cell_type": "markdown",
   "metadata": {},
   "source": [
    "Compute pi using Machin's formula\n",
    "\n",
    "$$\\frac{\\pi}{4} = 4 \\arctan{\\frac{1}{5}} - \\arctan{\\frac{1}{239}}$$\n",
    "\n",
    "and plot its convergence."
   ]
  },
  {
   "cell_type": "markdown",
   "metadata": {},
   "source": [
    "**And/or** compute pi using Brent–Salamin recursion\n",
    "\n",
    "$$\n",
    "\\left\\{\\begin{array}{l} a_0 = 1 \\\\ g_0 = \\frac{1}{\\sqrt{2}} \\end{array}\\right. \\quad\n",
    "\\left\\{\\begin{array}{l} a_{n+1} = \\frac{a_n + g_n}{2} \\\\ g_{n+1} = \\sqrt{a_n g_n} \\end{array}\\right.\n",
    "$$\n",
    "\n",
    "and\n",
    "\n",
    "$$\n",
    "\\pi \\simeq \\frac{4 a_n^2}{1 - \\sum_{j=1}^n 2^{j+1} d_j} \\quad \\text{with} \\quad\n",
    "d_n = a_n^2 - g^2_n.\n",
    "$$"
   ]
  },
  {
   "cell_type": "markdown",
   "metadata": {},
   "source": [
    "### 1.2 References and homework"
   ]
  },
  {
   "cell_type": "markdown",
   "metadata": {},
   "source": [
    "Even _Nature_ [endorses Python](http://www.nature.com/news/programming-pick-up-python-1.16833) as _the_ language for scientific computing!"
   ]
  },
  {
   "cell_type": "markdown",
   "metadata": {},
   "source": [
    "#### 1.2.1 Python references and tutorials"
   ]
  },
  {
   "cell_type": "markdown",
   "metadata": {},
   "source": [
    "The standard (but very good) Python tutorial:\n",
    "\n",
    "* http://docs.python.org/tutorial\n",
    "\n",
    "In order of complexity, for scientific applications:\n",
    "\n",
    "* https://github.com/jrjohansson/scientific-python-lectures\n",
    "* https://scipy-lectures.github.io/index.html\n",
    "* http://nbviewer.ipython.org/gist/rpmuller/5920182\n",
    "\n",
    "Interesting (but incomplete) notes on software development with Python:\n",
    "\n",
    "* http://docs.python-guide.org/en/latest\n",
    "\n",
    "On Pythonic style:\n",
    "\n",
    "* http://python.net/~goodger/projects/pycon/2007/idiomatic/handout.html\n",
    "* http://docs.python-guide.org/en/latest/writing/style/\n",
    "\n",
    "Guido van Rossum's \"History of Python\" blog:\n",
    "\n",
    "* http://python-history.blogspot.com\n",
    "* Its introduction to Python: http://python-history.blogspot.com/2009/01/introduction-and-overview.html\n",
    "* Python's design principles: http://python-history.blogspot.com/2009/01/pythons-design-philosophy.html"
   ]
  },
  {
   "cell_type": "markdown",
   "metadata": {},
   "source": [
    "#### 1.2.2 Homework: anagrams"
   ]
  },
  {
   "cell_type": "markdown",
   "metadata": {},
   "source": [
    "Using a dictionary of English words:\n",
    "* plot the number of anagrams as a function of length;\n",
    "* plot the number of *perfect* anagrams, where we define a perfect anagram as a pair of words where every letter has different neighbors in each (for instance, anatomicophysiologic/physiologicoanatomic is very far from being perfect);\n",
    "* which is the longest perfect anagram."
   ]
  },
  {
   "cell_type": "markdown",
   "metadata": {},
   "source": [
    "I'll start you off with reading a list of dictionary words."
   ]
  },
  {
   "cell_type": "code",
   "execution_count": 32,
   "metadata": {},
   "outputs": [
    {
     "name": "stdout",
     "output_type": "stream",
     "text": [
      "A\r\n",
      "a\r\n",
      "aa\r\n",
      "aal\r\n",
      "aalii\r\n",
      "aam\r\n",
      "Aani\r\n",
      "aardvark\r\n",
      "aardwolf\r\n",
      "Aaron\r\n"
     ]
    }
   ],
   "source": [
    "!head lecture1-files/words.txt"
   ]
  },
  {
   "cell_type": "code",
   "execution_count": 33,
   "metadata": {},
   "outputs": [],
   "source": [
    "words = [line.strip().lower() for line in open('lecture1-files/words.txt','r')]"
   ]
  },
  {
   "cell_type": "code",
   "execution_count": 34,
   "metadata": {},
   "outputs": [
    {
     "data": {
      "text/plain": [
       "235886"
      ]
     },
     "execution_count": 34,
     "metadata": {},
     "output_type": "execute_result"
    }
   ],
   "source": [
    "len(words)"
   ]
  },
  {
   "cell_type": "code",
   "execution_count": 35,
   "metadata": {},
   "outputs": [
    {
     "data": {
      "text/plain": [
       "['a',\n",
       " 'a',\n",
       " 'aa',\n",
       " 'aal',\n",
       " 'aalii',\n",
       " 'aam',\n",
       " 'aani',\n",
       " 'aardvark',\n",
       " 'aardwolf',\n",
       " 'aaron']"
      ]
     },
     "execution_count": 35,
     "metadata": {},
     "output_type": "execute_result"
    }
   ],
   "source": [
    "words[:10]"
   ]
  },
  {
   "cell_type": "markdown",
   "metadata": {},
   "source": [
    "*Hint*: anagrams are pairs of words that are the same when sorted, so you could build a Python dictionary of words indexed by their sorted *key*."
   ]
  }
 ],
 "metadata": {
  "kernelspec": {
   "display_name": "Python 3",
   "language": "python",
   "name": "python3"
  },
  "language_info": {
   "codemirror_mode": {
    "name": "ipython",
    "version": 3
   },
   "file_extension": ".py",
   "mimetype": "text/x-python",
   "name": "python",
   "nbconvert_exporter": "python",
   "pygments_lexer": "ipython3",
   "version": "3.6.3"
  }
 },
 "nbformat": 4,
 "nbformat_minor": 1
}
