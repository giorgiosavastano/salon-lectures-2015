{
 "metadata": {
  "name": "",
  "signature": "sha256:6f7d77c924793f7899dcef7374fa3882290b17631e28626ee9ca4e7b54bd5264"
 },
 "nbformat": 3,
 "nbformat_minor": 0,
 "worksheets": [
  {
   "cells": [
    {
     "cell_type": "heading",
     "level": 1,
     "metadata": {},
     "source": [
      "Salon2 Lecture 3 - Sep 16, 2014"
     ]
    },
    {
     "cell_type": "heading",
     "level": 2,
     "metadata": {},
     "source": [
      "Using Python to program the web"
     ]
    },
    {
     "cell_type": "markdown",
     "metadata": {},
     "source": [
      "We're going to write a command-line tool that parses a LaTeX file for bibliographic references, then grabs the corresponding bibtex records from [ADS](http://adsabs.harvard.edu). Here's a simple LaTeX paper with a few references described with ADS _keys_.\n",
      "\n",
      "We need to:\n",
      "\n",
      "* find out how LaTeX extracts citations from an article\n",
      "* get the corresponding bibtex entries from the web"
     ]
    },
    {
     "cell_type": "markdown",
     "metadata": {},
     "source": [
      "Start by looking at an ADS record for a paper. Note the ADS key. Let's make a note:\n",
      "\n",
      "* To get the abstract: `http://adsabs.harvard.edu/abs/2004PhRvD..69j4017P`\n",
      "* To get the bibtex: `http://adsabs.harvard.edu/cgi-bin/nph-bib_query?bibcode=2004PhRvD..69j4017P&data_type=BIBTEX&db_key=AST&nocookieset=1` (what's needed here?)\n",
      "* What happens if the key is wrong?"
     ]
    },
    {
     "cell_type": "code",
     "collapsed": false,
     "input": [
      "%%file mypaper.tex\n",
      "\n",
      "\\documentclass{article}\n",
      "\\usepackage{aas_macros}\n",
      "\n",
      "\\begin{document}\n",
      "\n",
      "\\title{An example document for getting references with Python.}\n",
      "\\author{Michele}\n",
      "\n",
      "These are some of Michele's articles: \\cite{2014arXiv1407.6710V}, \\cite{2014arXiv1407.1838V},\n",
      "and we're going to cite some together: \\cite{2014MNRAS.440.1446V,2014arXiv1407.1838V}.\n",
      "\n",
      "\\bibliographystyle{plain}\n",
      "\\bibliography{mypaper}\n",
      "\n",
      "\\end{document}"
     ],
     "language": "python",
     "metadata": {},
     "outputs": [
      {
       "output_type": "stream",
       "stream": "stdout",
       "text": [
        "Overwriting mypaper.tex\n"
       ]
      }
     ],
     "prompt_number": 2
    },
    {
     "cell_type": "markdown",
     "metadata": {},
     "source": [
      "If we run `latex mypaper.tex`, several files are created, among them a `.aux` which seems to contain the references that called on."
     ]
    },
    {
     "cell_type": "code",
     "collapsed": false,
     "input": [
      "!ls"
     ],
     "language": "python",
     "metadata": {},
     "outputs": [
      {
       "output_type": "stream",
       "stream": "stdout",
       "text": [
        "Untitled0.ipynb           aas_macros.sty            lecture3-script.html      lecture3-script.ipynb.old mypaper.tex\r\n"
       ]
      }
     ],
     "prompt_number": 3
    },
    {
     "cell_type": "code",
     "collapsed": false,
     "input": [
      "!cat mypaper.aux"
     ],
     "language": "python",
     "metadata": {},
     "outputs": [
      {
       "output_type": "stream",
       "stream": "stdout",
       "text": [
        "\\relax \r\n",
        "\\citation{2014arXiv1407.6710V}\r\n",
        "\\citation{2014arXiv1407.1838V}\r\n",
        "\\citation{2014MNRAS.440.1446V}\r\n",
        "\\citation{2014arXiv1407.1838V}\r\n",
        "\\bibstyle{plain}\r\n",
        "\\bibdata{mypaper}\r\n"
       ]
      }
     ],
     "prompt_number": 5
    },
    {
     "cell_type": "markdown",
     "metadata": {},
     "source": [
      "We'll use a _regular expression_ to grab the ADS keys only from the file. See\n",
      "\n",
      "* https://docs.python.org/3/howto/regex.html\n",
      "* https://docs.python.org/3/library/re.html"
     ]
    },
    {
     "cell_type": "code",
     "collapsed": false,
     "input": [
      "import re"
     ],
     "language": "python",
     "metadata": {},
     "outputs": [],
     "prompt_number": 6
    },
    {
     "cell_type": "markdown",
     "metadata": {},
     "source": [
      "The `r''` string does not \"translate\" backslashes (as in `\\n` = newline) otherwise we'd have to write `\\\\` to get a backslash."
     ]
    },
    {
     "cell_type": "code",
     "collapsed": false,
     "input": [
      "line1 = r'\\citation{2014arXiv1407.6710V}'"
     ],
     "language": "python",
     "metadata": {},
     "outputs": [],
     "prompt_number": 7
    },
    {
     "cell_type": "code",
     "collapsed": false,
     "input": [
      "print(line1)"
     ],
     "language": "python",
     "metadata": {},
     "outputs": [
      {
       "output_type": "stream",
       "stream": "stdout",
       "text": [
        "\\citation{2014arXiv1407.6710V}\n"
       ]
      }
     ],
     "prompt_number": 8
    },
    {
     "cell_type": "markdown",
     "metadata": {},
     "source": [
      "However the backslash is special in regular expressions, so we need `\\\\` to match a literal backslash."
     ]
    },
    {
     "cell_type": "code",
     "collapsed": false,
     "input": [
      "print(re.search(r'\\\\citation',line1))"
     ],
     "language": "python",
     "metadata": {},
     "outputs": [
      {
       "output_type": "stream",
       "stream": "stdout",
       "text": [
        "<_sre.SRE_Match object; span=(0, 9), match='\\\\citation'>\n"
       ]
      }
     ],
     "prompt_number": 9
    },
    {
     "cell_type": "code",
     "collapsed": false,
     "input": [
      "print(re.search(r'\\\\citation',line1))"
     ],
     "language": "python",
     "metadata": {},
     "outputs": [
      {
       "output_type": "stream",
       "stream": "stdout",
       "text": [
        "<_sre.SRE_Match object; span=(0, 9), match='\\\\citation'>\n"
       ]
      }
     ],
     "prompt_number": 10
    },
    {
     "cell_type": "code",
     "collapsed": false,
     "input": [
      "print(re.search(r'\\\\citation\\{.*\\}',line1))"
     ],
     "language": "python",
     "metadata": {},
     "outputs": [
      {
       "output_type": "stream",
       "stream": "stdout",
       "text": [
        "<_sre.SRE_Match object; span=(0, 30), match='\\\\citation{2014arXiv1407.6710V}'>\n"
       ]
      }
     ],
     "prompt_number": 11
    },
    {
     "cell_type": "markdown",
     "metadata": {},
     "source": [
      "Note the parentheses to select a _group_."
     ]
    },
    {
     "cell_type": "code",
     "collapsed": false,
     "input": [
      "print(re.search(r'\\\\citation\\{(.*)\\}',line1).group(1))"
     ],
     "language": "python",
     "metadata": {},
     "outputs": [
      {
       "output_type": "stream",
       "stream": "stdout",
       "text": [
        "2014arXiv1407.6710V\n"
       ]
      }
     ],
     "prompt_number": 12
    },
    {
     "cell_type": "markdown",
     "metadata": {},
     "source": [
      "We can now make a function that extracts citation keys."
     ]
    },
    {
     "cell_type": "code",
     "collapsed": false,
     "input": [
      "def key_from_aux(auxfile):\n",
      "    refs = []\n",
      "\n",
      "    for line in open(auxfile,'r'):\n",
      "        match = re.search(r'\\\\citation\\{(.*)\\}',line)\n",
      "        if match:\n",
      "            refs.append(match.group(1))\n",
      "\n",
      "    return refs"
     ],
     "language": "python",
     "metadata": {},
     "outputs": [],
     "prompt_number": 13
    },
    {
     "cell_type": "code",
     "collapsed": false,
     "input": [
      "key_from_aux('mypaper.aux')"
     ],
     "language": "python",
     "metadata": {},
     "outputs": [
      {
       "metadata": {},
       "output_type": "pyout",
       "prompt_number": 14,
       "text": [
        "['2014arXiv1407.6710V',\n",
        " '2014arXiv1407.1838V',\n",
        " '2014MNRAS.440.1446V',\n",
        " '2014arXiv1407.1838V']"
       ]
      }
     ],
     "prompt_number": 14
    },
    {
     "cell_type": "markdown",
     "metadata": {},
     "source": [
      "OK, let's try getting a reference from ADS. Looking at the website, we discover the URL that we need to type to get an abstract page. The `requests` package helps us download it to Python.\n",
      "\n",
      "* http://docs.python-requests.org/en/latest/"
     ]
    },
    {
     "cell_type": "code",
     "collapsed": false,
     "input": [
      "import requests"
     ],
     "language": "python",
     "metadata": {},
     "outputs": [],
     "prompt_number": 16
    },
    {
     "cell_type": "code",
     "collapsed": false,
     "input": [
      "r = requests.get('http://adsabs.harvard.edu/abs/2004PhRvD..69j4017P')"
     ],
     "language": "python",
     "metadata": {},
     "outputs": [],
     "prompt_number": 17
    },
    {
     "cell_type": "code",
     "collapsed": false,
     "input": [
      "r.ok"
     ],
     "language": "python",
     "metadata": {},
     "outputs": [
      {
       "metadata": {},
       "output_type": "pyout",
       "prompt_number": 18,
       "text": [
        "True"
       ]
      }
     ],
     "prompt_number": 18
    },
    {
     "cell_type": "code",
     "collapsed": false,
     "input": [
      "r.text"
     ],
     "language": "python",
     "metadata": {},
     "outputs": [
      {
       "metadata": {},
       "output_type": "pyout",
       "prompt_number": 19,
       "text": [
        "'<!DOCTYPE HTML PUBLIC \"-//W3C//DTD HTML 4.0 Transitional//EN\"\\n\"http://www.w3.org/TR/REC-html40/loose.dtd\">\\n<HTML>\\n<!--RAW FILE-->\\n<head>\\n<base href=\"http://adsabs.harvard.edu/abs/2004PhRvD..69j4017P\" />\\n<link rel=\"canonical\" href=\"http://adsabs.harvard.edu/abs/2004PhRvD..69j4017P\" />\\n<meta name=\"robots\" content=\"noarchive\" />\\n<meta http-equiv=\"Content-Type\" content=\"text/html; charset=iso-8859-1\" />\\n<TITLE>Physical template family for gravitational waves from precessing binaries of spi</TITLE>\\n<meta name=\"citation_language\" content=\"en\" />\\n<meta name=\"citation_doi\" content=\"10.1103/PhysRevD.69.104017\" />\\n<meta name=\"citation_abstract_html_url\" content=\"http://adsabs.harvard.edu/abs/2004PhRvD..69j4017P\" />\\n<meta name=\"citation_title\" content=\"Physical template family for gravitational waves from precessing binaries of spinning compact objects: Application to single-spin binaries\" />\\n<meta name=\"citation_authors\" content=\"Pan, Yi; Buonanno, Alessandra; Chen, Yanbei; Vallisneri, Michele\" />\\n<meta name=\"citation_keywords\" content=\"Wave generation and sources, Post-Newtonian approximation, perturbation theory, related approximations, Gravitational wave detectors and experiments, Gravitational radiation detectors, mass spectrometers, and other instrumentation and techniques\" />\\n<meta name=\"citation_issn\" content=\"0556-2821\" />\\n<meta name=\"citation_date\" content=\"05/2004\" />\\n<meta name=\"citation_journal_title\" content=\"Physical Review D\" />\\n<meta name=\"citation_volume\" content=\"69\" />\\n<meta name=\"citation_issue\" content=\"10\" />\\n<meta name=\"citation_firstpage\" content=\"104017\" />\\n<meta name=\"citation_arxiv_id\" content=\"gr-qc/0310034\" />\\n<link title=\"schema(PRISM)\" rel=\"schema.prism\" href=\"http://prismstandard.org/namespaces/1.2/basic/\" />\\n<meta name=\"prism.publicationName\" content=\"Physical Review D\" />\\n<meta name=\"prism.issn\" content=\"0556-2821\" />\\n<meta name=\"prism.volume\" content=\"69\" />\\n<meta name=\"prism.startingPage\" content=\"104017\" />\\n<link title=\"schema(DC)\" rel=\"schema.dc\" href=\"http://purl.org/dc/elements/1.1/\" />\\n<meta name=\"dc.language\" content=\"en\" />\\n<meta name=\"dc.identifier\" content=\"doi:10.1103/PhysRevD.69.104017\" />\\n<meta name=\"dc.date\" content=\"2004-05\" />\\n<meta name=\"dc.source\" content=\"Physical Review D, vol. 69, Issue 10, id. 104017\" />\\n<meta name=\"dc.title\" content=\"Physical template family for gravitational waves from precessing binaries of spinning compact objects: Application to single-spin binaries\" />\\n<meta name=\"dc.creator\" content=\"Pan, Yi\" />\\n<meta name=\"dc.creator\" content=\"Buonanno, Alessandra\" />\\n<meta name=\"dc.creator\" content=\"Chen, Yanbei\" />\\n<meta name=\"dc.creator\" content=\"Vallisneri, Michele\" />\\n<link rel=\"icon\" href=\"/favicon.ico\" type=\"image/x-icon\" />\\n<link rel=\"shortcut icon\" href=\"/favicon.ico\" type=\"image/x-icon\" />\\n<SCRIPT language=\"JavaScript\" type=\"text/javascript\">\\n<!-- Begin\\nfunction mkemail(parts) {\\n    var sep = \".\";\\n    var str = arguments[0];\\n    for ( var i = 1 ; i < arguments.length ; i++ ) {\\n        if ( arguments[i] == \"\" ) {\\n            sep = String.fromCharCode(29+35) ;\\n           continue ;\\n        } else {\\n            str = str.concat ( sep ) ;\\n            str = str.concat ( arguments[i] ) ;\\n            sep = \".\";\\n        }\\n    }\\n    return(str);\\n}\\nvar toggle = 0 ;\\nfunction t(){\\nif ( toggle == 0 ) {\\nsetStyleByClass(\"span\",\"a\",\"backgroundColor\",\"#ffffff\");\\nsetStyleByClass(\"div\",\"h\",\"backgroundColor\",\"#ffffff\");\\nsetStyleByClass(\"div\",\"h\",\"opacity\",\"0\");\\nsetStyleByClass(\"div\",\"h\",\"filter\",\"alpha(opacity=0)\");\\nsetStyleByClass(\"span\",\"b\",\"backgroundColor\",\"#ffffff\");\\nsetStyleByClass(\"div\",\"i\",\"backgroundColor\",\"#ffffff\");\\nsetStyleByClass(\"div\",\"i\",\"opacity\",\"0\");\\nsetStyleByClass(\"div\",\"i\",\"filter\",\"alpha(opacity=0)\");\\nsetStyleByClass(\"span\",\"c\",\"backgroundColor\",\"#ffffff\");\\nsetStyleByClass(\"div\",\"j\",\"backgroundColor\",\"#ffffff\");\\nsetStyleByClass(\"div\",\"j\",\"opacity\",\"0\");\\nsetStyleByClass(\"div\",\"j\",\"filter\",\"alpha(opacity=0)\");\\nsetStyleByClass(\"span\",\"d\",\"backgroundColor\",\"#ffffff\");\\nsetStyleByClass(\"div\",\"k\",\"backgroundColor\",\"#ffffff\");\\nsetStyleByClass(\"div\",\"k\",\"opacity\",\"0\");\\nsetStyleByClass(\"div\",\"k\",\"filter\",\"alpha(opacity=0)\");\\nsetStyleByClass(\"span\",\"e\",\"backgroundColor\",\"#ffffff\");\\nsetStyleByClass(\"div\",\"l\",\"backgroundColor\",\"#ffffff\");\\nsetStyleByClass(\"div\",\"l\",\"opacity\",\"0\");\\nsetStyleByClass(\"div\",\"l\",\"filter\",\"alpha(opacity=0)\");\\nsetStyleByClass(\"span\",\"f\",\"backgroundColor\",\"#ffffff\");\\nsetStyleByClass(\"div\",\"m\",\"backgroundColor\",\"#ffffff\");\\nsetStyleByClass(\"div\",\"m\",\"opacity\",\"0\");\\nsetStyleByClass(\"div\",\"m\",\"filter\",\"alpha(opacity=0)\");\\nsetStyleByClass(\"span\",\"g\",\"backgroundColor\",\"#ffffff\");\\nsetStyleByClass(\"div\",\"n\",\"backgroundColor\",\"#ffffff\");\\nsetStyleByClass(\"div\",\"n\",\"opacity\",\"0\");\\nsetStyleByClass(\"div\",\"n\",\"filter\",\"alpha(opacity=0)\");\\ntoggle = 1 ;\\n} else {\\nsetStyleByClass(\"span\",\"a\",\"backgroundColor\",\"#ffff88\");\\nsetStyleByClass(\"div\",\"h\",\"backgroundColor\",\"#ffff00\");\\nsetStyleByClass(\"div\",\"h\",\"opacity\",\"0.3\");\\nsetStyleByClass(\"div\",\"h\",\"filter\",\"alpha(opacity=30)\");\\nsetStyleByClass(\"span\",\"b\",\"backgroundColor\",\"#ccccff\");\\nsetStyleByClass(\"div\",\"i\",\"backgroundColor\",\"#3333ff\");\\nsetStyleByClass(\"div\",\"i\",\"opacity\",\"0.3\");\\nsetStyleByClass(\"div\",\"i\",\"filter\",\"alpha(opacity=30)\");\\nsetStyleByClass(\"span\",\"c\",\"backgroundColor\",\"#ffcccc\");\\nsetStyleByClass(\"div\",\"j\",\"backgroundColor\",\"#ff3333\");\\nsetStyleByClass(\"div\",\"j\",\"opacity\",\"0.3\");\\nsetStyleByClass(\"div\",\"j\",\"filter\",\"alpha(opacity=30)\");\\nsetStyleByClass(\"span\",\"d\",\"backgroundColor\",\"#bbffff\");\\nsetStyleByClass(\"div\",\"k\",\"backgroundColor\",\"#00ffff\");\\nsetStyleByClass(\"div\",\"k\",\"opacity\",\"0.3\");\\nsetStyleByClass(\"div\",\"k\",\"filter\",\"alpha(opacity=30)\");\\nsetStyleByClass(\"span\",\"e\",\"backgroundColor\",\"#ffdd77\");\\nsetStyleByClass(\"div\",\"l\",\"backgroundColor\",\"#ff6600\");\\nsetStyleByClass(\"div\",\"l\",\"opacity\",\"0.3\");\\nsetStyleByClass(\"div\",\"l\",\"filter\",\"alpha(opacity=30)\");\\nsetStyleByClass(\"span\",\"f\",\"backgroundColor\",\"#ccffaa\");\\nsetStyleByClass(\"div\",\"m\",\"backgroundColor\",\"#33ff00\");\\nsetStyleByClass(\"div\",\"m\",\"opacity\",\"0.3\");\\nsetStyleByClass(\"div\",\"m\",\"filter\",\"alpha(opacity=30)\");\\nsetStyleByClass(\"span\",\"g\",\"backgroundColor\",\"#ffccff\");\\nsetStyleByClass(\"div\",\"n\",\"backgroundColor\",\"#ff00ff\");\\nsetStyleByClass(\"div\",\"n\",\"opacity\",\"0.3\");\\nsetStyleByClass(\"div\",\"n\",\"filter\",\"alpha(opacity=30)\");\\ntoggle = 0 ;\\n}\\n}\\nvar ie = (document.all) ? true : false;\\n\\nfunction setStyleByClass(t,c,p,v){\\n\\tvar elements;\\n\\tif(t == \\'*\\') {\\n\\t\\telements = (ie) ? document.all : document.getElementsByTagName(\\'*\\');\\n\\t} else {\\n\\t\\telements = document.getElementsByTagName(t);\\n\\t}\\n\\tfor (var i = 0; i < elements.length; i++)\\n    {\\n\\t\\tvar node = elements.item(i);\\n\\t\\tfor(var j = 0; j < node.attributes.length; j++)\\n\\t\\t{\\n\\t\\t\\tif(node.attributes.item(j).nodeName == \\'class\\')\\n\\t\\t\\t{\\n\\t\\t\\t\\tif(node.attributes.item(j).nodeValue == c)\\n\\t\\t\\t\\t{\\n\\t\\t\\t\\teval(\\'node.style.\\' + p + \" = \\'\" +v + \"\\'\");\\n\\t\\t\\t\\t}\\n\\t\\t\\t}\\n\\t\\t}\\n\\t}\\n}\\n//  End -->\\n</SCRIPT>\\n<style>.a{background-color: #ffff88}</style>\\n<style>.h{background-color: #ffff00}</style>\\n<style>.b{background-color: #ccccff}</style>\\n<style>.i{background-color: #3333ff}</style>\\n<style>.c{background-color: #ffcccc}</style>\\n<style>.j{background-color: #ff3333}</style>\\n<style>.d{background-color: #bbffff}</style>\\n<style>.k{background-color: #00ffff}</style>\\n<style>.e{background-color: #ffdd77}</style>\\n<style>.l{background-color: #ff6600}</style>\\n<style>.f{background-color: #ccffaa}</style>\\n<style>.m{background-color: #33ff00}</style>\\n<style>.g{background-color: #ffccff}</style>\\n<style>.n{background-color: #ff00ff}</style>\\n<style type=\"text/css\">\\na:link {color: #0000ff}\\na.oa:link {color: #00a000}\\na:visited {color: #4000a0}\\na.oa:visited {color: #006666}\\na:hover {color: #ff0000}\\na.oa:hover {color: #cc33cc}\\n</style>\\n</head>\\n<body bgcolor=\"#ffffff\"  text=\"#000000\" link=\"#0000ff\" alink=\"#ff0000\" vlink=\"#4000a0\">\\n<div align=\"right\" style=\"font-size:84%;padding-bottom:4px\"><a href=\"http://adsabs.harvard.edu/cgi-bin/nph-manage_account?man_cmd=login&amp;man_url=http://adsabs.harvard.edu/abs/2004PhRvD..69j4017P\">Sign on</a></div>\\n<p><h3><A HREF=\"http://www.adsabs.harvard.edu/\">SAO/NASA ADS</a> <a href=\"http://adsabs.harvard.edu/abstract_service.html\">Astronomy Abstract Service</A></h3>\\n<hr>\\n<p>\\n<dl>\\n<dt><table width=\"100%\"><tr><td align=\"left\"><strong>&#183; <a href=\"http://adsabs.harvard.edu/cgi-bin/nph-abs_connect?return_req=no_params&amp;arxiv_sel=ALL&amp;db_key=AST&amp;text=The%20detection%20of%20the%20gravitational%20waves%20%28GWs%29%20emitted%20by%20precessing%0abinaries%20of%20spinning%20compact%20objects%20is%20complicated%20by%20the%20large%20number%0aof%20parameters%20%28such%20as%20the%20magnitudes%20and%20initial%20directions%20of%20the%0aspins,%20and%20the%20position%20and%20orientation%20of%20the%20binary%20with%20respect%20to%0athe%20detector%29%20that%20are%20required%20to%20model%20accurately%20the%0aprecession-induced%20modulations%20of%20the%20GW%20signal.%20In%20this%20paper%20we%0adescribe%20a%20fast%20matched-filtering%20search%20scheme%20for%20precessing%20binaries,%0aand%20we%20adopt%20the%20physical%20template%20family%20proposed%20by%20Buonanno,%20Chen,%0aand%20Vallisneri%20%5bPhys.%20Rev.%20D%2067,%20104025%20%282003%29%5d%20for%20ground-based%0ainterferometers.%20This%20family%20provides%20essentially%20exact%20waveforms,%0awritten%20directly%20in%20terms%20of%20the%20physical%20parameters,%20for%20binaries%20with%0aa%20single%20significant%20spin,%20and%20for%20which%20the%20observed%20GW%20signal%20is%0aemitted%20during%20the%20phase%20of%20adiabatic%20inspiral%20%28for%20LIGO-I%20and%20VIRGO,%0athis%20corresponds%20to%20a%20total%20mass%20M%26lsim%3b15M%3cSUB%3e%26sun%3b%3c/SUB%3e%29.%20We%20show%0ahow%20the%20detection%20statistic%20can%20be%20maximized%20automatically%20over%20all%20the%0aparameters%20%28including%20the%20position%20and%20orientation%20of%20the%20binary%20with%0arespect%20to%20the%20detector%29,%20except%20four%20%28the%20two%20masses,%20the%20magnitude%20of%0athe%20single%20spin,%20and%20the%20opening%20angle%20between%20the%20spin%20and%20the%20orbital%0aangular%20momentum%29,%20so%20the%20template%20bank%20used%20in%20the%20search%20is%20only%0afour-dimensional%3b%20this%20technique%20is%20relevant%20also%20to%20the%20searches%20for%20GW%0afrom%20extreme-mass-ratio%20inspirals%20and%20supermassive%20black%20hole%20inspirals%0ato%20be%20performed%20using%20the%20space-borne%20detector%20LISA.%20Using%20the%20LIGO-I%0adesign%20sensitivity,%20we%20compute%20the%20detection%20threshold%20%28%26tilde%3b10%29%0arequired%20for%20a%20false-alarm%20probability%20of%2010%3cSUP%3e-3%3c/SUP%3e/yr%20and%20the%0anumber%20of%20templates%20%28%26tilde%3b76%20000%29%20required%20for%20a%20minimum%20match%20of%200.97%0afor%20the%20mass%20range%0a%28m%3cSUB%3e1%3c/SUB%3e,m%3cSUB%3e2%3c/SUB%3e%29%3d%5b7,12%5dM%3cSUB%3e%26sun%3b%3c/SUB%3e%26times%3b%5b1,3%5dM%3cSUB%3e%26sun%3b%3c/SUB%3e.%0a+Wave%20generation%20and%20sources,%20Post-Newtonian%20approximation,%20perturbation%20theory,%20related%20approximations,%20Gravitational%20wave%20detectors%20and%20experiments,%20Gravitational%20radiation%20detectors,%20mass%20spectrometers,%20and%20other%20instrumentation%20and%20techniques+&amp;title=Physical%20template%20family%20for%20gravitational%20waves%20from%20precessing%20binaries%20of%20spinning%20compact%20objects%3a%20Application%20to%20single-spin%20binaries\">Find Similar Abstracts</a> (with <a href=\"#feedback\">default settings below</a>)</strong></td>\\n</tr></table>\\n<dt><strong>&#183; <a  href=\"http://adsabs.harvard.edu/cgi-bin/nph-data_query?bibcode=2004PhRvD..69j4017P&#38;link_type=EJOURNAL&#38;db_key=AST&#38;high=\">Electronic Refereed Journal Article (HTML)</a></strong>\\n<dt><strong>&#183; <a class=\"oa\" href=\"http://adsabs.harvard.edu/cgi-bin/nph-data_query?bibcode=2004PhRvD..69j4017P&#38;link_type=PREPRINT&#38;db_key=AST\">arXiv e-print</strong></a> (arXiv:gr-qc/0310034)\\n<dt><strong>&#183; <a  href=\"http://adsabs.harvard.edu/cgi-bin/nph-data_query?bibcode=2004PhRvD..69j4017P&#38;link_type=REFERENCES&#38;db_key=AST&#38;high=\">References in the article</a></strong>\\n<dt><strong>&#183; <a href=\"http://adsabs.harvard.edu/cgi-bin/nph-data_query?bibcode=2004PhRvD..69j4017P&#38;link_type=CITATIONS&#38;db_key=AST\">Citations to the Article (72)</strong></a> (<a href=\"http://adsabs.harvard.edu/cgi-bin/nph-ref_history?refs=CITATIONS&#38;bibcode=2004PhRvD..69j4017P\">Citation History</a>)\\n<dt><strong>&#183; <a  href=\"http://adsabs.harvard.edu/cgi-bin/nph-data_query?bibcode=2004PhRvD..69j4017P&#38;link_type=REFCIT&#38;db_key=AST&#38;high=\">Refereed Citations to the Article</a></strong>\\n<dt><strong>&#183; <a  href=\"http://adsabs.harvard.edu/cgi-bin/nph-data_query?bibcode=2004PhRvD..69j4017P&#38;link_type=ASSOCIATED&#38;db_key=AST&#38;high=\">Associated Articles</a></strong>\\n<dt><strong>&#183; <a href=\"http://adsabs.harvard.edu/cgi-bin/nph-data_query?bibcode=2004PhRvD..69j4017P&#38;link_type=AR&#38;db_key=AST\">Also-Read Articles</a></strong> (<a href=\"http://adsabs.harvard.edu/cgi-bin/nph-ref_history?refs=AR&#38;bibcode=2004PhRvD..69j4017P\">Reads History</a>)\\n<dt><strong>&#183; <a  href=\"http://adsabs.harvard.edu/cgi-bin/nph-data_query?bibcode=2004PhRvD..69j4017P&#38;link_type=SPIRES&#38;db_key=AST&#38;high=\">HEP/Spires Information</a></strong>\\n<dt>&#183;\\n<dt><strong>&#183; <a href=\"http://www.microsofttranslator.com/BV.aspx?from=en&amp;a=http://adsabs.harvard.edu/abs/2004PhRvD..69j4017P\">Translate This Page</a></strong>\\n\\n</dl>\\n<table>\\n<tr><td nowrap valign=\"top\" align=\"left\"><b>Title:</b></td><td><br></td><td align=\"left\" valign=\"top\">Physical template family for gravitational waves from precessing binaries of spinning compact objects: Application to single-spin binaries <span style=\"font-weight: bold; color: red;\">[&#160;Erratum:&#160;<a style=\"color: red;\" href=\"http://adsabs.harvard.edu/abs/2006PhRvD..74b9905P\">2006PhRvD..74b9905P</a>&#160;]</span></td></tr>\\n<tr><td nowrap valign=\"top\" align=\"left\"><b>Authors:</b></td><td><br></td><td align=\"left\" valign=\"top\"><a href=\"http://adsabs.harvard.edu/cgi-bin/author_form?author=Pan,+Y&#38;fullauthor=Pan,%20Yi&#38;charset=ISO-8859-1&#38;db_key=AST\">Pan,&#160;Yi</a>; <a href=\"http://adsabs.harvard.edu/cgi-bin/author_form?author=Buonanno,+A&#38;fullauthor=Buonanno,%20Alessandra&#38;charset=ISO-8859-1&#38;db_key=AST\">Buonanno,&#160;Alessandra</a>; <a href=\"http://adsabs.harvard.edu/cgi-bin/author_form?author=Chen,+Y&#38;fullauthor=Chen,%20Yanbei&#38;charset=ISO-8859-1&#38;db_key=AST\">Chen,&#160;Yanbei</a>; <a href=\"http://adsabs.harvard.edu/cgi-bin/author_form?author=Vallisneri,+M&#38;fullauthor=Vallisneri,%20Michele&#38;charset=ISO-8859-1&#38;db_key=AST\">Vallisneri,&#160;Michele</a></td></tr>\\n<tr><td nowrap valign=\"top\" align=\"left\"><b>Affiliation:</b></td><td><br></td><td align=\"left\" valign=\"top\">AA(Theoretical Astrophysics and Relativity, California Institute of Technology, Pasadena, California 91125, USA), AB(Theoretical Astrophysics and Relativity, California Institute of Technology, Pasadena, California 91125, USA), AC(Theoretical Astrophysics and Relativity, California Institute of Technology, Pasadena, California 91125, USA), AD(Theoretical Astrophysics and Relativity, California Institute of Technology, Pasadena, California 91125, USA)</td></tr>\\n<tr><td nowrap valign=\"top\" align=\"left\"><b>Publication:</b></td><td><br></td><td align=\"left\" valign=\"top\">Physical Review D, vol. 69, Issue 10, id. 104017 (<A href=\"http://prd.aps.org\">PhRvD Homepage</a>)</td></tr>\\n<tr><td nowrap valign=\"top\" align=\"left\"><b>Publication Date:</b></td><td><br></td><td align=\"left\" valign=\"top\">05/2004</td></tr>\\n<tr><td nowrap valign=\"top\" align=\"left\"><b>Origin:</b></td><td><br></td><td align=\"left\" valign=\"top\"><a href=\"http://www.aps.org\">APS</a></td></tr>\\n<tr><td nowrap valign=\"top\" align=\"left\"><b>PACS Keywords:</b></td><td><br></td><td align=\"left\" valign=\"top\">Wave generation and sources, Post-Newtonian approximation, perturbation theory, related approximations, Gravitational wave detectors and experiments, Gravitational radiation detectors, mass spectrometers, and other instrumentation and techniques</td></tr>\\n<tr><td nowrap valign=\"top\" align=\"left\"><b>DOI:</b></td><td><br></td><td align=\"left\" valign=\"top\"><A href=\"http://dx.doi.org/10.1103/PhysRevD.69.104017\">10.1103/PhysRevD.69.104017</a></td></tr>\\n<tr><td nowrap valign=\"top\" align=\"left\"><b>Bibliographic Code:</b></td><td><br></td><td align=\"left\" valign=\"top\"><A href=\"http://adsabs.harvard.edu/abs/2004PhRvD..69j4017P\">2004PhRvD..69j4017P</a></td></tr>\\n</table>\\n<h3 align=\"center\">                               Abstract</h3>\\nThe detection of the gravitational waves (GWs) emitted by precessing\\nbinaries of spinning compact objects is complicated by the large number\\nof parameters (such as the magnitudes and initial directions of the\\nspins, and the position and orientation of the binary with respect to\\nthe detector) that are required to model accurately the\\nprecession-induced modulations of the GW signal. In this paper we\\ndescribe a fast matched-filtering search scheme for precessing binaries,\\nand we adopt the physical template family proposed by Buonanno, Chen,\\nand Vallisneri [Phys. Rev. D 67, 104025 (2003)] for ground-based\\ninterferometers. This family provides essentially exact waveforms,\\nwritten directly in terms of the physical parameters, for binaries with\\na single significant spin, and for which the observed GW signal is\\nemitted during the phase of adiabatic inspiral (for LIGO-I and VIRGO,\\nthis corresponds to a total mass M&lsim;15M<SUB>&sun;</SUB>). We show\\nhow the detection statistic can be maximized automatically over all the\\nparameters (including the position and orientation of the binary with\\nrespect to the detector), except four (the two masses, the magnitude of\\nthe single spin, and the opening angle between the spin and the orbital\\nangular momentum), so the template bank used in the search is only\\nfour-dimensional; this technique is relevant also to the searches for GW\\nfrom extreme-mass-ratio inspirals and supermassive black hole inspirals\\nto be performed using the space-borne detector LISA. Using the LIGO-I\\ndesign sensitivity, we compute the detection threshold (&tilde;10)\\nrequired for a false-alarm probability of 10<SUP>-3</SUP>/yr and the\\nnumber of templates (&tilde;76 000) required for a minimum match of 0.97\\nfor the mass range\\n(m<SUB>1</SUB>,m<SUB>2</SUB>)=[7,12]M<SUB>&sun;</SUB>&#215;[1,3]M<SUB>&sun;</SUB>.\\n<hr>\\n<h4>Associated Articles</h4>\\nMain&#160;Paper&#160;&#160;&#160;&#160; <a href=\"http://adsabs.harvard.edu/abs/2006PhRvD..74b9905P\">Erratum</a>&#160;&#160;&#160;&#160; <p>\\n<hr>\\n<table width=100%><tr><td align=\"left\"><b><a href=\"http://adsabs.harvard.edu/cgi-bin/nph-bib_query?bibcode=2004PhRvD..69j4017P&amp;data_type=BIBTEX&amp;db_key=AST&amp;nocookieset=1\">Bibtex entry for this abstract</a></b>&nbsp;&nbsp;&nbsp;<b><a href=\"http://adsabs.harvard.edu/cgi-bin/nph-abs_connect?bibcode=2004PhRvD..69j4017P&amp;data_type=Custom&amp;format=%5c%5cbibitem%5b%25%5c2m%25%28y%29%5d%25%7bR%7d%20%25%5c5.3l%20%25%5cY,%25%5cj,%25%5cV,%25%5cp%5cn&amp;return_fmt=LONG&amp;db_key=AST&amp;nocookieset=1\">Preferred format for this abstract</a></b> (see <a href=\"http://adsabs.harvard.edu/cgi-bin/pref_set\">Preferences</a>)</td>\\n</tr></table>\\n<hr>\\n<table>\\n<tr><td>\\n<form method=\"POST\" action=\"http://adsabs.harvard.edu/cgi-bin/nph-abs_connect\"><a name=\"private\"></a>\\n<input type=\"hidden\" name=\"bibcode\" value=\"2004PhRvD..69j4017P\">\\n<input type=\"submit\" name=\"library\" value=\" Add this article to private library \">\\n</form></td>\\n<td>\\n<form method=\"POST\" action=\"http://adsabs.harvard.edu/cgi-bin/nph-abs_connect\"><a name=\"private\"></a>\\n<input type=\"hidden\" name=\"bibcode\" value=\"2004PhRvD..69j4017P\">\\n<input type=\"submit\" name=\"library\" value=\" Remove this article from private library \">\\n</form></td>\\n</tr><tr>\\n\\n<td>\\n<form method=\"GET\" action=\"http://adsabs.harvard.edu/adsfeedback/submit_abstract.html\"><input type=\"submit\" name=\"submit\" value=\" Submit corrections to this record \"><input type=\"hidden\" name=\"bibcode\" value=\"2004PhRvD..69j4017P\"><input type=\"hidden\" name=\"db_key\" value=\"AST\"></form>\\n</td><td>\\n<form method=\"GET\" action=\"http://labs.adsabs.harvard.edu/adsabs/abs/2004PhRvD..69j4017P\"><input type=\"submit\" value=\" View record in ADSLabs \">&nbsp;<img src=\"/figs/new.gif\" alt=\" New! \"/></form>\\n</td></tr>\\n</table>\\n<hr>\\n<form method=\"POST\" action=\"http://adsabs.harvard.edu/cgi-bin/nph-abs_connect\"><a name=\"feedback\"></a>\\n<h3>Find Similar Abstracts:</h3>\\n\\n<input type=\"hidden\" name=\"return_req\" value=\"no_params\">\\n<table>\\n<tr><td>Use:</td><td>      <input type=\"checkbox\" name=\"use_auth\" value=\"YES\"></td><td>  Authors</td></tr>\\n<tr><td></td><td>          <input type=\"checkbox\" checked name=\"use_title\" value=\"YES\"></td><td>  Title</td></tr>\\n<tr><td></td><td>          <input type=\"checkbox\" checked name=\"use_kwds\" value=\"YES\"></td><td>  Keywords (in text query field)</td></tr>\\n<tr><td></td><td>          <input type=\"checkbox\" checked name=\"use_text\" value=\"YES\"></td><td>  Abstract Text</td></tr>\\n\\n<tr><td>Return:</td><td>   <input type=\"radio\" checked name=\"return_req\" value=\"feedback\"></td><td>  Query Results</td><td>   Return <input name=\"nr_to_return\" size=\"5\" value=\"100\">&nbsp;&nbsp;&nbsp;items starting with number <input name=\"start_nr\" size=\"5\" value=\"1\"></td></tr>\\n<tr><td></td><td>          <input type=\"radio\" name=\"return_req\" value=\"form\"></td><td>  Query Form</td></tr>\\n\\n<tr><td>Database:</td><td> <input type=\"checkbox\" checked name=\"db_key\" value=\"AST\"></td><td>  Astronomy</td></tr>\\n<tr><td></td><td>          <input type=\"checkbox\"  name=\"db_key\" value=\"PHY\"></td><td>  Physics</td></tr>\\n<tr><td></td><td>          <input type=\"checkbox\"  name=\"db_key\" value=\"PRE\"></td><td>  arXiv e-prints</td></tr>\\n\\n</table>\\n\\n<input type=\"hidden\" name=\"arxiv_sel\" value=\"ALL\">\\n<input type=\"hidden\" name=\"bib_dbkey\" value=\"AST\">\\n<input type=\"submit\" name=\"selfeedback\" value=\"      Send Query     \">&nbsp;&nbsp;&nbsp;&nbsp;<input type=\"reset\" value=\"      Reset      \">\\n<input type=\"hidden\" name=\"bibcode\" value=\"2004PhRvD..69j4017P\">\\n</form>\\n<br><hr><br>\\n<script>\\n  (function(i,s,o,g,r,a,m){i[\\'GoogleAnalyticsObject\\']=r;i[r]=i[r]||function(){\\n  (i[r].q=i[r].q||[]).push(arguments)},i[r].l=1*new Date();a=s.createElement(o),\\n  m=s.getElementsByTagName(o)[0];a.async=1;a.src=g;m.parentNode.insertBefore(a,m)\\n  })(window,document,\\'script\\',\\'//www.google-analytics.com/analytics.js\\',\\'ga\\');\\n\\n  ga(\\'create\\', \\'UA-37369750-3\\', \\'harvard.edu\\');\\n  ga(\\'send\\', \\'pageview\\');\\n\\n</script>\\n</body>\\n</html>\\n'"
       ]
      }
     ],
     "prompt_number": 19
    },
    {
     "cell_type": "markdown",
     "metadata": {},
     "source": [
      "The URL that we need to get a bibtex entry calls a \"`cgi-bin`\" script, run on the server, with a small number of parameters. This is known in the business as a `GET` request:\n",
      "\n",
      "* http://www.w3schools.com/tags/ref_httpmethods.asp\n",
      "\n",
      "It's achieved easily with `requests`."
     ]
    },
    {
     "cell_type": "code",
     "collapsed": false,
     "input": [
      "r = requests.get('http://adsabs.harvard.edu/cgi-bin/nph-bib_query',\n",
      "                 params={'bibcode': '2004PhRvD..69j4017P', 'data_type': 'BIBTEX'})"
     ],
     "language": "python",
     "metadata": {},
     "outputs": [],
     "prompt_number": 21
    },
    {
     "cell_type": "code",
     "collapsed": false,
     "input": [
      "print(r.text)"
     ],
     "language": "python",
     "metadata": {},
     "outputs": [
      {
       "output_type": "stream",
       "stream": "stdout",
       "text": [
        "Query Results from the ADS Database\n",
        "\n",
        "\n",
        "Retrieved 1 abstracts, starting with number 1.  Total number selected: 1.\n",
        "\n",
        "@ARTICLE{2004PhRvD..69j4017P,\n",
        "   author = {{Pan}, Y. and {Buonanno}, A. and {Chen}, Y. and {Vallisneri}, M.\n",
        "\t},\n",
        "    title = \"{Physical template family for gravitational waves from precessing binaries of spinning compact objects: Application to single-spin binaries}\",\n",
        "  journal = {\\prd},\n",
        "   eprint = {gr-qc/0310034},\n",
        " keywords = {Wave generation and sources, Post-Newtonian approximation, perturbation theory, related approximations, Gravitational wave detectors and experiments, Gravitational radiation detectors, mass spectrometers, and other instrumentation and techniques},\n",
        "     year = 2004,\n",
        "    month = may,\n",
        "   volume = 69,\n",
        "   number = 10,\n",
        "      eid = {104017},\n",
        "    pages = {104017},\n",
        "      doi = {10.1103/PhysRevD.69.104017},\n",
        "   adsurl = {http://adsabs.harvard.edu/abs/2004PhRvD..69j4017P},\n",
        "  adsnote = {Provided by the SAO/NASA Astrophysics Data System}\n",
        "}\n",
        "\n",
        "\n"
       ]
      }
     ],
     "prompt_number": 22
    },
    {
     "cell_type": "markdown",
     "metadata": {},
     "source": [
      "Just what we need, but let's use another regular expression to cut out the comments at the top. To go across lines we need the option `re.DOTALL` so that the dot matches `\\n`, the only character that usually it does _not_ match."
     ]
    },
    {
     "cell_type": "code",
     "collapsed": false,
     "input": [
      "re.search('(@.*)',r.text,re.DOTALL).group(1)"
     ],
     "language": "python",
     "metadata": {},
     "outputs": [
      {
       "metadata": {},
       "output_type": "pyout",
       "prompt_number": 23,
       "text": [
        "'@ARTICLE{2004PhRvD..69j4017P,\\n   author = {{Pan}, Y. and {Buonanno}, A. and {Chen}, Y. and {Vallisneri}, M.\\n\\t},\\n    title = \"{Physical template family for gravitational waves from precessing binaries of spinning compact objects: Application to single-spin binaries}\",\\n  journal = {\\\\prd},\\n   eprint = {gr-qc/0310034},\\n keywords = {Wave generation and sources, Post-Newtonian approximation, perturbation theory, related approximations, Gravitational wave detectors and experiments, Gravitational radiation detectors, mass spectrometers, and other instrumentation and techniques},\\n     year = 2004,\\n    month = may,\\n   volume = 69,\\n   number = 10,\\n      eid = {104017},\\n    pages = {104017},\\n      doi = {10.1103/PhysRevD.69.104017},\\n   adsurl = {http://adsabs.harvard.edu/abs/2004PhRvD..69j4017P},\\n  adsnote = {Provided by the SAO/NASA Astrophysics Data System}\\n}\\n\\n'"
       ]
      }
     ],
     "prompt_number": 23
    },
    {
     "cell_type": "markdown",
     "metadata": {},
     "source": [
      "OK, we can write a function to do this job for a generic key, and try it out."
     ]
    },
    {
     "cell_type": "code",
     "collapsed": false,
     "input": [
      "def ref_from_ads(key):\n",
      "    r = requests.get('http://adsabs.harvard.edu/cgi-bin/nph-bib_query',\n",
      "                     params={'bibcode': key, 'data_type': 'BIBTEX'})\n",
      "    \n",
      "    if r.ok:\n",
      "        return re.search('(@.*)',r.text,re.DOTALL).group(1)\n",
      "    else:\n",
      "        return None"
     ],
     "language": "python",
     "metadata": {},
     "outputs": [],
     "prompt_number": 24
    },
    {
     "cell_type": "code",
     "collapsed": false,
     "input": [
      "key_from_aux('mypaper.aux')"
     ],
     "language": "python",
     "metadata": {},
     "outputs": [
      {
       "metadata": {},
       "output_type": "pyout",
       "prompt_number": 25,
       "text": [
        "['2014arXiv1407.6710V',\n",
        " '2014arXiv1407.1838V',\n",
        " '2014MNRAS.440.1446V',\n",
        " '2014arXiv1407.1838V']"
       ]
      }
     ],
     "prompt_number": 25
    },
    {
     "cell_type": "code",
     "collapsed": false,
     "input": [
      "ref_from_ads('2014arXiv1407.6710V')"
     ],
     "language": "python",
     "metadata": {},
     "outputs": [
      {
       "metadata": {},
       "output_type": "pyout",
       "prompt_number": 26,
       "text": [
        "'@ARTICLE{2014arXiv1407.6710V,\\n   author = {{van Haasteren}, R. and {Vallisneri}, M.},\\n    title = \"{Low-rank approximations for large stationary covariance matrices, as used in the Bayesian and generalized-least-squares analysis of pulsar-timing data}\",\\n  journal = {ArXiv e-prints},\\narchivePrefix = \"arXiv\",\\n   eprint = {1407.6710},\\n primaryClass = \"astro-ph.IM\",\\n keywords = {Astrophysics - Instrumentation and Methods for Astrophysics, General Relativity and Quantum Cosmology},\\n     year = 2014,\\n    month = jul,\\n   adsurl = {http://adsabs.harvard.edu/abs/2014arXiv1407.6710V},\\n  adsnote = {Provided by the SAO/NASA Astrophysics Data System}\\n}\\n\\n'"
       ]
      }
     ],
     "prompt_number": 26
    },
    {
     "cell_type": "markdown",
     "metadata": {},
     "source": [
      "We're ready to write a command-line Python utility that parses a `.aux` file for ADS keys, downloads them from ADS, and finally writes a `.bib` file containing them. Some things we used here:\n",
      "\n",
      "* `sys.argv` to get a single command-line argument describing the root name of the files we work with: https://docs.python.org/3/library/sys.html\n",
      "* A Python `with` _context manager_ to open a file with a name, and close it automatically after the indented block below: http://legacy.python.org/dev/peps/pep-0343\n",
      "* The `string.format()` idiom to _interpolate_ a string with values: https://docs.python.org/3/library/string.html#formatspec\n",
      "* Note the `print()`; we're actually using Python 3 today! The function rather than statement `print()` is the only apparent difference."
     ]
    },
    {
     "cell_type": "code",
     "collapsed": false,
     "input": [
      "%%file adsgrab.py\n",
      "\n",
      "import sys, re, requests\n",
      "\n",
      "def key_from_aux(auxfile):\n",
      "    refs = []\n",
      "\n",
      "    for line in open(auxfile,'r'):\n",
      "        match = re.search(r'\\\\citation\\{(.*)\\}',line)\n",
      "        if match:\n",
      "            refs.append(match.group(1))\n",
      "\n",
      "    return refs\n",
      "\n",
      "def ref_from_ads(key):\n",
      "    r = requests.get('http://adsabs.harvard.edu/cgi-bin/nph-bib_query',\n",
      "                     params={'bibcode': key, 'data_type': 'BIBTEX'})\n",
      "    \n",
      "    if r.ok:\n",
      "        return re.search('(@.*)',r.text,re.DOTALL).group(1)\n",
      "    else:\n",
      "        return None\n",
      "\n",
      "with open(sys.argv[1] + '.bib','w') as bibfile:\n",
      "    for key in key_from_aux(sys.argv[1] + '.aux'):\n",
      "        ref = ref_from_ads(key)\n",
      "        \n",
      "        if not ref:\n",
      "            print(\"Cannot get reference {0} from ADS!\".format(key))\n",
      "        else:\n",
      "            print(\"Found reference {0}.\".format(key))\n",
      "            bibfile.write(ref)"
     ],
     "language": "python",
     "metadata": {},
     "outputs": [
      {
       "output_type": "stream",
       "stream": "stdout",
       "text": [
        "Writing adsgrab.py\n"
       ]
      }
     ],
     "prompt_number": 27
    },
    {
     "cell_type": "markdown",
     "metadata": {},
     "source": [
      "It works!"
     ]
    },
    {
     "cell_type": "code",
     "collapsed": false,
     "input": [
      "!python3 adsgrab.py mypaper"
     ],
     "language": "python",
     "metadata": {},
     "outputs": [
      {
       "output_type": "stream",
       "stream": "stdout",
       "text": [
        "Found reference 2014arXiv1407.6710V.\r\n"
       ]
      },
      {
       "output_type": "stream",
       "stream": "stdout",
       "text": [
        "Found reference 2014arXiv1407.1838V.\r\n"
       ]
      },
      {
       "output_type": "stream",
       "stream": "stdout",
       "text": [
        "Found reference 2014MNRAS.440.1446V.\r\n"
       ]
      },
      {
       "output_type": "stream",
       "stream": "stdout",
       "text": [
        "Found reference 2014arXiv1407.1838V.\r\n"
       ]
      }
     ],
     "prompt_number": 28
    },
    {
     "cell_type": "code",
     "collapsed": false,
     "input": [
      "!cat mypaper.bib"
     ],
     "language": "python",
     "metadata": {},
     "outputs": [
      {
       "output_type": "stream",
       "stream": "stdout",
       "text": [
        "@ARTICLE{2014arXiv1407.6710V,\r\n",
        "   author = {{van Haasteren}, R. and {Vallisneri}, M.},\r\n",
        "    title = \"{Low-rank approximations for large stationary covariance matrices, as used in the Bayesian and generalized-least-squares analysis of pulsar-timing data}\",\r\n",
        "  journal = {ArXiv e-prints},\r\n",
        "archivePrefix = \"arXiv\",\r\n",
        "   eprint = {1407.6710},\r\n",
        " primaryClass = \"astro-ph.IM\",\r\n",
        " keywords = {Astrophysics - Instrumentation and Methods for Astrophysics, General Relativity and Quantum Cosmology},\r\n",
        "     year = 2014,\r\n",
        "    month = jul,\r\n",
        "   adsurl = {http://adsabs.harvard.edu/abs/2014arXiv1407.6710V},\r\n",
        "  adsnote = {Provided by the SAO/NASA Astrophysics Data System}\r\n",
        "}\r\n",
        "\r\n",
        "@ARTICLE{2014arXiv1407.1838V,\r\n",
        "   author = {{van Haasteren}, R. and {Vallisneri}, M.},\r\n",
        "    title = \"{New advances in the Gaussian-process approach to pulsar-timing data analysis}\",\r\n",
        "  journal = {ArXiv e-prints},\r\n",
        "archivePrefix = \"arXiv\",\r\n",
        "   eprint = {1407.1838},\r\n",
        " primaryClass = \"gr-qc\",\r\n",
        " keywords = {General Relativity and Quantum Cosmology, Astrophysics - Instrumentation and Methods for Astrophysics},\r\n",
        "     year = 2014,\r\n",
        "    month = jul,\r\n",
        "   adsurl = {http://adsabs.harvard.edu/abs/2014arXiv1407.1838V},\r\n",
        "  adsnote = {Provided by the SAO/NASA Astrophysics Data System}\r\n",
        "}\r\n",
        "\r\n",
        "@ARTICLE{2014MNRAS.440.1446V,\r\n",
        "   author = {{Vigeland}, S.~J. and {Vallisneri}, M.},\r\n",
        "    title = \"{Bayesian inference for pulsar-timing models}\",\r\n",
        "  journal = {\\mnras},\r\n",
        "archivePrefix = \"arXiv\",\r\n",
        "   eprint = {1310.2606},\r\n",
        " primaryClass = \"astro-ph.IM\",\r\n",
        " keywords = {gravitational waves},\r\n",
        "     year = 2014,\r\n",
        "    month = may,\r\n",
        "   volume = 440,\r\n",
        "    pages = {1446-1457},\r\n",
        "      doi = {10.1093/mnras/stu312},\r\n",
        "   adsurl = {http://adsabs.harvard.edu/abs/2014MNRAS.440.1446V},\r\n",
        "  adsnote = {Provided by the SAO/NASA Astrophysics Data System}\r\n",
        "}\r\n",
        "\r\n",
        "@ARTICLE{2014arXiv1407.1838V,\r\n",
        "   author = {{van Haasteren}, R. and {Vallisneri}, M.},\r\n",
        "    title = \"{New advances in the Gaussian-process approach to pulsar-timing data analysis}\",\r\n",
        "  journal = {ArXiv e-prints},\r\n",
        "archivePrefix = \"arXiv\",\r\n",
        "   eprint = {1407.1838},\r\n",
        " primaryClass = \"gr-qc\",\r\n",
        " keywords = {General Relativity and Quantum Cosmology, Astrophysics - Instrumentation and Methods for Astrophysics},\r\n",
        "     year = 2014,\r\n",
        "    month = jul,\r\n",
        "   adsurl = {http://adsabs.harvard.edu/abs/2014arXiv1407.1838V},\r\n",
        "  adsnote = {Provided by the SAO/NASA Astrophysics Data System}\r\n",
        "}\r\n",
        "\r\n"
       ]
      }
     ],
     "prompt_number": 29
    },
    {
     "cell_type": "markdown",
     "metadata": {},
     "source": [
      "We want to enhance the program a little to avoid re-downloading references that are already in the bibtex file."
     ]
    },
    {
     "cell_type": "code",
     "collapsed": false,
     "input": [
      "def already_in_bib(bibfile):\n",
      "    ret = []\n",
      "    \n",
      "    for line in open(bibfile,'r'):\n",
      "        ref = re.search('@.*\\{(.*),',line)\n",
      "        if ref:\n",
      "            ret.append(ref.group(1))\n",
      "    \n",
      "    return ret"
     ],
     "language": "python",
     "metadata": {},
     "outputs": [],
     "prompt_number": 30
    },
    {
     "cell_type": "markdown",
     "metadata": {},
     "source": [
      "Or even better!"
     ]
    },
    {
     "cell_type": "code",
     "collapsed": false,
     "input": [
      "def already_in_bib(bibfile):\n",
      "    return re.findall('@.*\\{(.*),',open(bibfile,'r').read())"
     ],
     "language": "python",
     "metadata": {},
     "outputs": [],
     "prompt_number": 41
    },
    {
     "cell_type": "code",
     "collapsed": false,
     "input": [
      "already_in_bib('mypaper.bib')"
     ],
     "language": "python",
     "metadata": {},
     "outputs": [
      {
       "metadata": {},
       "output_type": "pyout",
       "prompt_number": 42,
       "text": [
        "['2014arXiv1407.1838V', '2014MNRAS.440.1446V', '2014arXiv1407.6710V']"
       ]
      }
     ],
     "prompt_number": 42
    },
    {
     "cell_type": "code",
     "collapsed": false,
     "input": [
      "%%file adsgrab2.py\n",
      "\n",
      "import sys, re, requests\n",
      "\n",
      "def key_from_aux(auxfile):\n",
      "    refs = []\n",
      "\n",
      "    for line in open(auxfile,'r'):\n",
      "        match = re.search(r'\\\\citation\\{(.*)\\}',line)\n",
      "        if match:\n",
      "            refs.append(match.group(1))\n",
      "\n",
      "    return refs\n",
      "\n",
      "def ref_from_ads(key):\n",
      "    r = requests.get('http://adsabs.harvard.edu/cgi-bin/nph-bib_query',\n",
      "                     params={'bibcode': key, 'data_type': 'BIBTEX'})\n",
      "    \n",
      "    if r.ok:\n",
      "        return re.search('(@.*)',r.text,re.DOTALL).group(1)\n",
      "    else:\n",
      "        return None\n",
      "\n",
      "def already_in_bib(bibfile):\n",
      "    ret = []\n",
      "    \n",
      "    for line in open(bibfile,'r'):\n",
      "        ref = re.search('@.*\\{(.*),',line)\n",
      "        if ref:\n",
      "            ret.append(ref.group(1))\n",
      "    \n",
      "    return ret\n",
      "    \n",
      "found_already = already_in_bib(sys.argv[1] + '.bib')\n",
      "    \n",
      "# we shouldn't forget to append to the bibfile rather than overwriting it\n",
      "with open(sys.argv[1] + '.bib','a') as bibfile:\n",
      "    for key in key_from_aux(sys.argv[1] + '.aux'):\n",
      "        if key in found_already:\n",
      "            print(\"Skipping reference {0}, fetched already.\".format(key))\n",
      "            continue\n",
      "        \n",
      "        ref = ref_from_ads(key)\n",
      "        \n",
      "        if not ref:\n",
      "            print(\"Cannot get reference {0} from ADS!\".format(key))\n",
      "        else:\n",
      "            print(\"Found reference {0}.\".format(key))\n",
      "            bibfile.write(ref)"
     ],
     "language": "python",
     "metadata": {},
     "outputs": [
      {
       "output_type": "stream",
       "stream": "stdout",
       "text": [
        "Overwriting adsgrab2.py\n"
       ]
      }
     ],
     "prompt_number": 43
    },
    {
     "cell_type": "code",
     "collapsed": false,
     "input": [
      "!python3 adsgrab2.py mypaper"
     ],
     "language": "python",
     "metadata": {},
     "outputs": [
      {
       "output_type": "stream",
       "stream": "stdout",
       "text": [
        "Skipping reference 2014arXiv1407.6710V, fetched already.\r\n",
        "Skipping reference 2014arXiv1407.1838V, fetched already.\r\n",
        "Skipping reference 2014MNRAS.440.1446V, fetched already.\r\n",
        "Skipping reference 2014arXiv1407.1838V, fetched already.\r\n"
       ]
      }
     ],
     "prompt_number": 33
    },
    {
     "cell_type": "markdown",
     "metadata": {},
     "source": [
      "Finally, we do a better job of parsing command-line arguments and producing some `--help` output, by way of the very terse and powerful `argparse`:\n",
      "\n",
      "* https://docs.python.org/3/library/argparse.html"
     ]
    },
    {
     "cell_type": "code",
     "collapsed": false,
     "input": [
      "import argparse"
     ],
     "language": "python",
     "metadata": {},
     "outputs": [],
     "prompt_number": 34
    },
    {
     "cell_type": "code",
     "collapsed": false,
     "input": [
      "%%file adsgrab3.py\n",
      "\n",
      "import argparse, re, requests\n",
      "\n",
      "def key_from_aux(auxfile):\n",
      "    refs = []\n",
      "\n",
      "    for line in open(auxfile,'r'):\n",
      "        match = re.search(r'\\\\citation\\{(.*)\\}',line)\n",
      "        if match:\n",
      "            refs.append(match.group(1))\n",
      "\n",
      "    return refs\n",
      "\n",
      "def ref_from_ads(key):\n",
      "    r = requests.get('http://adsabs.harvard.edu/cgi-bin/nph-bib_query',\n",
      "                     params={'bibcode': key, 'data_type': 'BIBTEX'})\n",
      "    \n",
      "    if r.ok:\n",
      "        return re.search('(@.*)',r.text,re.DOTALL).group(1)\n",
      "    else:\n",
      "        return None\n",
      "\n",
      "def already_in_bib(bibfile):\n",
      "    ret = []\n",
      "    \n",
      "    for line in open(bibfile,'r'):\n",
      "        ref = re.search('@.*\\{(.*),',line)\n",
      "        if ref:\n",
      "            ret.append(ref.group(1))\n",
      "    \n",
      "    return ret\n",
      "\n",
      "parser = argparse.ArgumentParser(description='grab citations from ADS')\n",
      "\n",
      "parser.add_argument('-b',help='output BiBTeX filename')\n",
      "parser.add_argument('-a',help='input LaTeX .aux filename')\n",
      "parser.add_argument('rootname',nargs='?',help='LaTeX document name, used to make .aux and .bib filenames')\n",
      "\n",
      "args = parser.parse_args()\n",
      "\n",
      "if args.rootname is None and (args.b is None or args.a is None):\n",
      "    parser.error('Give me some filenames!')\n",
      "\n",
      "auxfile = args.rootname + '.aux' if args.a is None else args.a\n",
      "bibfile = args.rootname + '.bib' if args.b is None else args.b\n",
      "    \n",
      "found_already = already_in_bib(bibfile)\n",
      "\n",
      "with open(bibfile,'a') as bibfile:\n",
      "    for key in key_from_aux(auxfile):\n",
      "        if key in found_already:\n",
      "            print(\"Skipping reference {0}, fetched already.\".format(key))\n",
      "            continue\n",
      "        \n",
      "        ref = ref_from_ads(key)\n",
      "        \n",
      "        if not ref:\n",
      "            print(\"Cannot get reference {0} from ADS!\".format(key))\n",
      "        else:\n",
      "            print(\"Found reference {0}.\".format(key))\n",
      "            bibfile.write(ref)"
     ],
     "language": "python",
     "metadata": {},
     "outputs": [
      {
       "output_type": "stream",
       "stream": "stdout",
       "text": [
        "Writing adsgrab3.py\n"
       ]
      }
     ],
     "prompt_number": 35
    },
    {
     "cell_type": "markdown",
     "metadata": {},
     "source": [
      "As homework, improve `adsgrab.py` by letting it grab bibtex for references described by a first-author/year/word-in-title scheme.\n",
      "\n",
      "* For this you need to do some reverse engineering of http://adsabs.harvard.edu/abstract_service.html, but you'll end up with something like\n",
      "\n",
      "      http://adsabs.harvard.edu/cgi-bin/nph-abs_connect?db_key=ASTadsobj_query=YES&aut_req=YES&aut_logic=OR&author=%5EVallisneri&object=&start_mon=01&start_year=2002&end_mon=12&end_year=2002&ttl_req=YES&ttl_logic=AND&title=gravitational+prospects&data_type=BIBTEX\n",
      "* You will also need to replace the ADS key in the bibtex with your scheme\n",
      "* Or do it with the newer [ADS2](http://adslabs.org/adsabs) API, described at https://github.com/adsabs/adsabs-dev-api. You'll get structured results (probably [JSON](https://github.com/adsabs/adsabs-dev-api)) rather than text or HTML."
     ]
    },
    {
     "cell_type": "code",
     "collapsed": false,
     "input": [],
     "language": "python",
     "metadata": {},
     "outputs": []
    }
   ],
   "metadata": {}
  }
 ]
}