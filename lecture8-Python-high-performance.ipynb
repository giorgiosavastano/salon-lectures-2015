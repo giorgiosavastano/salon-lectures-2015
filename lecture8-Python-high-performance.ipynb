{
 "metadata": {
  "name": "",
  "signature": "sha256:035ce141a056e44f4c22ce6690d1b77c002aaff84d6c7182703a6e3ec4e0c1af"
 },
 "nbformat": 3,
 "nbformat_minor": 0,
 "worksheets": [
  {
   "cells": [
    {
     "cell_type": "heading",
     "level": 1,
     "metadata": {},
     "source": [
      "Salon2 Lecture 8 - Feb 26, 2015"
     ]
    },
    {
     "cell_type": "heading",
     "level": 2,
     "metadata": {},
     "source": [
      "Grab bag: high performance computing, debugging, profiling, testing, and packaging."
     ]
    },
    {
     "cell_type": "code",
     "collapsed": false,
     "input": [
      "import matplotlib.pyplot as pp\n",
      "import numpy as np"
     ],
     "language": "python",
     "metadata": {},
     "outputs": [],
     "prompt_number": 6
    },
    {
     "cell_type": "code",
     "collapsed": false,
     "input": [
      "%matplotlib inline"
     ],
     "language": "python",
     "metadata": {},
     "outputs": [],
     "prompt_number": 7
    },
    {
     "cell_type": "heading",
     "level": 2,
     "metadata": {},
     "source": [
      "1.0 Optimizing the Mandelbrot code for high performance."
     ]
    },
    {
     "cell_type": "markdown",
     "metadata": {},
     "source": [
      "We're going to investigate several techniques to speed up the Mandelbrot-set code from Lecture 4. We're not going to do explicit use of parallel computing as such; for that, the dominant approach in Python has been _multiprocessing_ (as opposed to _multithreading_, because of Python's [global interpreter lock](http://www.jeffknupp.com/blog/2012/03/31/pythons-hardest-problem/)).\n",
      "\n",
      "* You would probably use Python's `multiprocessing` module ([1](http://broadcast.oreilly.com/2009/04/pymotw-multiprocessing-part-1.html), [2](http://broadcast.oreilly.com/2009/04/pymotw-multiprocessing-part-2.html)). The easiest thing to do is to set up a `Pool` of processors, and then `map` the work on them. But you should be careful not to be passing big data objects around, since that's slow (it involves [serialization/deserialization](https://docs.python.org/3/library/pickle.html)). \n",
      "* But see also the master-slave model of parallel computing [implemented in iPython](http://lighthouseinthesky.blogspot.com/2014/10/parallel-ipython-notebooks.html)."
     ]
    },
    {
     "cell_type": "heading",
     "level": 3,
     "metadata": {},
     "source": [
      "1.1 Pure Python (with numpy arrays)"
     ]
    },
    {
     "cell_type": "markdown",
     "metadata": {},
     "source": [
      "OK, we start with pure Python, allowing ourselves the luxury of storing the image in a numpy array. We keep the main per-point compute loop in a separate function so we can later change it. Remember that functions are first-class objects in Python, so we can pass them as a function argument and even assign them a default value, no questions asked. "
     ]
    },
    {
     "cell_type": "code",
     "collapsed": false,
     "input": [
      "def compute_mandel(c,maxi):\n",
      "    z = 0.0j\n",
      "    \n",
      "    for it in range(1,maxi):\n",
      "        z = z*z + c\n",
      "        \n",
      "        if abs(z) > 2.0:\n",
      "            return it\n",
      "\n",
      "    return 0\n",
      "    \n",
      "def run_mandel(maxi=256,xres=128,xmin=-2.0,xmax=1.0,ymin=-1.0,ymax=1.0,compute=compute_mandel):\n",
      "    # figure out the y-axis resolution on the basis of the computed region\n",
      "    # and of the x-axis resolution\n",
      "    yres = int(xres * (ymax - ymin) / (xmax - xmin))\n",
      "    \n",
      "    dx = (xmax - xmin) / (xres - 1)\n",
      "    dy = (ymax - ymin) / (yres - 1)\n",
      "    \n",
      "    # we lay out the result array in Cartesian-plane fashion, so y goes first\n",
      "    escaped = np.zeros((yres,xres),'int32')\n",
      "    \n",
      "    for i in range(xres):\n",
      "        x = xmin + i * dx\n",
      "        \n",
      "        for j in range(yres):\n",
      "            y = ymin + j * dx\n",
      "            \n",
      "            c = x + 1j * y\n",
      "            escaped[j,i] = compute(c,maxi)\n",
      "    \n",
      "    return escaped"
     ],
     "language": "python",
     "metadata": {},
     "outputs": [],
     "prompt_number": 11
    },
    {
     "cell_type": "markdown",
     "metadata": {},
     "source": [
      "It seems to run fine."
     ]
    },
    {
     "cell_type": "code",
     "collapsed": false,
     "input": [
      "def show_mandel(array):\n",
      "    pp.imshow(array,interpolation='none',origin='lower',extent=(-2.0,1.0,-1.0,1.0))    "
     ],
     "language": "python",
     "metadata": {},
     "outputs": [],
     "prompt_number": 12
    },
    {
     "cell_type": "code",
     "collapsed": false,
     "input": [
      "show_mandel(run_mandel(xres=512))"
     ],
     "language": "python",
     "metadata": {},
     "outputs": [
      {
       "metadata": {},
       "output_type": "display_data",
       "png": "[encoded data removed]",
       "text": [
        "<matplotlib.figure.Figure at 0x109484160>"
       ]
      }
     ],
     "prompt_number": 13
    },
    {
     "cell_type": "markdown",
     "metadata": {},
     "source": [
      "But it's not horribly fast."
     ]
    },
    {
     "cell_type": "code",
     "collapsed": false,
     "input": [
      "%timeit run_mandel(xres=512)"
     ],
     "language": "python",
     "metadata": {},
     "outputs": [
      {
       "output_type": "stream",
       "stream": "stdout",
       "text": [
        "1 loops, best of 3: 1.83 s per loop\n"
       ]
      }
     ],
     "prompt_number": 14
    },
    {
     "cell_type": "markdown",
     "metadata": {},
     "source": [
      "To get an idea of where the code is slowing down, we use the excellent Python [line_profiler](https://github.com/rkern/line_profiler), with its iPython magic extension."
     ]
    },
    {
     "cell_type": "code",
     "collapsed": false,
     "input": [
      "!pip install line_profiler"
     ],
     "language": "python",
     "metadata": {},
     "outputs": [
      {
       "output_type": "stream",
       "stream": "stdout",
       "text": [
        "Requirement already satisfied (use --upgrade to upgrade): line-profiler in /Applications/anaconda/envs/py3k/lib/python3.4/site-packages\r\n",
        "Cleaning up...\r\n"
       ]
      }
     ],
     "prompt_number": 82
    },
    {
     "cell_type": "code",
     "collapsed": false,
     "input": [
      "%load_ext line_profiler"
     ],
     "language": "python",
     "metadata": {},
     "outputs": [],
     "prompt_number": 10
    },
    {
     "cell_type": "markdown",
     "metadata": {},
     "source": [
      "We run the profiler specifying the function we want to call (at the end) and the functions that we want to profile (under `-f`). Predictably, the math is slow, but the loop takes a long time, too."
     ]
    },
    {
     "cell_type": "code",
     "collapsed": false,
     "input": [
      "%lprun -f run_mandel -f compute_mandel run_mandel(xres=512)"
     ],
     "language": "python",
     "metadata": {},
     "outputs": [],
     "prompt_number": 11
    },
    {
     "cell_type": "markdown",
     "metadata": {},
     "source": [
      "The profiling output pops up in a window dialog, but I reproduce it here. The overhead is negligible (most of the time is spend in `compute_mandel`), and the for loop, the complex arithmetics, and the abs take most of the time.\n",
      "\n",
      "    Timer unit: 1e-06 s\n",
      "\n",
      "    Total time: 18.4849 s\n",
      "    File: <ipython-input-5-3242029c44a0>\n",
      "    Function: compute_mandel at line 1\n",
      "\n",
      "    Line #      Hits         Time  Per Hit   % Time  Line Contents\n",
      "    ==============================================================\n",
      "         1                                           def compute_mandel(c,maxi):\n",
      "         2    174592        78496      0.4      0.4      z = 0.0j\n",
      "         3                                               \n",
      "         4  12206590      5459105      0.4     29.5      for it in range(1,maxi):\n",
      "         5  12162443      6260446      0.5     33.9          z = z*z + c\n",
      "         6                                                   \n",
      "         7  12162443      6606931      0.5     35.7          if abs(z) > 2.0:\n",
      "         8    130445        60535      0.5      0.3              return it\n",
      "         9                                           \n",
      "        10     44147        19433      0.4      0.1      return 0\n",
      "\n",
      "    Total time: 34.5937 s\n",
      "    File: <ipython-input-5-3242029c44a0>\n",
      "    Function: run_mandel at line 12\n",
      "\n",
      "    Line #      Hits         Time  Per Hit   % Time  Line Contents\n",
      "    ==============================================================\n",
      "        12                                           def run_mandel(maxi=256,xres=128,xmin=-2.0,xmax=1.0,ymin=-1.0,ymax=1.0,compute=compute_mandel):\n",
      "        13                                               # figure out the y-axis resolution on the basis of the computed region\n",
      "        14                                               # and of the x-axis resolution\n",
      "        15         1            6      6.0      0.0      yres = int(xres * (ymax - ymin) / (xmax - xmin))\n",
      "        16                                               \n",
      "        17         1            2      2.0      0.0      dx = (xmax - xmin) / (xres - 1)\n",
      "        18         1            1      1.0      0.0      dy = (ymax - ymin) / (yres - 1)\n",
      "        19                                               \n",
      "        20                                               # we lay out the result array in Cartesian-plane fashion, so y goes first\n",
      "        21         1          125    125.0      0.0      escaped = np.zeros((yres,xres),'int32')\n",
      "        22                                               \n",
      "        23       513          374      0.7      0.0      for i in range(xres):\n",
      "        24       512          377      0.7      0.0          x = xmin + i * dx\n",
      "        25                                                   \n",
      "        26    175104       100966      0.6      0.3          for j in range(yres):\n",
      "        27    174592       121696      0.7      0.4              y = ymin + j * dx\n",
      "        28                                                       \n",
      "        29    174592       119585      0.7      0.3              c = x + 1j * y\n",
      "        30    174592     34250584    196.2     99.0              escaped[j,i] = compute(c,maxi)\n",
      "        31                                               \n",
      "        32         1            0      0.0      0.0      return escaped"
     ]
    },
    {
     "cell_type": "markdown",
     "metadata": {},
     "source": [
      "Using the `dis` module, we can also inspect the Python compiled bytecode. It's a simple stack language."
     ]
    },
    {
     "cell_type": "code",
     "collapsed": false,
     "input": [
      "import dis"
     ],
     "language": "python",
     "metadata": {},
     "outputs": [],
     "prompt_number": 12
    },
    {
     "cell_type": "markdown",
     "metadata": {},
     "source": [
      "    def compute_mandel(c,maxi):\n",
      "        z = 0.0j\n",
      "\n",
      "        for it in range(1,maxi):\n",
      "            z = z*z + c\n",
      "\n",
      "            if abs(z) > 2.0:\n",
      "                return it\n",
      "\n",
      "        return 0"
     ]
    },
    {
     "cell_type": "code",
     "collapsed": false,
     "input": [
      "dis.dis(compute_mandel)"
     ],
     "language": "python",
     "metadata": {},
     "outputs": [
      {
       "output_type": "stream",
       "stream": "stdout",
       "text": [
        "  2           0 LOAD_CONST               1 (0j)\n",
        "              3 STORE_FAST               2 (z)\n",
        "\n",
        "  4           6 SETUP_LOOP              59 (to 68)\n",
        "              9 LOAD_GLOBAL              0 (range)\n",
        "             12 LOAD_CONST               2 (1)\n",
        "             15 LOAD_FAST                1 (maxi)\n",
        "             18 CALL_FUNCTION            2 (2 positional, 0 keyword pair)\n",
        "             21 GET_ITER\n",
        "        >>   22 FOR_ITER                42 (to 67)\n",
        "             25 STORE_FAST               3 (it)\n",
        "\n",
        "  5          28 LOAD_FAST                2 (z)\n",
        "             31 LOAD_FAST                2 (z)\n",
        "             34 BINARY_MULTIPLY\n",
        "             35 LOAD_FAST                0 (c)\n",
        "             38 BINARY_ADD\n",
        "             39 STORE_FAST               2 (z)\n",
        "\n",
        "  7          42 LOAD_GLOBAL              1 (abs)\n",
        "             45 LOAD_FAST                2 (z)\n",
        "             48 CALL_FUNCTION            1 (1 positional, 0 keyword pair)\n",
        "             51 LOAD_CONST               3 (2.0)\n",
        "             54 COMPARE_OP               4 (>)\n",
        "             57 POP_JUMP_IF_FALSE       22\n",
        "\n",
        "  8          60 LOAD_FAST                3 (it)\n",
        "             63 RETURN_VALUE\n",
        "             64 JUMP_ABSOLUTE           22\n",
        "        >>   67 POP_BLOCK\n",
        "\n",
        " 10     >>   68 LOAD_CONST               4 (0)\n",
        "             71 RETURN_VALUE\n"
       ]
      }
     ],
     "prompt_number": 16
    },
    {
     "cell_type": "heading",
     "level": 3,
     "metadata": {},
     "source": [
      "1.2 numba JIT"
     ]
    },
    {
     "cell_type": "markdown",
     "metadata": {},
     "source": [
      "A recent approach to speeding Python up, especially for numerical computation, is [Numba](http://numba.pydata.org/), which compiled Python on the fly to [LLVM](http://llvm.org), and then to assembly. Numba is smart enough that it is sufficient to [decorate](http://www.jeffknupp.com/blog/2013/11/29/improve-your-python-decorators-explained/) a function very simply to have it compiled (when it works... when it doesn't, the decorators need to indicate more details)."
     ]
    },
    {
     "cell_type": "code",
     "collapsed": false,
     "input": [
      "from numba.decorators import autojit"
     ],
     "language": "python",
     "metadata": {},
     "outputs": [
      {
       "output_type": "stream",
       "stream": "stderr",
       "text": [
        "//anaconda/envs/py3k/lib/python3.4/site-packages/numba/tests/__init__.py:393: UserWarning: Failed to enable faulthandler due to:\n",
        "IOStream has no fileno.\n",
        "  warnings.warn(msg.format(err=e))\n"
       ]
      }
     ],
     "prompt_number": 15
    },
    {
     "cell_type": "code",
     "collapsed": false,
     "input": [
      "@autojit\n",
      "def compute_mandel_numba(c,maxit):\n",
      "    z = 0.0j\n",
      "\n",
      "    for i in range(maxit):\n",
      "        z = z*z + c\n",
      "\n",
      "        # if abs(z) >= 2 is much slower\n",
      "        if (z.real*z.real + z.imag*z.imag) >= 4:\n",
      "            return i\n",
      "    \n",
      "    return 0"
     ],
     "language": "python",
     "metadata": {},
     "outputs": [],
     "prompt_number": 16
    },
    {
     "cell_type": "code",
     "collapsed": false,
     "input": [
      "show_mandel(run_mandel(xres=512,compute=compute_mandel_numba))"
     ],
     "language": "python",
     "metadata": {},
     "outputs": [
      {
       "metadata": {},
       "output_type": "display_data",
       "png": "[encoded data removed]",
       "text": [
        "<matplotlib.figure.Figure at 0x109f00208>"
       ]
      }
     ],
     "prompt_number": 17
    },
    {
     "cell_type": "code",
     "collapsed": false,
     "input": [
      "%timeit run_mandel(xres=512,compute=compute_mandel_numba)"
     ],
     "language": "python",
     "metadata": {},
     "outputs": [
      {
       "output_type": "stream",
       "stream": "stdout",
       "text": [
        "10 loops, best of 3: 122 ms per loop\n"
       ]
      }
     ],
     "prompt_number": 18
    },
    {
     "cell_type": "heading",
     "level": 3,
     "metadata": {},
     "source": [
      "1.3 numpy"
     ]
    },
    {
     "cell_type": "markdown",
     "metadata": {},
     "source": [
      "There's always good old `numpy`... to get the maximum speed improvement, we need to re-express our code in terms of whole matrices. When there are branches (\"if else\" alternatives), we need to be creative with `numpy` [fancy indexing](http://docs.scipy.org/doc/numpy/user/basics.indexing.html). "
     ]
    },
    {
     "cell_type": "code",
     "collapsed": false,
     "input": [
      "def run_mandel_numpy(maxi=256,xres=128,xmin=-2.0,xmax=1.0,ymin=-1.0,ymax=1.0):\n",
      "    yres = int(xres * (ymax - ymin) / (xmax - xmin))\n",
      "    \n",
      "    # meshgrid takes axis sequences to full matrices\n",
      "    # (uses Cartesian ordering by default, so we don't need to transpose before plotting)\n",
      "    x,y = np.meshgrid(np.linspace(xmin,xmax,xres),\n",
      "                      np.linspace(ymin,ymax,yres))\n",
      "    c = x + 1j*y\n",
      "    \n",
      "    z = np.zeros(x.shape,'complex128')\n",
      "    \n",
      "    # by default, points sit in the Mandelbrot set\n",
      "    escaped = np.zeros(x.shape,'int32')\n",
      "    \n",
      "    for it in range(1,maxi):\n",
      "        # we want to work only with points that haven't escaped yet,\n",
      "        # so we build a True/False mask for that condition...\n",
      "        alive = (escaped == 0)\n",
      "        \n",
      "        # ...and use it with numpy fancy indexing to apply the\n",
      "        # Mandelbrot iteration to a subset of the matrices\n",
      "        z[alive] = z[alive]**2 + c[alive]\n",
      "        \n",
      "        # if the point _just_ escaped, save the current iteration,\n",
      "        escaped[alive & (np.abs(z) > 2)] = it\n",
      "            \n",
      "    return escaped"
     ],
     "language": "python",
     "metadata": {},
     "outputs": [],
     "prompt_number": 19
    },
    {
     "cell_type": "code",
     "collapsed": false,
     "input": [
      "show_mandel(run_mandel_numpy(xres=512))"
     ],
     "language": "python",
     "metadata": {},
     "outputs": [
      {
       "metadata": {},
       "output_type": "display_data",
       "png": "[encoded data removed]",
       "text": [
        "<matplotlib.figure.Figure at 0x10efcf080>"
       ]
      }
     ],
     "prompt_number": 20
    },
    {
     "cell_type": "code",
     "collapsed": false,
     "input": [
      "%timeit run_mandel_numpy(xres=512)"
     ],
     "language": "python",
     "metadata": {},
     "outputs": [
      {
       "output_type": "stream",
       "stream": "stdout",
       "text": [
        "1 loops, best of 3: 379 ms per loop\n"
       ]
      }
     ],
     "prompt_number": 21
    },
    {
     "cell_type": "heading",
     "level": 3,
     "metadata": {},
     "source": [
      "1.4 numpy with numexpr"
     ]
    },
    {
     "cell_type": "markdown",
     "metadata": {},
     "source": [
      "`numpy` can be slowish; although the numerics happen reasonably fast for entire arrays, there is considerable overhead involved with creating temporary arrays, etc. The [`numexpr`](https://github.com/pydata/numexpr) package tries to speed up `numpy` by compiling matrix expressions to machine code, avoiding temporaries, and using multiple cores. `numexpr` does not support fancy indexing, so we need to use the [`where`](http://docs.scipy.org/doc/numpy/reference/generated/numpy.where.html) function."
     ]
    },
    {
     "cell_type": "code",
     "collapsed": false,
     "input": [
      "import numexpr\n",
      "from numexpr import evaluate"
     ],
     "language": "python",
     "metadata": {},
     "outputs": [],
     "prompt_number": 25
    },
    {
     "cell_type": "code",
     "collapsed": false,
     "input": [
      "def run_mandel_numexpr(maxi=256,xres=128,xmin=-2.0,xmax=1.0,ymin=-1.0,ymax=1.0):\n",
      "    yres = int(xres * (ymax - ymin) / (xmax - xmin))\n",
      "    \n",
      "    # meshgrid takes axis sequences to full matrices\n",
      "    # (uses Cartesian ordering by default, so we don't need to transpose before plotting)\n",
      "    x,y = np.meshgrid(np.linspace(xmin,xmax,xres),\n",
      "                      np.linspace(ymin,ymax,yres))\n",
      "    c = x + 1j*y\n",
      "    \n",
      "    z = np.zeros(x.shape,'complex128')\n",
      "    \n",
      "    # by default, points sit in the Mandelbrot set\n",
      "    escaped = np.zeros(x.shape,'int64')\n",
      "    alive = np.zeros(x.shape,'bool')\n",
      "    \n",
      "    for it in range(1,maxi):\n",
      "        evaluate('escaped == 0',out=alive)\n",
      "        evaluate('where(alive,z**2+c,0)',out=z)\n",
      "        evaluate('where(alive & (abs(z).real > 2),it,escaped)',out=escaped)\n",
      "    \n",
      "    return escaped"
     ],
     "language": "python",
     "metadata": {},
     "outputs": [],
     "prompt_number": 26
    },
    {
     "cell_type": "markdown",
     "metadata": {},
     "source": [
      "With one thread, it's actually slower than numpy."
     ]
    },
    {
     "cell_type": "code",
     "collapsed": false,
     "input": [
      "numexpr.set_num_threads(1);"
     ],
     "language": "python",
     "metadata": {},
     "outputs": [],
     "prompt_number": 29
    },
    {
     "cell_type": "code",
     "collapsed": false,
     "input": [
      "%timeit run_mandel_numexpr(xres=512)"
     ],
     "language": "python",
     "metadata": {},
     "outputs": [
      {
       "output_type": "stream",
       "stream": "stdout",
       "text": [
        "1 loops, best of 3: 494 ms per loop\n"
       ]
      }
     ],
     "prompt_number": 30
    },
    {
     "cell_type": "markdown",
     "metadata": {},
     "source": [
      "With 4 threads, we're twice as fast."
     ]
    },
    {
     "cell_type": "code",
     "collapsed": false,
     "input": [
      "numexpr.set_num_threads(4);"
     ],
     "language": "python",
     "metadata": {},
     "outputs": [],
     "prompt_number": 43
    },
    {
     "cell_type": "code",
     "collapsed": false,
     "input": [
      "%timeit run_mandel_numexpr(xres=512)"
     ],
     "language": "python",
     "metadata": {},
     "outputs": [
      {
       "output_type": "stream",
       "stream": "stdout",
       "text": [
        "1 loops, best of 3: 207 ms per loop\n"
       ]
      }
     ],
     "prompt_number": 44
    },
    {
     "cell_type": "heading",
     "level": 3,
     "metadata": {},
     "source": [
      "1.5 pypy"
     ]
    },
    {
     "cell_type": "markdown",
     "metadata": {},
     "source": [
      "A surprisingly fast way to run Python code, as long as you don't need C extensions or packages outside the standard library, is  [pypy](http://pypy.org), an alternative Python interpreter that includes a just-in-time compiler. It doesn't have `numpy` arrays though (at least not yet), so we change the code to use lists of lists as storage. Note the `__name__ == '__main__'` [idiom](https://docs.python.org/3/library/__main__.html) so that this module can discover whether it's being run as a script rather than imported."
     ]
    },
    {
     "cell_type": "code",
     "collapsed": false,
     "input": [
      "%%file mandy.py\n",
      "\n",
      "from __future__ import division\n",
      "from __future__ import print_function\n",
      "\n",
      "def run_mandel(maxi=256,xres=128,xmin=-2.0,xmax=1.0,ymin=-1.0,ymax=1.0):\n",
      "    # figure out the y-axis resolution on the basis of the computed region\n",
      "    # and of the x-axis resolution\n",
      "    yres = int(xres * (ymax - ymin) / (xmax - xmin))\n",
      "    \n",
      "    dx = (xmax - xmin) / (xres - 1)\n",
      "    dy = (ymax - ymin) / (yres - 1)\n",
      "    \n",
      "    # why would [[0] * xres] * yres and[[0.0] * xres] * yres not work here?\n",
      "    # ...think about Python reference semantics\n",
      "    escaped = [[0] * xres for i in range(yres)]\n",
      "    \n",
      "    for i in range(xres):\n",
      "        x = xmin + i * dx\n",
      "        \n",
      "        for j in range(yres):\n",
      "            y = ymin + j * dx\n",
      "            \n",
      "            c = x + 1j * y\n",
      "            z = 0.0\n",
      "            \n",
      "            escaped[j][i] = 0\n",
      "            \n",
      "            for it in range(1,maxi):\n",
      "                z = z*z + c\n",
      "                \n",
      "                if abs(z) > 2.0:\n",
      "                    escaped[j][i] = it\n",
      "                    break\n",
      "                        \n",
      "    return escaped\n",
      "\n",
      "import timeit\n",
      "\n",
      "# if run as a script, we time the Mandelbrot computation\n",
      "if __name__ == '__main__':\n",
      "    print(timeit.timeit('run_mandel(xres=512)',number=3,\n",
      "                        setup=\"from __main__ import run_mandel\")/3)"
     ],
     "language": "python",
     "metadata": {},
     "outputs": [
      {
       "output_type": "stream",
       "stream": "stdout",
       "text": [
        "Overwriting mandy.py\n"
       ]
      }
     ],
     "prompt_number": 45
    },
    {
     "cell_type": "markdown",
     "metadata": {},
     "source": [
      "This code is correct Python, so it runs under the regular interpreter. (Remember that in Python 3 modules are reloaded with `imp.reload`.)"
     ]
    },
    {
     "cell_type": "code",
     "collapsed": false,
     "input": [
      "import mandy\n",
      "\n",
      "show_mandel(np.array(mandy.run_mandel(xres=128)))"
     ],
     "language": "python",
     "metadata": {},
     "outputs": [
      {
       "metadata": {},
       "output_type": "display_data",
       "png": "[encoded data removed]",
       "text": [
        "<matplotlib.figure.Figure at 0x10e235908>"
       ]
      }
     ],
     "prompt_number": 27
    },
    {
     "cell_type": "code",
     "collapsed": false,
     "input": [
      "!python mandy.py"
     ],
     "language": "python",
     "metadata": {},
     "outputs": [
      {
       "output_type": "stream",
       "stream": "stdout",
       "text": [
        "2.112286834667126\r\n"
       ]
      }
     ],
     "prompt_number": 43
    },
    {
     "cell_type": "code",
     "collapsed": false,
     "input": [
      "!pypy mandy.py"
     ],
     "language": "python",
     "metadata": {},
     "outputs": [
      {
       "output_type": "stream",
       "stream": "stdout",
       "text": [
        "0.202537695567\r\n"
       ]
      }
     ],
     "prompt_number": 45
    },
    {
     "cell_type": "heading",
     "level": 3,
     "metadata": {},
     "source": [
      "1.6 cython"
     ]
    },
    {
     "cell_type": "markdown",
     "metadata": {},
     "source": [
      "We already met [Cython](http://cython.org), a compiler for Python that we used to glue C code to Python. Cython can be used for speed by providing it with _type annotations_ about variables, which then are treated in the compiled code as C variables rather than overhead-heavy Python objects. The iPython `%%cython` magic makes it extremely convenient to use from the notebook."
     ]
    },
    {
     "cell_type": "code",
     "collapsed": false,
     "input": [
      "%load_ext Cython"
     ],
     "language": "python",
     "metadata": {},
     "outputs": [],
     "prompt_number": 46
    },
    {
     "cell_type": "code",
     "collapsed": false,
     "input": [
      "%%cython\n",
      "\n",
      "def compute_cython(complex c,int maxi):\n",
      "    cdef complex z = 0.0j\n",
      "    cdef int it\n",
      "    \n",
      "    for it in range(1,maxi):\n",
      "        z = z*z + c\n",
      "        \n",
      "        if z.real*z.real + z.imag*z.imag > 4.0:\n",
      "            return it\n",
      "\n",
      "    return 0"
     ],
     "language": "python",
     "metadata": {},
     "outputs": [],
     "prompt_number": 47
    },
    {
     "cell_type": "markdown",
     "metadata": {},
     "source": [
      "Indeed, we can just mix Cythonized and regular Python code, in this case by passing the `compute_cython` function to our driver. The resulting speed is very nice."
     ]
    },
    {
     "cell_type": "code",
     "collapsed": false,
     "input": [
      "show_mandel(run_mandel(xres=512,compute=compute_cython))"
     ],
     "language": "python",
     "metadata": {},
     "outputs": [
      {
       "metadata": {},
       "output_type": "display_data",
       "png": "[encoded data removed]",
       "text": [
        "<matplotlib.figure.Figure at 0x11007c198>"
       ]
      }
     ],
     "prompt_number": 48
    },
    {
     "cell_type": "code",
     "collapsed": false,
     "input": [
      "%timeit run_mandel(xres=512,compute=compute_cython)"
     ],
     "language": "python",
     "metadata": {},
     "outputs": [
      {
       "output_type": "stream",
       "stream": "stdout",
       "text": [
        "10 loops, best of 3: 102 ms per loop\n"
       ]
      }
     ],
     "prompt_number": 49
    },
    {
     "cell_type": "markdown",
     "metadata": {},
     "source": [
      "And we can do even better by Cythonizing the entire computation. Note the special syntax (and the `cimport numpy`) for [declaring `numpy` arrays](http://docs.cython.org/src/tutorial/numpy.html). If we do that, then the compiled code will be able to loop very efficiently over them."
     ]
    },
    {
     "cell_type": "code",
     "collapsed": false,
     "input": [
      "%%cython\n",
      "\n",
      "import numpy as np\n",
      "\n",
      "cdef int compute_cython2(complex c,int maxi) nogil:\n",
      "    cdef double complex z = 0.0j\n",
      "    cdef int it\n",
      "    \n",
      "    for it in range(1,maxi):\n",
      "        z = z*z + c\n",
      "        \n",
      "        if z.real*z.real + z.imag*z.imag > 4.0:\n",
      "            return it\n",
      "\n",
      "    return 0\n",
      "\n",
      "def run_mandel_cython(int maxi=256,int xres=128,double xmin=-2.0,double xmax=1.0,double ymin=-1.0,double ymax=1.0):\n",
      "    # figure out the y-axis resolution on the basis of the computed region\n",
      "    # and of the x-axis resolution\n",
      "    cdef int yres = int(xres * (ymax - ymin) / (xmax - xmin))\n",
      "    \n",
      "    cdef double dx = (xmax - xmin) / (xres - 1)\n",
      "    cdef double dy = (ymax - ymin) / (yres - 1)\n",
      "    \n",
      "    # we lay out the result array in Cartesian-plane fashion, so y goes first\n",
      "    cdef int[:,:] escaped = np.zeros((yres,xres),'int32')\n",
      "    \n",
      "    cdef int i, j\n",
      "    cdef double x, y\n",
      "    cdef complex c\n",
      "    \n",
      "    for i in range(xres):\n",
      "        x = xmin + i * dx\n",
      "\n",
      "        for j in range(yres):\n",
      "            y = ymin + j * dx\n",
      "\n",
      "            c = x + 1j * y\n",
      "            escaped[j,i] = compute_cython2(c,maxi)\n",
      "    \n",
      "    return escaped"
     ],
     "language": "python",
     "metadata": {},
     "outputs": [],
     "prompt_number": 50
    },
    {
     "cell_type": "code",
     "collapsed": false,
     "input": [
      "%timeit run_mandel_cython(xres=512)"
     ],
     "language": "python",
     "metadata": {},
     "outputs": [
      {
       "output_type": "stream",
       "stream": "stdout",
       "text": [
        "10 loops, best of 3: 47.6 ms per loop\n"
       ]
      }
     ],
     "prompt_number": 51
    },
    {
     "cell_type": "markdown",
     "metadata": {},
     "source": [
      "Cython has also support for using multiple threads [in parallel](http://docs.cython.org/src/userguide/parallelism.html) using [OpenMP](http://openmp.org/wp). Unfortunately we cannot access that with the standard compiler on this platform (Clang on OS X), so we need to make the Cython extension outside the notebook, with a `setup.py` file, in order to use `gcc` (in this case, gcc 4.8 installed with MacPorts.)"
     ]
    },
    {
     "cell_type": "code",
     "collapsed": false,
     "input": [
      "%%file hello.pyx\n",
      "\n",
      "from cython.parallel import parallel, prange\n",
      "import numpy as np\n",
      "\n",
      "cdef int compute_cython2(complex c,int maxi) nogil:\n",
      "    cdef double complex z = 0.0j\n",
      "    cdef int it\n",
      "    \n",
      "    for it in range(1,maxi):\n",
      "        z = z*z + c\n",
      "        \n",
      "        if z.real*z.real + z.imag*z.imag > 4.0:\n",
      "            return it\n",
      "\n",
      "    return 0\n",
      "\n",
      "def run_mandel_cython(int maxi=256,int xres=128,double xmin=-2.0,double xmax=1.0,double ymin=-1.0,double ymax=1.0):\n",
      "    # figure out the y-axis resolution on the basis of the computed region\n",
      "    # and of the x-axis resolution\n",
      "    cdef int yres = int(xres * (ymax - ymin) / (xmax - xmin))\n",
      "    \n",
      "    cdef double dx = (xmax - xmin) / (xres - 1)\n",
      "    cdef double dy = (ymax - ymin) / (yres - 1)\n",
      "    \n",
      "    # we lay out the result array in Cartesian-plane fashion, so y goes first\n",
      "    cdef int[:,:] escaped = np.zeros((yres,xres),'int32')\n",
      "    \n",
      "    cdef int i, j\n",
      "    cdef double x, y\n",
      "    cdef complex c\n",
      "        \n",
      "    with nogil, parallel(num_threads=8):\n",
      "        for i in prange(xres,schedule='guided'):\n",
      "            x = xmin + i * dx\n",
      "\n",
      "            for j in range(yres):\n",
      "                y = ymin + j * dx\n",
      "\n",
      "                c = x + 1j * y\n",
      "                escaped[j,i] = compute_cython2(c,maxi)\n",
      "    \n",
      "    return escaped"
     ],
     "language": "python",
     "metadata": {},
     "outputs": [
      {
       "output_type": "stream",
       "stream": "stdout",
       "text": [
        "Overwriting hello.pyx\n"
       ]
      }
     ],
     "prompt_number": 52
    },
    {
     "cell_type": "code",
     "collapsed": false,
     "input": [
      "%%file setup-cython.py\n",
      "\n",
      "import os\n",
      "\n",
      "os.environ['CC'] = '/opt/local/bin/gcc-mp-4.8'\n",
      "os.environ['CXX'] = '/opt/local/bin/g++-mp-4.8'\n",
      "\n",
      "from distutils.core import setup\n",
      "from distutils.extension import Extension\n",
      "from Cython.Distutils import build_ext\n",
      "\n",
      "ext_module = Extension(\n",
      "    \"hello\",\n",
      "    [\"hello.pyx\"],\n",
      "    extra_compile_args=['-fopenmp'],\n",
      "    extra_link_args=['-fopenmp'],\n",
      ")\n",
      "\n",
      "setup(\n",
      "    name = 'Hello world app',\n",
      "    cmdclass = {'build_ext': build_ext},\n",
      "    ext_modules = [ext_module],\n",
      ")"
     ],
     "language": "python",
     "metadata": {},
     "outputs": [
      {
       "output_type": "stream",
       "stream": "stdout",
       "text": [
        "Overwriting setup-cython.py\n"
       ]
      }
     ],
     "prompt_number": 53
    },
    {
     "cell_type": "code",
     "collapsed": false,
     "input": [
      "!python setup-cython.py build_ext --inplace"
     ],
     "language": "python",
     "metadata": {},
     "outputs": [
      {
       "output_type": "stream",
       "stream": "stdout",
       "text": [
        "running build_ext\r\n"
       ]
      },
      {
       "output_type": "stream",
       "stream": "stdout",
       "text": [
        "cythoning hello.pyx to hello.c\r\n"
       ]
      },
      {
       "output_type": "stream",
       "stream": "stdout",
       "text": [
        "warning: hello.pyx:40:23: Use boundscheck(False) for faster access\r\n"
       ]
      },
      {
       "output_type": "stream",
       "stream": "stdout",
       "text": [
        "building 'hello' extension\r\n",
        "/opt/local/bin/gcc-mp-4.8 -fno-strict-aliasing -DNDEBUG -g -fwrapv -O3 -Wall -Wstrict-prototypes -I//anaconda/envs/py3k/include -arch x86_64 -I//anaconda/envs/py3k/include/python3.4m -c hello.c -o build/temp.macosx-10.5-x86_64-3.4/hello.o -fopenmp\r\n"
       ]
      },
      {
       "output_type": "stream",
       "stream": "stdout",
       "text": [
        "hello.c: In function '__pyx_pf_5hello_run_mandel_cython._omp_fn.0':\r\n",
        "hello.c:1818:33: warning: '__pyx_v_x' may be used uninitialized in this function [-Wmaybe-uninitialized]\r\n",
        "                         #pragma omp for firstprivate(__pyx_v_i) lastprivate(__pyx_v_i) lastprivate(__pyx_v_j) lastprivate(__pyx_v_c) lastprivate(__pyx_v_y) lastprivate(__pyx_v_x) schedule(guided)\r\n",
        "                                 ^\r\n",
        "hello.c:1611:10: note: '__pyx_v_x' was declared here\r\n",
        "   double __pyx_v_x;\r\n",
        "          ^\r\n",
        "hello.c:1818:33: warning: '__pyx_v_y' may be used uninitialized in this function [-Wmaybe-uninitialized]\r\n",
        "                         #pragma omp for firstprivate(__pyx_v_i) lastprivate(__pyx_v_i) lastprivate(__pyx_v_j) lastprivate(__pyx_v_c) lastprivate(__pyx_v_y) lastprivate(__pyx_v_x) schedule(guided)\r\n",
        "                                 ^\r\n",
        "hello.c:1612:10: note: '__pyx_v_y' was declared here\r\n",
        "   double __pyx_v_y;\r\n",
        "          ^\r\n",
        "hello.c:1818:33: warning: '__pyx_v_j' may be used uninitialized in this function [-Wmaybe-uninitialized]\r\n",
        "                         #pragma omp for firstprivate(__pyx_v_i) lastprivate(__pyx_v_i) lastprivate(__pyx_v_j) lastprivate(__pyx_v_c) lastprivate(__pyx_v_y) lastprivate(__pyx_v_x) schedule(guided)\r\n",
        "                                 ^\r\n",
        "hello.c:1610:7: note: '__pyx_v_j' was declared here\r\n",
        "   int __pyx_v_j;\r\n",
        "       ^\r\n"
       ]
      },
      {
       "output_type": "stream",
       "stream": "stdout",
       "text": [
        "/opt/local/bin/gcc-mp-4.8 -bundle -undefined dynamic_lookup -L//anaconda/envs/py3k/lib -arch x86_64 build/temp.macosx-10.5-x86_64-3.4/hello.o -L//anaconda/envs/py3k/lib -o /Users/vallis/Documents/book/newlectures/lecture-8/hello.so -fopenmp\r\n"
       ]
      }
     ],
     "prompt_number": 54
    },
    {
     "cell_type": "code",
     "collapsed": false,
     "input": [
      "import hello"
     ],
     "language": "python",
     "metadata": {},
     "outputs": [],
     "prompt_number": 55
    },
    {
     "cell_type": "code",
     "collapsed": false,
     "input": [
      "%timeit hello.run_mandel_cython(xres=512)"
     ],
     "language": "python",
     "metadata": {},
     "outputs": [
      {
       "output_type": "stream",
       "stream": "stdout",
       "text": [
        "100 loops, best of 3: 7.89 ms per loop\n"
       ]
      }
     ],
     "prompt_number": 56
    },
    {
     "cell_type": "heading",
     "level": 3,
     "metadata": {},
     "source": [
      "1.7 numba CUDA"
     ]
    },
    {
     "cell_type": "markdown",
     "metadata": {},
     "source": [
      "For the grand finale, we use the GPU in our machine (as long as it's NVIDIA...) to accelerate the computation using its massive parallelism. [`numbapro`](http://docs.continuum.io/numbapro/) (a commercial product) makes this especially convenient. There are [other packages](http://mathema.tician.de/software/pycuda) as well. We follow [this example](http://nbviewer.ipython.org/gist/harrism/f5707335f40af9463c43)."
     ]
    },
    {
     "cell_type": "code",
     "collapsed": false,
     "input": [
      "from numba import *\n",
      "import numbapro"
     ],
     "language": "python",
     "metadata": {},
     "outputs": [
      {
       "output_type": "stream",
       "stream": "stderr",
       "text": [
        "Vendor:  Continuum Analytics, Inc.\n",
        "Package: numbapro\n",
        "Message: trial mode expires in 30 days\n"
       ]
      }
     ],
     "prompt_number": 57
    },
    {
     "cell_type": "markdown",
     "metadata": {},
     "source": [
      "More annotations... but also some boilerplate distributing the computation among CUDA _blocks_ and _kernels_. Too complicated (and not quite elegant enough) to explain here."
     ]
    },
    {
     "cell_type": "code",
     "collapsed": false,
     "input": [
      "@cuda.jit(restype=uint32,argtypes=[c16,uint32],device=True)\n",
      "def compute_mandel_cuda(c,maxit):\n",
      "    z = 0.0j\n",
      "\n",
      "    for i in range(maxit):\n",
      "        z = z*z + c\n",
      "\n",
      "        if (z.real*z.real + z.imag*z.imag) >= 4:\n",
      "            return i\n",
      "    \n",
      "    return 0"
     ],
     "language": "python",
     "metadata": {},
     "outputs": [],
     "prompt_number": 58
    },
    {
     "cell_type": "code",
     "collapsed": false,
     "input": [
      "@cuda.jit(argtypes=[f8,f8,f8,f8,uint8[:,:],uint32])\n",
      "def mandel_kernel(xmin,xmax,ymin,ymax,image,iters):\n",
      "    height, width = image.shape\n",
      "\n",
      "    dx, dy = (xmax - xmin) / width, (ymax - ymin) / height\n",
      "\n",
      "    # start = blockDim * blockIdx + threadIdx\n",
      "    startX, startY = cuda.grid(2)\n",
      "    \n",
      "    gridX = cuda.gridDim.x * cuda.blockDim.x\n",
      "    gridY = cuda.gridDim.y * cuda.blockDim.y\n",
      "\n",
      "    for i in range(startX,width,gridX):\n",
      "        real = xmin + i * dx\n",
      "        for j in range(startY,height,gridY):\n",
      "            imag = ymin + j * dy\n",
      "            image[j,i] = compute_mandel_cuda(real + 1j * imag, iters)"
     ],
     "language": "python",
     "metadata": {},
     "outputs": [],
     "prompt_number": 59
    },
    {
     "cell_type": "markdown",
     "metadata": {},
     "source": [
      "Amazing speed! The 10 ms below are for my desktop. My laptop, which has a few times fewer compute cores in its mobile GPU, was a few times slower."
     ]
    },
    {
     "cell_type": "code",
     "collapsed": false,
     "input": [
      "from timeit import default_timer as timer\n",
      "\n",
      "gimage = np.zeros((341,512), dtype = np.uint8)\n",
      "\n",
      "blockdim = (16,32) # size of each block given to a kernel\n",
      "griddim = (16,32)  # size of the grid of kernels\n",
      "\n",
      "start = timer()\n",
      "\n",
      "d_image = cuda.to_device(gimage)\n",
      "mandel_kernel[griddim, blockdim](-2.0,1.0,-1.0,1.0,d_image,256) \n",
      "d_image.to_host()\n",
      "print('%.4f' % (timer() - start))\n",
      "\n",
      "show_mandel(gimage)"
     ],
     "language": "python",
     "metadata": {},
     "outputs": [
      {
       "output_type": "stream",
       "stream": "stdout",
       "text": [
        "0.0106\n"
       ]
      },
      {
       "metadata": {},
       "output_type": "display_data",
       "png": "[encoded data removed]",
       "text": [
        "<matplotlib.figure.Figure at 0x11032e400>"
       ]
      }
     ],
     "prompt_number": 62
    },
    {
     "cell_type": "markdown",
     "metadata": {},
     "source": [
      "Numbapro can also target multicore CPUs, by _vectorizing_ functions into compiled versions that can run on a full numpy array."
     ]
    },
    {
     "cell_type": "code",
     "collapsed": false,
     "input": [
      "from numbapro import vectorize\n",
      "\n",
      "# Create a ufunc\n",
      "@vectorize(['int32(complex128,int32)'],target='parallel')\n",
      "def compute_mandel_numbavec(c,maxit):\n",
      "    z = 0.0j\n",
      "\n",
      "    for i in range(maxit):\n",
      "        z = z*z + c\n",
      "\n",
      "        # if abs(z) >= 2 is much slower\n",
      "        if (z.real*z.real + z.imag*z.imag) >= 4:\n",
      "            return i\n",
      "    \n",
      "    return 0"
     ],
     "language": "python",
     "metadata": {},
     "outputs": [],
     "prompt_number": 64
    },
    {
     "cell_type": "code",
     "collapsed": false,
     "input": [
      "def run_mandel_numbavec(maxi=256,xres=128,xmin=-2.0,xmax=1.0,ymin=-1.0,ymax=1.0):\n",
      "    yres = int(xres * (ymax - ymin) / (xmax - xmin))\n",
      "    \n",
      "    # meshgrid takes axis sequences to full matrices\n",
      "    # (uses Cartesian ordering by default, so we don't need to transpose before plotting)\n",
      "    x,y = np.meshgrid(np.linspace(xmin,xmax,xres),\n",
      "                      np.linspace(ymin,ymax,yres))\n",
      "    c = x + 1j*y\n",
      "    \n",
      "    escaped = compute_mandel_numbavec(c,maxi)\n",
      "            \n",
      "    return escaped"
     ],
     "language": "python",
     "metadata": {},
     "outputs": [],
     "prompt_number": 65
    },
    {
     "cell_type": "markdown",
     "metadata": {},
     "source": [
      "It's fast! But it's unclear how many cores Numbapro is using. Perhaps 6, looking at a `top` printout."
     ]
    },
    {
     "cell_type": "code",
     "collapsed": false,
     "input": [
      "%timeit run_mandel_numbavec(xres=512)"
     ],
     "language": "python",
     "metadata": {},
     "outputs": [
      {
       "output_type": "stream",
       "stream": "stdout",
       "text": [
        "100 loops, best of 3: 14.8 ms per loop\n"
       ]
      }
     ],
     "prompt_number": 76
    },
    {
     "cell_type": "markdown",
     "metadata": {},
     "source": [
      "We celebrate with a Tuftian bar plot of the final tally (see lecture 6)."
     ]
    },
    {
     "cell_type": "code",
     "collapsed": false,
     "input": [
      "import collections\n",
      "\n",
      "timings = collections.OrderedDict([(\"Python\", 1830),\n",
      "                                   (\"Numba\", 122),\n",
      "                                   (\"numpy\", 379),\n",
      "                                   (\"numexpr\", 494),\n",
      "                                   (\"numexpr(parallel,4)\", 207),\n",
      "                                   (\"pypy\", 203),\n",
      "                                   (\"Cython(kernel)\", 102),\n",
      "                                   (\"Cython(full)\", 47),\n",
      "                                   (\"Cython(parallel,8)\", 7.89),\n",
      "                                   (\"Numbapro(GPU)\", 13),\n",
      "                                   (\"Numbapro(parallel,6?)\", 14.8)])\n",
      "\n",
      "import brewer2mpl\n",
      "\n",
      "pp.figure(figsize=(12,8))\n",
      "\n",
      "# get a bar plot with pretty colors...\n",
      "\n",
      "pp.bar(range(11),timings.values(),\n",
      "       linewidth=0,color=brewer2mpl.get_map('Set2','qualitative',7).mpl_colors)\n",
      "\n",
      "pp.axis(xmax=11.5,ymax=1900)\n",
      "\n",
      "# add text labels\n",
      "\n",
      "pp.xticks(rotation=45)\n",
      "pp.xticks([x + 0.4 for x in range(11)],list(timings.keys()),fontsize=12)\n",
      "\n",
      "# print the timings at the top of the bars\n",
      "\n",
      "for x, value in enumerate(timings.values()):\n",
      "    pp.text(x + 0.4,value + 25,'%.0f ms' % value,\n",
      "            horizontalalignment='center')\n",
      "\n",
      "# hide the tick marks and spines\n",
      "    \n",
      "ax = pp.gca()\n",
      "\n",
      "for d in ['top','bottom','right','left']:\n",
      "    ax.spines[d].set_visible(False)\n",
      "    \n",
      "ax.xaxis.set_tick_params(width=0)\n",
      "ax.yaxis.set_tick_params(width=0)"
     ],
     "language": "python",
     "metadata": {},
     "outputs": [
      {
       "metadata": {},
       "output_type": "display_data",
       "png": "[encoded data removed]",
       "text": [
        "<matplotlib.figure.Figure at 0x11377c5c0>"
       ]
      }
     ],
     "prompt_number": 111
    },
    {
     "cell_type": "heading",
     "level": 3,
     "metadata": {},
     "source": [
      "2.0 Distributing a simple package"
     ]
    },
    {
     "cell_type": "markdown",
     "metadata": {},
     "source": [
      "Following the example at https://developer.yahoo.com/weather, we will write a simple utility that gets a weather forecast from Yahoo, and package it for distribution. We use `requests` (see lecture3) to get the data, then `json` to unpack it into Python structures. ([JSON](http://json.org/) is almost Python anyway...)"
     ]
    },
    {
     "cell_type": "code",
     "collapsed": false,
     "input": [
      "import requests\n",
      "import json"
     ],
     "language": "python",
     "metadata": {},
     "outputs": [],
     "prompt_number": 85
    },
    {
     "cell_type": "code",
     "collapsed": false,
     "input": [
      "def getweather(city='Pasadena, CA'):\n",
      "    baseurl = \"https://query.yahooapis.com/v1/public/yql\"\n",
      "\n",
      "    woeid = 'select woeid from geo.places(1) where text=\"{0}\"'.format(city)\n",
      "    query = 'select * from weather.forecast where woeid in ({0})'.format(woeid)\n",
      "\n",
      "    r = requests.get(baseurl,params={'q': query, 'format': 'json'})\n",
      "    data = json.loads(r.text)\n",
      "\n",
      "    if not r.ok:\n",
      "        raise RuntimeError\n",
      "    \n",
      "    return data['query']['results']['channel']\n",
      "\n",
      "def printweather(city='Pasadena, CA',units='F'):\n",
      "    weather = getweather(city)\n",
      "    \n",
      "    print(\"Weather for {0}, {1}:\".format(weather['location']['city'],\n",
      "                                         weather['location']['region']))\n",
      "    \n",
      "    for d in weather['item']['forecast']:\n",
      "        if units == 'F':\n",
      "            print('{0}: {1}-{2} ({3})'.format(d['day'],d['low'],d['high'],d['text']))\n",
      "        else:\n",
      "            print('{0}: {1:.1f}-{2:.1f} ({3})'.format(d['day'],ftoc(int(d['low'])),ftoc(int(d['high'])),d['text']))"
     ],
     "language": "python",
     "metadata": {},
     "outputs": [],
     "prompt_number": 86
    },
    {
     "cell_type": "code",
     "collapsed": false,
     "input": [
      "printweather('Pasadena','C')"
     ],
     "language": "python",
     "metadata": {},
     "outputs": [
      {
       "output_type": "stream",
       "stream": "stdout",
       "text": [
        "Weather for Pasadena, CA:\n",
        "Thu: 9.4-21.7 (Sunny)\n",
        "Fri: 10.6-20.6 (Mostly Sunny)\n",
        "Sat: 7.2-16.7 (PM Showers)\n",
        "Sun: 7.2-17.2 (Partly Cloudy)\n",
        "Mon: 7.2-16.1 (PM Showers)\n"
       ]
      }
     ],
     "prompt_number": 96
    },
    {
     "cell_type": "code",
     "collapsed": false,
     "input": [
      "def ftoc(temp):\n",
      "    \"\"\"Converts temperature from Fahrenheit to Celsius.\n",
      "    \n",
      "    >>> ftoc(32)\n",
      "    0.0\n",
      "    >>> ftoc(100)\n",
      "    37.77\n",
      "    \"\"\"\n",
      "    \n",
      "    return (5/9) * (temp-32)"
     ],
     "language": "python",
     "metadata": {},
     "outputs": [],
     "prompt_number": 95
    },
    {
     "cell_type": "code",
     "collapsed": false,
     "input": [
      "ftoc(60)"
     ],
     "language": "python",
     "metadata": {},
     "outputs": [
      {
       "metadata": {},
       "output_type": "pyout",
       "prompt_number": 97,
       "text": [
        "15.555555555555557"
       ]
      }
     ],
     "prompt_number": 97
    },
    {
     "cell_type": "code",
     "collapsed": false,
     "input": [
      "printweather('La Canada Flintridge, CA','C')"
     ],
     "language": "python",
     "metadata": {},
     "outputs": [
      {
       "output_type": "stream",
       "stream": "stdout",
       "text": [
        "Weather for La Canada Flintridge, CA:\n",
        "Wed: 16.7-29.4 (Clear)\n",
        "Thu: 16.1-27.8 (Sunny)\n",
        "Fri: 17.2-29.4 (Sunny)\n",
        "Sat: 16.7-31.1 (Sunny)\n",
        "Sun: 16.1-30.6 (Sunny)\n"
       ]
      }
     ],
     "prompt_number": 79
    },
    {
     "cell_type": "markdown",
     "metadata": {},
     "source": [
      "A Python package (see https://packaging.python.org/en/latest) is basically a directory that contains one or more Python modules (and possibly subdirectories), as well as an `__init__.py` file, which can be empty, or can do initializations, `import`s, etc. (this requirement disappeared in Python 3.4).\n",
      "\n",
      "We're going to use our package to exercise two ways of _testing_ Python code: [doctest](https://docs.python.org/3/library/doctest.html) and [unittest](https://docs.python.org/3/library/unittest.html). The first kind of tests are written within the _docstrings_ of functions, and are actually run by `doctest.testmod()`; the second kind are written inside a customized subclass of `unittest.TestCase`, and are run with `unittest.main()`. You can also use [`nose`](https://nose.readthedocs.org/en/latest/) to run the tests."
     ]
    },
    {
     "cell_type": "code",
     "collapsed": false,
     "input": [
      "!mkdir getweather"
     ],
     "language": "python",
     "metadata": {},
     "outputs": [],
     "prompt_number": 98
    },
    {
     "cell_type": "code",
     "collapsed": false,
     "input": [
      "%%file getweather/__init__.py\n",
      "from getweather.lib import *"
     ],
     "language": "python",
     "metadata": {},
     "outputs": [
      {
       "output_type": "stream",
       "stream": "stdout",
       "text": [
        "Writing getweather/__init__.py\n"
       ]
      }
     ],
     "prompt_number": 99
    },
    {
     "cell_type": "code",
     "collapsed": false,
     "input": [
      "%%file getweather/lib.py\n",
      "import requests\n",
      "import json\n",
      "\n",
      "def getweather(city='Pasadena, CA'):\n",
      "    baseurl = \"https://query.yahooapis.com/v1/public/yql\"\n",
      "\n",
      "    woeid = 'select woeid from geo.places(1) where text=\"{0}\"'.format(city)\n",
      "    query = 'select * from weather.forecast where woeid in ({0})'.format(woeid)\n",
      "\n",
      "    r = requests.get(baseurl,params={'q': query, 'format': 'json'})\n",
      "    data = json.loads(r.text)\n",
      "\n",
      "    if not r.ok:\n",
      "        raise RuntimeError\n",
      "    \n",
      "    return data['query']['results']['channel']\n",
      "\n",
      "def printweather(city='Pasadena, CA',units='F'):\n",
      "    weather = getweather(city)\n",
      "    \n",
      "    print(\"Weather for {0}, {1}:\".format(weather['location']['city'],\n",
      "                                         weather['location']['region']))\n",
      "    \n",
      "    for d in weather['item']['forecast']:\n",
      "        if units=='F':\n",
      "            print('{0}: {1}-{2} ({3})'.format(d['day'],d['low'],d['high'],d['text']))\n",
      "        else:\n",
      "            print('{0}: {1:.1f}-{2:.1f} ({3})'.format(d['day'],ftoc(int(d['low'])),ftoc(int(d['high'])),d['text']))\n",
      "\n",
      "def ftoc(temp):\n",
      "    \"\"\"Converts temperature from Fahrenheit to Celsius.\n",
      "    \n",
      "    >>> ftoc(32)\n",
      "    0.0\n",
      "    >>> ftoc(100)\n",
      "    37.77777777777778\n",
      "    \"\"\"\n",
      "    \n",
      "    return (5/9) * (temp-32)\n",
      "\n",
      "import unittest\n",
      "\n",
      "class test_ftoc(unittest.TestCase):\n",
      "    # in case we need to set up data structures, connect to databases... for multiple tests\n",
      "    def setUp(self):\n",
      "        pass\n",
      "\n",
      "    def test_extrema(self):\n",
      "        self.assertEqual(ftoc(32),0.0)\n",
      "        self.assertAlmostEqual(ftoc(100),37 + 7/9)\n",
      "\n",
      "    # to clean up\n",
      "    def tearDown(self):\n",
      "        pass\n",
      "        \n",
      "if __name__ == '__main__':\n",
      "    import doctest\n",
      "    doctest.testmod()\n",
      "    \n",
      "    unittest.main()"
     ],
     "language": "python",
     "metadata": {},
     "outputs": [
      {
       "output_type": "stream",
       "stream": "stdout",
       "text": [
        "Overwriting getweather/lib.py\n"
       ]
      }
     ],
     "prompt_number": 108
    },
    {
     "cell_type": "markdown",
     "metadata": {},
     "source": [
      "Checking that the tests work."
     ]
    },
    {
     "cell_type": "code",
     "collapsed": false,
     "input": [
      "!python getweather/lib.py"
     ],
     "language": "python",
     "metadata": {},
     "outputs": [
      {
       "output_type": "stream",
       "stream": "stdout",
       "text": [
        ".\r\n",
        "----------------------------------------------------------------------\r\n",
        "Ran 1 test in 0.000s\r\n",
        "\r\n",
        "OK\r\n"
       ]
      }
     ],
     "prompt_number": 109
    },
    {
     "cell_type": "markdown",
     "metadata": {},
     "source": [
      "To distribute the package and have users install it to their standard installation directory, we write a simple `setup.py` file (effectively, a `Makefile` for Python, which is run with `python setup.py install`). Even this simple a `setup.py` allows you to upload a package to https://pypi.python.org with a simple `python setup.py upload`. Once the package is there, it can be installed without downloading explicitly, with `pip install PACKAGENAME`.\n",
      "\n",
      "We also talked about Python [virtual environments](http://docs.python-guide.org/en/latest/dev/virtualenvs) (and see [`venv`](https://docs.python.org/3/library/venv.html) for Python 3)."
     ]
    },
    {
     "cell_type": "code",
     "collapsed": false,
     "input": [
      "%%file setup.py\n",
      "from setuptools import setup\n",
      "\n",
      "setup(name='getweather',\n",
      "      version='0.1',\n",
      "      \n",
      "      packages=['getweather'])"
     ],
     "language": "python",
     "metadata": {},
     "outputs": [
      {
       "output_type": "stream",
       "stream": "stdout",
       "text": [
        "Overwriting setup.py\n"
       ]
      }
     ],
     "prompt_number": 110
    },
    {
     "cell_type": "code",
     "collapsed": false,
     "input": [
      "!python setup.py install"
     ],
     "language": "python",
     "metadata": {},
     "outputs": [
      {
       "output_type": "stream",
       "stream": "stdout",
       "text": [
        "running install\r\n"
       ]
      },
      {
       "output_type": "stream",
       "stream": "stdout",
       "text": [
        "running bdist_egg\r\n",
        "running egg_info\r\n",
        "creating getweather.egg-info\r\n",
        "writing dependency_links to getweather.egg-info/dependency_links.txt\r\n",
        "writing top-level names to getweather.egg-info/top_level.txt\r\n",
        "writing getweather.egg-info/PKG-INFO\r\n",
        "writing manifest file 'getweather.egg-info/SOURCES.txt'\r\n"
       ]
      },
      {
       "output_type": "stream",
       "stream": "stdout",
       "text": [
        "reading manifest file 'getweather.egg-info/SOURCES.txt'\r\n",
        "writing manifest file 'getweather.egg-info/SOURCES.txt'\r\n",
        "installing library code to build/bdist.macosx-10.5-x86_64/egg\r\n",
        "running install_lib\r\n",
        "running build_py\r\n",
        "creating build\r\n",
        "creating build/lib\r\n",
        "creating build/lib/getweather\r\n",
        "copying getweather/__init__.py -> build/lib/getweather\r\n",
        "copying getweather/lib.py -> build/lib/getweather\r\n",
        "creating build/bdist.macosx-10.5-x86_64\r\n",
        "creating build/bdist.macosx-10.5-x86_64/egg\r\n",
        "creating build/bdist.macosx-10.5-x86_64/egg/getweather\r\n",
        "copying build/lib/getweather/__init__.py -> build/bdist.macosx-10.5-x86_64/egg/getweather\r\n",
        "copying build/lib/getweather/lib.py -> build/bdist.macosx-10.5-x86_64/egg/getweather\r\n",
        "byte-compiling build/bdist.macosx-10.5-x86_64/egg/getweather/__init__.py to __init__.cpython-34.pyc\r\n",
        "byte-compiling build/bdist.macosx-10.5-x86_64/egg/getweather/lib.py to lib.cpython-34.pyc\r\n",
        "creating build/bdist.macosx-10.5-x86_64/egg/EGG-INFO\r\n",
        "copying getweather.egg-info/PKG-INFO -> build/bdist.macosx-10.5-x86_64/egg/EGG-INFO\r\n",
        "copying getweather.egg-info/SOURCES.txt -> build/bdist.macosx-10.5-x86_64/egg/EGG-INFO\r\n",
        "copying getweather.egg-info/dependency_links.txt -> build/bdist.macosx-10.5-x86_64/egg/EGG-INFO\r\n",
        "copying getweather.egg-info/top_level.txt -> build/bdist.macosx-10.5-x86_64/egg/EGG-INFO\r\n",
        "zip_safe flag not set; analyzing archive contents...\r\n",
        "creating dist\r\n",
        "creating 'dist/getweather-0.1-py3.4.egg' and adding 'build/bdist.macosx-10.5-x86_64/egg' to it\r\n",
        "removing 'build/bdist.macosx-10.5-x86_64/egg' (and everything under it)\r\n",
        "Processing getweather-0.1-py3.4.egg\r\n",
        "Copying getweather-0.1-py3.4.egg to /Applications/anaconda/envs/py3k/lib/python3.4/site-packages\r\n",
        "Adding getweather 0.1 to easy-install.pth file\r\n",
        "\r\n",
        "Installed /Applications/anaconda/envs/py3k/lib/python3.4/site-packages/getweather-0.1-py3.4.egg\r\n",
        "Processing dependencies for getweather==0.1\r\n",
        "Finished processing dependencies for getweather==0.1\r\n"
       ]
      }
     ],
     "prompt_number": 111
    },
    {
     "cell_type": "markdown",
     "metadata": {},
     "source": [
      "One more thing that I demonstrated live in the classroom was Python debugging with `pdb`. For that, see\n",
      "\n",
      "* http://scipy-lectures.github.io/advanced/debugging/\n",
      "\n",
      "and remember that in iPython you can type `%debug STATEMENT` to run the debugger interactively on a piece of code, and just `%debug` to \"enter\" a stack trace, inspect variables, etc. after your code failed."
     ]
    },
    {
     "cell_type": "heading",
     "level": 3,
     "metadata": {},
     "source": [
      "...and that's all folks! It's been fun, thanks for attending!"
     ]
    }
   ],
   "metadata": {}
  }
 ]
}