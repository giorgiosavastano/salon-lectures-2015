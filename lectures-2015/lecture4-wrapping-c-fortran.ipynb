{
 "metadata": {
  "name": "",
  "signature": "sha256:51e455801774331ea45255f7e3576173e6c9ecf5d22b15bca45790c58856f0eb"
 },
 "nbformat": 3,
 "nbformat_minor": 0,
 "worksheets": [
  {
   "cells": [
    {
     "cell_type": "heading",
     "level": 1,
     "metadata": {},
     "source": [
      "Salon2 Lecture 4 - Sep 18, 2014"
     ]
    },
    {
     "cell_type": "heading",
     "level": 2,
     "metadata": {},
     "source": [
      "Wrapping C/C++/Fortran code"
     ]
    },
    {
     "cell_type": "heading",
     "level": 3,
     "metadata": {},
     "source": [
      "0.1. Reasons to wrap code."
     ]
    },
    {
     "cell_type": "markdown",
     "metadata": {},
     "source": [
      "In this order:\n",
      "\n",
      "* **libraries** (i.e., using the well-documented, -maintained, and -debugged code of others, which happens to be C/Fortran, in your beautiful, highly readable Python script);\n",
      "* **legacy** (i.e., using the less well-documented, -etc., code that you or your advisor unfortunately wrote in C/Fortran a few years back);\n",
      "* **performance** (i.e., when you really need the speed that only tight hand-coded loops can give you, although you keep reminding yourself that time-to-article = coding + debugging + running).\n",
      "\n",
      "The reason not to do C/Fortran _alone_ while tackling one of these use cases is that Python allows you an extremely expedient working style where you can call library/legacy/performant code interactively from the Python shell, or very naturally from readable Python scripts, rather than from verbose, compiled main() functions."
     ]
    },
    {
     "cell_type": "heading",
     "level": 3,
     "metadata": {},
     "source": [
      "0.2 How to wrap code."
     ]
    },
    {
     "cell_type": "markdown",
     "metadata": {},
     "source": [
      "The general principle is that you need to compile your C/Fortran code, together with more C/Fortran code that provides _glue_ between the languages, into a _Python extension module_. The latter is a [shared library](http://en.wikipedia.org/wiki/Library_(computing)) that you can _import_ in Python, gaining access to the C/Fortran functions and data. This glue/wrapper code is exceedingly dense and boring to write: it looks like the internals of the Python interpreter, not a place you'd want to tour; but luckily there are several utilities that can help us do so.\n",
      "\n",
      "* f2py, part of the numpy suite, excellent for Fortran: http://docs.scipy.org/doc/numpy-dev/f2py\n",
      "* Cython, really a Python-to-C compiler with type definitions, very good for C, OK for C++, usable for Fortran (2003+) with [ISO C binding](https://software.intel.com/sites/products/documentation/hpc/composerxe/en-us/2011Update/fortran/win/bldaps_for/common/bldaps_interopc.htm): http://cython.org\n",
      "* SWIG, a general tool to connect C/C++ with several high-level languages: http://www.swig.org\n",
      "* Boost::Python, useful for C++ especially if you use other Boost libraries and STL objects: http://www.boost.org/doc/libs/1_56_0/libs/python/doc/index.html\n",
      "* The Python ctypes module, which does not quite generate wrappers, but lets you call shared libraries from Python (with some work): https://docs.python.org/3/library/ctypes.html\n",
      "\n",
      "In this tutorial we will concentrate on f2py, Cython, and SWIG."
     ]
    },
    {
     "cell_type": "code",
     "collapsed": false,
     "input": [
      "import numpy as np, matplotlib.pyplot as pp"
     ],
     "language": "python",
     "metadata": {},
     "outputs": [],
     "prompt_number": 1
    },
    {
     "cell_type": "code",
     "collapsed": false,
     "input": [
      "%matplotlib inline"
     ],
     "language": "python",
     "metadata": {},
     "outputs": [],
     "prompt_number": 2
    },
    {
     "cell_type": "heading",
     "level": 2,
     "metadata": {},
     "source": [
      "1. Simple library functions"
     ]
    },
    {
     "cell_type": "markdown",
     "metadata": {},
     "source": [
      "Let's say that we want to wrap a single C function (`double gsl_sf_bessel_J0(double x)`) from the GSL mathematical library, which is already installed on our system in `/usr/local` (the include file is `/usr/local/gsl/gsl_sf_bessel.h` and the relevant libraries are `/usr/local/lib/libgsl.*` and `/usr/local/lib/libgslcblas`.\n",
      "\n",
      "We can use Cython transparently from the iPython notebook by way of the `cythonmagic` extension, which calls Cython for us to create the wrapper, compiles it, and then imports the resulting extension. (In this case, we do need to give it some compiler and linker options.) "
     ]
    },
    {
     "cell_type": "code",
     "collapsed": false,
     "input": [
      "%load_ext cythonmagic"
     ],
     "language": "python",
     "metadata": {},
     "outputs": [],
     "prompt_number": 1
    },
    {
     "cell_type": "code",
     "collapsed": false,
     "input": [
      "%%cython -I/usr/local/include -L/usr/local/lib -lgsl -lgslcblas\n",
      "\n",
      "cdef extern from \"gsl/gsl_sf_bessel.h\":\n",
      "    double gsl_sf_bessel_J0(double x)\n",
      "    \n",
      "def J0(double x):\n",
      "    return gsl_sf_bessel_J0(x)"
     ],
     "language": "python",
     "metadata": {},
     "outputs": [],
     "prompt_number": 15
    },
    {
     "cell_type": "markdown",
     "metadata": {},
     "source": [
      "We can do something very similar for a Fortran library function (in this case, LAPACK's DGESV, which solves A.x = B where A is N x N, x and B are N x NRHS), using %fortranmagic.\n",
      "\n",
      "    subroutine dgesv(integer \tN,\n",
      "                     integer \tNRHS,\n",
      "                     double precision, dimension(lda,*) A,\n",
      "                     integer \tLDA,\n",
      "                     integer, dimension( * ) \tIPIV,\n",
      "                     double precision, dimension(ldb,*) B,\n",
      "                     integer \tLDB,\n",
      "                     integer \tINFO \n",
      "                     )\n",
      "\n",
      "This iPython extension does need to be installed, with `pip install -U fortran-magic` of course."
     ]
    },
    {
     "cell_type": "code",
     "collapsed": false,
     "input": [
      "%load_ext fortranmagic"
     ],
     "language": "python",
     "metadata": {},
     "outputs": [
      {
       "output_type": "stream",
       "stream": "stdout",
       "text": [
        "The fortranmagic extension is already loaded. To reload it, use:\n",
        "  %reload_ext fortranmagic\n"
       ]
      }
     ],
     "prompt_number": 26
    },
    {
     "cell_type": "code",
     "collapsed": false,
     "input": [
      "%%fortran --link lapack\n",
      "\n",
      "subroutine solve(A, b, x, n)\n",
      "    implicit none\n",
      "\n",
      "    real*8, dimension(n,n), intent(in) :: A\n",
      "    real*8, dimension(n), intent(in) :: b\n",
      "    real*8, dimension(n), intent(out) :: x\n",
      "\n",
      "    integer :: i, j, pivot(n), ok\n",
      "\n",
      "    integer, intent(in) :: n\n",
      "\n",
      "    x = b\n",
      "    call DGESV(n, 1, A, n, pivot, x, n, ok)\n",
      "end subroutine"
     ],
     "language": "python",
     "metadata": {},
     "outputs": [
      {
       "output_type": "stream",
       "stream": "stdout",
       "text": [
        "\tBuilding module \"_fortran_magic_9b4a446b774dd12a8831e0aacc86f7d9\"...\n",
        "\t\tConstructing wrapper function \"solve\"...\n",
        "\t\t  x = solve(a,b,[n])\n",
        "\tWrote C/API module \"_fortran_magic_9b4a446b774dd12a8831e0aacc86f7d9\" to file \"/var/folders/tw/klvh1ns95x54x574_hjzg33r0000gn/T/tmp9k5ajbk4/src.macosx-10.5-x86_64-3.4/_fortran_magic_9b4a446b774dd12a8831e0aacc86f7d9module.c\"\n"
       ]
      }
     ],
     "prompt_number": 27
    },
    {
     "cell_type": "code",
     "collapsed": false,
     "input": [
      "A = np.array([[1, 2.5], [-3, 4]])\n",
      "b = np.array([1, 2.5])"
     ],
     "language": "python",
     "metadata": {},
     "outputs": [],
     "prompt_number": 28
    },
    {
     "cell_type": "markdown",
     "metadata": {},
     "source": [
      "It works, and even has nice documentation (use `?` or print the `__doc__` field)."
     ]
    },
    {
     "cell_type": "code",
     "collapsed": false,
     "input": [
      "solve(A,b)"
     ],
     "language": "python",
     "metadata": {},
     "outputs": [
      {
       "metadata": {},
       "output_type": "pyout",
       "prompt_number": 29,
       "text": [
        "array([-0.19565217,  0.47826087])"
       ]
      }
     ],
     "prompt_number": 29
    },
    {
     "cell_type": "code",
     "collapsed": false,
     "input": [
      "print(solve.__doc__)"
     ],
     "language": "python",
     "metadata": {},
     "outputs": [
      {
       "output_type": "stream",
       "stream": "stdout",
       "text": [
        "x = solve(a,b,[n])\n",
        "\n",
        "Wrapper for ``solve``.\n",
        "\n",
        "Parameters\n",
        "----------\n",
        "a : input rank-2 array('d') with bounds (n,n)\n",
        "b : input rank-1 array('d') with bounds (n)\n",
        "\n",
        "Other Parameters\n",
        "----------------\n",
        "n : input int, optional\n",
        "    Default: shape(a,0)\n",
        "\n",
        "Returns\n",
        "-------\n",
        "x : rank-1 array('d') with bounds (n)\n",
        "\n"
       ]
      }
     ],
     "prompt_number": 30
    },
    {
     "cell_type": "heading",
     "level": 2,
     "metadata": {},
     "source": [
      "2. Plotting the Mandelbrot set, with various wrappings."
     ]
    },
    {
     "cell_type": "markdown",
     "metadata": {},
     "source": [
      "For the beautiful mathematics of the Mandelbrot set, see [wikipedia](http://en.wikipedia.org/wiki/Mandelbrot_set).\n",
      "\n",
      "Here's the algorithm in pseudocode:\n",
      "\n",
      "    for every complex point c in a domain:\n",
      "        start with z = 0\n",
      "        loop until a maximum number of iterations:\n",
      "            z = z**2 + c\n",
      "            if |z| > 2:\n",
      "                c is not in Mandelbrot set; exit loop and save iter number\n",
      "        if we reached max iters, z is in Mandelbrot set"
     ]
    },
    {
     "cell_type": "heading",
     "level": 3,
     "metadata": {},
     "source": [
      "2.0 Python version"
     ]
    },
    {
     "cell_type": "code",
     "collapsed": false,
     "input": [
      "def pythonplot(maxi=256,xres=128,xmin=-2.0,xmax=1.0,ymin=-1.0,ymax=1.0,plot=True):\n",
      "    # figure out the y-axis resolution on the basis of the computed region\n",
      "    # and of the x-axis resolution\n",
      "    yres = int(xres * (ymax - ymin) / (xmax - xmin))\n",
      "    \n",
      "    dx = (xmax - xmin) / (xres - 1)\n",
      "    dy = (ymax - ymin) / (yres - 1)\n",
      "    \n",
      "    # we lay out the result array in Cartesian-plane fashion, so y goes first\n",
      "    escaped = np.zeros((yres,xres),'int32')\n",
      "    color = np.zeros((yres,xres),'float64')\n",
      "    \n",
      "    for i in range(xres):\n",
      "        x = xmin + i * dx\n",
      "        \n",
      "        for j in range(yres):\n",
      "            y = ymin + j * dx\n",
      "            \n",
      "            c = x + 1j * y\n",
      "            z = 0.0\n",
      "            \n",
      "            escaped[j,i] = 0\n",
      "            \n",
      "            for it in range(1,maxi):\n",
      "                z = z*z + c\n",
      "                \n",
      "                if abs(z) > 2.0:\n",
      "                    escaped[j,i] = it\n",
      "                    break\n",
      "    \n",
      "        color = escaped / maxi\n",
      "    \n",
      "    if plot:\n",
      "        pp.imshow(color,interpolation='none',origin='lower',extent=(xmin,xmax,ymin,ymax))\n",
      "    \n",
      "    return color"
     ],
     "language": "python",
     "metadata": {},
     "outputs": [],
     "prompt_number": 7
    },
    {
     "cell_type": "code",
     "collapsed": false,
     "input": [
      "pythonplot(256,128,-2.0,1.0,-1.0,1.0,True);"
     ],
     "language": "python",
     "metadata": {},
     "outputs": [
      {
       "metadata": {},
       "output_type": "display_data",
       "png": "[encoded data removed]",
       "text": [
        "<matplotlib.figure.Figure at 0x10c517358>"
       ]
      }
     ],
     "prompt_number": 13
    },
    {
     "cell_type": "markdown",
     "metadata": {},
     "source": [
      "Pretty slow..."
     ]
    },
    {
     "cell_type": "code",
     "collapsed": false,
     "input": [
      "%timeit pythonplot(xres=512,plot=False);"
     ],
     "language": "python",
     "metadata": {},
     "outputs": [
      {
       "output_type": "stream",
       "stream": "stdout",
       "text": [
        "1 loops, best of 3: 2.54 s per loop\n"
       ]
      }
     ],
     "prompt_number": 6
    },
    {
     "cell_type": "markdown",
     "metadata": {},
     "source": [
      "Let's try a numpyfied version that works with full arrays."
     ]
    },
    {
     "cell_type": "code",
     "collapsed": false,
     "input": [
      "def numpyplot(maxi=256,xres=128,xmin=-2.0,xmax=1.0,ymin=-1.0,ymax=1.0,plot=True):\n",
      "    yres = int(xres * (ymax - ymin) / (xmax - xmin))\n",
      "    \n",
      "    # meshgrid takes axis sequences to full matrices\n",
      "    # (uses Cartesian ordering by default, so we don't need to transpose before plotting)\n",
      "    x,y = np.meshgrid(np.linspace(xmin,xmax,xres),\n",
      "                      np.linspace(ymin,ymax,yres))\n",
      "    c = x + 1j*y\n",
      "    \n",
      "    z = np.zeros(x.shape,'complex128')\n",
      "    \n",
      "    # by default, points sit in the Mandelbrot set\n",
      "    escaped = np.zeros(x.shape,'int32')\n",
      "    \n",
      "    for it in range(1,maxi):\n",
      "        # we want to work only with points that haven't escaped yet,\n",
      "        # so we build a True/False mask for that condition...\n",
      "        alive = (escaped == 0)\n",
      "        \n",
      "        # ...and use it with numpy fancy indexing to apply the\n",
      "        # Mandelbrot iteration to a subset of the matrices\n",
      "        z[alive] = z[alive]**2 + c[alive]\n",
      "        \n",
      "        # if the point _just_ escaped, save the current iteration,\n",
      "        escaped[alive & (np.abs(z) > 2)] = it\n",
      "            \n",
      "    color = escaped / maxi\n",
      "    \n",
      "    if plot:\n",
      "        pp.imshow(color,interpolation='none',origin='lower',extent=(xmin,xmax,ymin,ymax))\n",
      "    \n",
      "    return color"
     ],
     "language": "python",
     "metadata": {},
     "outputs": [],
     "prompt_number": 33
    },
    {
     "cell_type": "code",
     "collapsed": false,
     "input": [
      "numpyplot(xres=512,plot=True);"
     ],
     "language": "python",
     "metadata": {},
     "outputs": [
      {
       "metadata": {},
       "output_type": "display_data",
       "png": "[encoded data removed]",
       "text": [
        "<matplotlib.figure.Figure at 0x109f53e80>"
       ]
      }
     ],
     "prompt_number": 34
    },
    {
     "cell_type": "markdown",
     "metadata": {},
     "source": [
      "Faster!"
     ]
    },
    {
     "cell_type": "code",
     "collapsed": false,
     "input": [
      "%timeit numpyplot(xres=512,plot=False);"
     ],
     "language": "python",
     "metadata": {},
     "outputs": [
      {
       "output_type": "stream",
       "stream": "stdout",
       "text": [
        "1 loops, best of 3: 554 ms per loop\n"
       ]
      }
     ],
     "prompt_number": 35
    },
    {
     "cell_type": "heading",
     "level": 3,
     "metadata": {},
     "source": [
      "2.1 f2py"
     ]
    },
    {
     "cell_type": "markdown",
     "metadata": {},
     "source": [
      "A standard programming pattern in wrapping C/C++/Fortran is to prepare large memory blocks as numpy arrays on the Python side, then pass them over to the lower-level language."
     ]
    },
    {
     "cell_type": "markdown",
     "metadata": {},
     "source": [
      "We use the %%fortran magic again to call f2py, and compile a Fortran Mandelbrot-set routine to a Python extension."
     ]
    },
    {
     "cell_type": "code",
     "collapsed": false,
     "input": [
      "%%fortran\n",
      "\n",
      "subroutine fmand(esc,ny,nx,maxi,xmin,xmax,ymin,ymax)\n",
      "    implicit none\n",
      "\n",
      "    integer, intent(in)                                :: ny,nx,maxi\n",
      "    integer*4, dimension(0:ny-1,0:nx-1), intent(inout) :: esc\n",
      "    real*8, intent(in)                                 :: xmin, xmax, ymin, ymax\n",
      "\n",
      "    real*8    :: x,y,dx,dy\n",
      "    complex*16 :: z,c\n",
      "    integer   :: i,j,it\n",
      "\n",
      "    dx = (xmax - xmin)/(nx - 1)\n",
      "    dy = (ymax - ymin)/(ny - 1)\n",
      "\n",
      "    do i=0,nx-1\n",
      "        x = xmin+i*dx\n",
      "        do j = 0,ny-1\n",
      "            y = ymin+j*dy\n",
      "            c = cmplx(x,y)\n",
      "            z = 0.\n",
      "            esc(j,i) = 0\n",
      "\n",
      "            do it=1,maxi-1\n",
      "                z = z*z + c\n",
      "                \n",
      "                if (abs(z)>2.) then\n",
      "                    esc(j,i) = it\n",
      "                    exit\n",
      "                end if\n",
      "            end do\n",
      "        end do\n",
      "    end do\n",
      "\n",
      "    return\n",
      "end subroutine fmand"
     ],
     "language": "python",
     "metadata": {},
     "outputs": [
      {
       "output_type": "stream",
       "stream": "stdout",
       "text": [
        "\tBuilding module \"_fortran_magic_db686eb973674df55cad942fc05519c6\"...\n",
        "\t\tConstructing wrapper function \"fmand\"...\n",
        "\t\t  fmand(esc,maxi,xmin,xmax,ymin,ymax,[ny,nx])\n",
        "\tWrote C/API module \"_fortran_magic_db686eb973674df55cad942fc05519c6\" to file \"/var/folders/tw/klvh1ns95x54x574_hjzg33r0000gn/T/tmpit5hqdkm/src.macosx-10.5-x86_64-3.4/_fortran_magic_db686eb973674df55cad942fc05519c6module.c\"\n"
       ]
      }
     ],
     "prompt_number": 22
    },
    {
     "cell_type": "code",
     "collapsed": false,
     "input": [
      "print(fmand.__doc__)"
     ],
     "language": "python",
     "metadata": {},
     "outputs": [
      {
       "output_type": "stream",
       "stream": "stdout",
       "text": [
        "fmand(esc,maxi,xmin,xmax,ymin,ymax,[ny,nx])\n",
        "\n",
        "Wrapper for ``fmand``.\n",
        "\n",
        "Parameters\n",
        "----------\n",
        "esc : in/output rank-2 array('i') with bounds (ny,nx)\n",
        "maxi : input int\n",
        "xmin : input float\n",
        "xmax : input float\n",
        "ymin : input float\n",
        "ymax : input float\n",
        "\n",
        "Other Parameters\n",
        "----------------\n",
        "ny : input int, optional\n",
        "    Default: shape(esc,0)\n",
        "nx : input int, optional\n",
        "    Default: shape(esc,1)\n",
        "\n"
       ]
      }
     ],
     "prompt_number": 5
    },
    {
     "cell_type": "code",
     "collapsed": false,
     "input": [
      "def fortranplot(maxi=256,xres=128,xmin=-2.0,xmax=1.0,ymin=-1.0,ymax=1.0,plot=True):\n",
      "    yres = int(xres * (ymax - ymin) / (xmax - xmin))\n",
      "    \n",
      "    # important! We need to prepare the array with Fortran (column-first) array ordering\n",
      "    escaped = np.zeros((yres,xres),np.int32,order='F')\n",
      "\n",
      "    fmand(escaped,maxi,xmin,xmax,ymin,ymax)\n",
      "    \n",
      "    color = escaped / maxi\n",
      "    \n",
      "    if plot:\n",
      "        pp.imshow(color,interpolation='none',origin='lower',extent=(xmin,xmax,ymin,ymax))\n",
      "    \n",
      "    return color"
     ],
     "language": "python",
     "metadata": {},
     "outputs": [],
     "prompt_number": 36
    },
    {
     "cell_type": "code",
     "collapsed": false,
     "input": [
      "fortranplot(xres=512);"
     ],
     "language": "python",
     "metadata": {},
     "outputs": [
      {
       "metadata": {},
       "output_type": "display_data",
       "png": "[encoded data removed]",
       "text": [
        "<matplotlib.figure.Figure at 0x109012358>"
       ]
      }
     ],
     "prompt_number": 37
    },
    {
     "cell_type": "code",
     "collapsed": false,
     "input": [
      "%timeit fortranplot(xres=512,plot=False);"
     ],
     "language": "python",
     "metadata": {},
     "outputs": [
      {
       "output_type": "stream",
       "stream": "stdout",
       "text": [
        "10 loops, best of 3: 72.7 ms per loop\n"
       ]
      }
     ],
     "prompt_number": 38
    },
    {
     "cell_type": "markdown",
     "metadata": {},
     "source": [
      "If we hadn't used the iPython magic, we could have written the Fortran code to (say) `fmandel.f90`, then run\n",
      "\n",
      "    $ f2py3 -m fmandel -c fmandel.f90\n",
      "\n",
      "then `import`ed fmandel, and called `fmandel.fmand` from `fortranplot`.\n",
      "\n",
      "f2py has also a two-step process\n",
      "\n",
      "    $ f2py3 fmandel.f90 -m fmandel -h fmandel.pyf\n",
      "    $ f2py3 -c fmandel.pyf fmandel.f\n",
      "    \n",
      "that is useful when the Fortran interface specification is incomplete, and needs manual tuning. Not our case..."
     ]
    },
    {
     "cell_type": "heading",
     "level": 3,
     "metadata": {},
     "source": [
      "2.2 Cython"
     ]
    },
    {
     "cell_type": "markdown",
     "metadata": {},
     "source": [
      "Now on to C, and Cython. We'll need to work several files together to get our Python extension:\n",
      "\n",
      "* `cmandel.c`, which contains the C source code for the Mandelbrot routine;\n",
      "* `cmand.pyx`, which contains the \"glue\" that we write ourselves, in Cython;\n",
      "* `setup-cython.py`, the Python equivalent of a Make file, which will compile the Cython glue to C; compile the C glue and Mandelbrot routine; and link them all together into the Python extension."
     ]
    },
    {
     "cell_type": "code",
     "collapsed": false,
     "input": [
      "%%file cmandel.c\n",
      "\n",
      "#include <complex.h>\n",
      "#include <stdlib.h>\n",
      "\n",
      "void cmandel(int *col,int ny,int nx,int maxi,double xmin,double xmax,double ymin,double ymax) {\n",
      "    double dx,dy,x,y;\n",
      "    complex double z,c;\n",
      "\n",
      "    dx = (xmax - xmin) / (nx - 1);\n",
      "    dy = (ymax - ymin) / (ny - 1);\n",
      "    \n",
      "    for(int i=0;i<nx;i++) {\n",
      "        x = xmin + i * dx;\n",
      "        \n",
      "        for(int j=0;j<ny;j++) {\n",
      "            y = ymin + j * dy;\n",
      "\n",
      "            c = x + I * y;\n",
      "            z = 0.0;\n",
      "            \n",
      "            col[j*nx + i] = 0;\n",
      "            \n",
      "            for(int it=0;it<maxi;it++) {\n",
      "                z = z*z + c;\n",
      "\n",
      "                if(abs(z) > 2.0) {\n",
      "                    col[j*nx + i] = it;\n",
      "                    break;\n",
      "                }\n",
      "            }\n",
      "        }\n",
      "    }\n",
      "    \n",
      "    return;\n",
      "}"
     ],
     "language": "python",
     "metadata": {},
     "outputs": [
      {
       "output_type": "stream",
       "stream": "stdout",
       "text": [
        "Overwriting cmandel.c\n"
       ]
      }
     ],
     "prompt_number": 4
    },
    {
     "cell_type": "markdown",
     "metadata": {},
     "source": [
      "Because of the way (not ideal) that Cython was written, in the wrapper we need to include an explicit prototype for the functions that we're going to be calling, in this case `cmandel`. Note also the special declaration for the numpy array, and the _cast_ of its attribute `data` into a C pointer to an `int`."
     ]
    },
    {
     "cell_type": "code",
     "collapsed": false,
     "input": [
      "%%file cymand.pyx\n",
      "\n",
      "import numpy as np\n",
      "cimport numpy as np\n",
      "\n",
      "cdef extern:\n",
      "    void cmandel(int *col,int ny,int nx,int maxi,double xmin,double xmax,double ymin,double ymax)\n",
      "\n",
      "def cymand(np.ndarray[np.int32_t,ndim=2] esc,int maxi,double xmin,double xmax,double ymin,double ymax):    \n",
      "    cmandel(<int *>esc.data,esc.shape[0],esc.shape[1],maxi,xmin,xmax,ymin,ymax)\n",
      "\n",
      "# try with memoryview?"
     ],
     "language": "python",
     "metadata": {},
     "outputs": [
      {
       "output_type": "stream",
       "stream": "stdout",
       "text": [
        "Overwriting cymand.pyx\n"
       ]
      }
     ],
     "prompt_number": 5
    },
    {
     "cell_type": "markdown",
     "metadata": {},
     "source": [
      "The Python setup script is pretty succinct... we indicate that we're building an extension, its name, the files that go into it, and the location of the include files needed to compile them (numpy obligingly tells us where to find its own headers). However, since the Python-standard-library `distutils` is not aware of Cython, we need the `cythonize` monkeypatching function to call `cython` on `cymand.pyx`."
     ]
    },
    {
     "cell_type": "code",
     "collapsed": false,
     "input": [
      "%%file setup-cython.py\n",
      "\n",
      "# use python setup.py build_ext --inplace to test\n",
      "\n",
      "from distutils.core import setup\n",
      "from distutils.extension import Extension\n",
      "from Cython.Build import cythonize\n",
      "import numpy\n",
      "\n",
      "setup(ext_modules = cythonize(Extension('cymand',['cymand.pyx','cmandel.c'],\n",
      "                                        include_dirs = [numpy.get_include()])))"
     ],
     "language": "python",
     "metadata": {},
     "outputs": [
      {
       "output_type": "stream",
       "stream": "stdout",
       "text": [
        "Overwriting setup-cython.py\n"
       ]
      }
     ],
     "prompt_number": 6
    },
    {
     "cell_type": "code",
     "collapsed": false,
     "input": [
      "!rm -rf build cymand.so"
     ],
     "language": "python",
     "metadata": {},
     "outputs": [],
     "prompt_number": 3
    },
    {
     "cell_type": "markdown",
     "metadata": {},
     "source": [
      "We execute the Python setup script to build the extension _in place_ (i.e., in the current directory), instead of installing it to some standard package directory.\n",
      "\n",
      "More about distributing Python packages: https://docs.python.org/3/distutils/introduction.html"
     ]
    },
    {
     "cell_type": "code",
     "collapsed": false,
     "input": [
      "!python3 setup-cython.py build_ext --inplace"
     ],
     "language": "python",
     "metadata": {},
     "outputs": [
      {
       "output_type": "stream",
       "stream": "stdout",
       "text": [
        "running build_ext\r\n"
       ]
      },
      {
       "output_type": "stream",
       "stream": "stdout",
       "text": [
        "building 'cymand' extension\r\n",
        "creating build\r\n",
        "creating build/temp.macosx-10.5-x86_64-3.4\r\n",
        "gcc -fno-strict-aliasing -DNDEBUG -g -fwrapv -O3 -Wall -Wstrict-prototypes -I/Applications/anaconda/envs/py3k/include -arch x86_64 -I/Applications/anaconda/envs/py3k/lib/python3.4/site-packages/numpy/core/include -I/Applications/anaconda/envs/py3k/include/python3.4m -c cymand.c -o build/temp.macosx-10.5-x86_64-3.4/cymand.o\r\n",
        "In file included from cymand.c:346:\r\n",
        "In file included from /Applications/anaconda/envs/py3k/lib/python3.4/site-packages/numpy/core/include/numpy/arrayobject.h:4:\r\n",
        "In file included from /Applications/anaconda/envs/py3k/lib/python3.4/site-packages/numpy/core/include/numpy/ndarrayobject.h:17:\r\n",
        "In file included from /Applications/anaconda/envs/py3k/lib/python3.4/site-packages/numpy/core/include/numpy/ndarraytypes.h:1804:\r\n",
        "\u001b[1m/Applications/anaconda/envs/py3k/lib/python3.4/site-packages/numpy/core/include/numpy/npy_1_7_deprecated_api.h:15:2: \u001b[0m\u001b[0;1;35mwarning: \u001b[0m\u001b[1m\r\n",
        "      \"Using deprecated NumPy API, disable it by \" \"#defining NPY_NO_DEPRECATED_API NPY_1_7_API_VERSION\" [-W#warnings]\u001b[0m\r\n",
        "#warning \"Using deprecated NumPy API, disable it by \" \\\r\n",
        "\u001b[0;1;32m ^\r\n",
        "\u001b[0m"
       ]
      },
      {
       "output_type": "stream",
       "stream": "stdout",
       "text": [
        "In file included from cymand.c:346:\r\n",
        "In file included from /Applications/anaconda/envs/py3k/lib/python3.4/site-packages/numpy/core/include/numpy/arrayobject.h:4:\r\n",
        "In file included from /Applications/anaconda/envs/py3k/lib/python3.4/site-packages/numpy/core/include/numpy/ndarrayobject.h:26:\r\n",
        "\u001b[1m/Applications/anaconda/envs/py3k/lib/python3.4/site-packages/numpy/core/include/numpy/__multiarray_api.h:1629:1: \u001b[0m\u001b[0;1;35mwarning: \u001b[0m\u001b[1munused\r\n",
        "      function '_import_array' [-Wunused-function]\u001b[0m\r\n",
        "_import_array(void)\r\n",
        "\u001b[0;1;32m^\r\n",
        "\u001b[0mIn file included from cymand.c:347:\r\n",
        "In file included from /Applications/anaconda/envs/py3k/lib/python3.4/site-packages/numpy/core/include/numpy/ufuncobject.h:317:\r\n",
        "\u001b[1m/Applications/anaconda/envs/py3k/lib/python3.4/site-packages/numpy/core/include/numpy/__ufunc_api.h:241:1: \u001b[0m\u001b[0;1;35mwarning: \u001b[0m\u001b[1munused function\r\n",
        "      '_import_umath' [-Wunused-function]\u001b[0m\r\n",
        "_import_umath(void)\r\n",
        "\u001b[0;1;32m^\r\n",
        "\u001b[0m"
       ]
      },
      {
       "output_type": "stream",
       "stream": "stdout",
       "text": [
        "3 warnings generated.\r\n",
        "gcc -fno-strict-aliasing -DNDEBUG -g -fwrapv -O3 -Wall -Wstrict-prototypes -I/Applications/anaconda/envs/py3k/include -arch x86_64 -I/Applications/anaconda/envs/py3k/lib/python3.4/site-packages/numpy/core/include -I/Applications/anaconda/envs/py3k/include/python3.4m -c cmandel.c -o build/temp.macosx-10.5-x86_64-3.4/cmandel.o\r\n"
       ]
      },
      {
       "output_type": "stream",
       "stream": "stdout",
       "text": [
        "gcc -bundle -undefined dynamic_lookup -L/Applications/anaconda/envs/py3k/lib -arch x86_64 build/temp.macosx-10.5-x86_64-3.4/cymand.o build/temp.macosx-10.5-x86_64-3.4/cmandel.o -L/Applications/anaconda/envs/py3k/lib -o /Users/vallis/Documents/book/newlectures/lecture-4/cymand.so\r\n"
       ]
      }
     ],
     "prompt_number": 4
    },
    {
     "cell_type": "code",
     "collapsed": false,
     "input": [
      "import cymand"
     ],
     "language": "python",
     "metadata": {},
     "outputs": [],
     "prompt_number": 18
    },
    {
     "cell_type": "code",
     "collapsed": false,
     "input": [
      "def cythonplot(maxi=256,xres=128,xmin=-2.0,xmax=1.0,ymin=-1.0,ymax=1.0,plot=True):\n",
      "    yres = int(xres * (ymax - ymin) / (xmax - xmin))\n",
      "    \n",
      "    escaped = np.zeros((yres,xres),np.int32)\n",
      "\n",
      "    cymand.cymand(escaped,maxi,xmin,xmax,ymin,ymax)\n",
      "    \n",
      "    color = escaped / maxi\n",
      "    \n",
      "    if plot:\n",
      "        pp.imshow(color,interpolation='none',origin='lower',extent=(xmin,xmax,ymin,ymax))\n",
      "    \n",
      "    return color"
     ],
     "language": "python",
     "metadata": {},
     "outputs": [],
     "prompt_number": 19
    },
    {
     "cell_type": "code",
     "collapsed": false,
     "input": [
      "cythonplot(xres=512);"
     ],
     "language": "python",
     "metadata": {},
     "outputs": [
      {
       "metadata": {},
       "output_type": "display_data",
       "png": "[encoded data removed]",
       "text": [
        "<matplotlib.figure.Figure at 0x108c8eb38>"
       ]
      }
     ],
     "prompt_number": 20
    },
    {
     "cell_type": "code",
     "collapsed": false,
     "input": [
      "%timeit cythonplot(xres=512,plot=False);"
     ],
     "language": "python",
     "metadata": {},
     "outputs": [
      {
       "output_type": "stream",
       "stream": "stdout",
       "text": [
        "10 loops, best of 3: 44.2 ms per loop\n"
       ]
      }
     ],
     "prompt_number": 21
    },
    {
     "cell_type": "heading",
     "level": 3,
     "metadata": {},
     "source": [
      "2.3. SWIG"
     ]
    },
    {
     "cell_type": "markdown",
     "metadata": {},
     "source": [
      "The last wrapping utility that we try out is SWIG. Again we write a setup script, an interface definition, and we also need a proper header file for `cmandel.c`."
     ]
    },
    {
     "cell_type": "code",
     "collapsed": false,
     "input": [
      "%%file cmandel.h\n",
      "\n",
      "void cmandel(int *col,int ny,int nx,int maxi,double xmin,double xmax,double ymin,double ymax);"
     ],
     "language": "python",
     "metadata": {},
     "outputs": [
      {
       "output_type": "stream",
       "stream": "stdout",
       "text": [
        "Writing cmandel.h\n"
       ]
      }
     ],
     "prompt_number": 13
    },
    {
     "cell_type": "markdown",
     "metadata": {},
     "source": [
      "There's quite a bit of boilerplate, thankfully not prolix, in this SWIG interface."
     ]
    },
    {
     "cell_type": "code",
     "collapsed": false,
     "input": [
      "%%file swigmand.i\n",
      "\n",
      "/* name of the module: should be the same as the filename */\n",
      "%module swigmand\n",
      "\n",
      "/* header files to include, and a reminder to initialize... */\n",
      "%{\n",
      "    #define SWIG_FILE_WITH_INIT\n",
      "    #include \"cmandel.h\"\n",
      "%}\n",
      "\n",
      "/* ...numpy-SWIG compatibility, which we include here */\n",
      "%include \"numpy.i\"\n",
      "%init %{ import_array(); %}\n",
      "\n",
      "/* this SWIG \"typemap\" replaces an incoming numpy array with a pointer\n",
      "   to the data, and the dimensions of the data */\n",
      "%apply (int* INPLACE_ARRAY2, int DIM1, int DIM2) {(int *col,int ny,int nx)};\n",
      "\n",
      "/* this statements tells SWIG to wrap all the functions that appear in this include */\n",
      "%include \"cmandel.h\""
     ],
     "language": "python",
     "metadata": {},
     "outputs": [
      {
       "output_type": "stream",
       "stream": "stdout",
       "text": [
        "Overwriting swigmand.i\n"
       ]
      }
     ],
     "prompt_number": 39
    },
    {
     "cell_type": "markdown",
     "metadata": {},
     "source": [
      "The numpy-SWIG _typemaps_ are discussed here\n",
      "\n",
      "* http://docs.scipy.org/doc/numpy/reference/swig.interface-file.html\n",
      "\n",
      "and unfortunately they are not bundled with either numpy or SWIG, but you can get them from github:"
     ]
    },
    {
     "cell_type": "code",
     "collapsed": false,
     "input": [
      "!wget https://raw.githubusercontent.com/numpy/numpy/master/tools/swig/numpy.i"
     ],
     "language": "python",
     "metadata": {},
     "outputs": [
      {
       "output_type": "stream",
       "stream": "stdout",
       "text": [
        "--2014-09-17 23:03:58--  https://raw.githubusercontent.com/numpy/numpy/master/tools/swig/numpy.i\r\n",
        "Resolving raw.githubusercontent.com... "
       ]
      },
      {
       "output_type": "stream",
       "stream": "stdout",
       "text": [
        "23.235.47.133\r\n",
        "Connecting to raw.githubusercontent.com|23.235.47.133|:443... "
       ]
      },
      {
       "output_type": "stream",
       "stream": "stdout",
       "text": [
        "connected.\r\n"
       ]
      },
      {
       "output_type": "stream",
       "stream": "stdout",
       "text": [
        "HTTP request sent, awaiting response... "
       ]
      },
      {
       "output_type": "stream",
       "stream": "stdout",
       "text": [
        "200 OK\r\n",
        "Length: 105735 (103K) [text/plain]\r\n",
        "Saving to: \u2018numpy.i\u2019\r\n",
        "\r\n",
        "\r",
        " 0% [                                       ] 0           --.-K/s              "
       ]
      },
      {
       "output_type": "stream",
       "stream": "stdout",
       "text": [
        "\r",
        "92% [===================================>   ] 98,304       477KB/s             \r",
        "100%[======================================>] 105,735      484KB/s   in 0.2s   \r\n",
        "\r\n",
        "2014-09-17 23:03:59 (484 KB/s) - \u2018numpy.i\u2019 saved [105735/105735]\r\n",
        "\r\n"
       ]
      }
     ],
     "prompt_number": 39
    },
    {
     "cell_type": "markdown",
     "metadata": {},
     "source": [
      "The setup file is similar to Cython's, but it does not require `cythonize` since `distutils` knows about SWIG. However SWIG really wants `swigmand.i` to compile into an extension named `_swigmand`."
     ]
    },
    {
     "cell_type": "code",
     "collapsed": false,
     "input": [
      "%%file setup-swig.py\n",
      "\n",
      "# use python setup-swig.py build_ext --inplace to test\n",
      "\n",
      "from distutils.core import setup\n",
      "from distutils.extension import Extension\n",
      "import numpy\n",
      "\n",
      "setup(ext_modules = [Extension('_swigmand',['swigmand.i','cmandel.c'],\n",
      "                               include_dirs = [numpy.get_include()])])"
     ],
     "language": "python",
     "metadata": {},
     "outputs": [
      {
       "output_type": "stream",
       "stream": "stdout",
       "text": [
        "Overwriting setup-swig.py\n"
       ]
      }
     ],
     "prompt_number": 16
    },
    {
     "cell_type": "code",
     "collapsed": false,
     "input": [
      "!rm -rf build swigmand.so"
     ],
     "language": "python",
     "metadata": {},
     "outputs": [],
     "prompt_number": 8
    },
    {
     "cell_type": "code",
     "collapsed": false,
     "input": [
      "!python3 setup-swig.py build_ext --inplace"
     ],
     "language": "python",
     "metadata": {},
     "outputs": [
      {
       "output_type": "stream",
       "stream": "stdout",
       "text": [
        "running build_ext\r\n",
        "building '_swigmand' extension\r\n",
        "swigging swigmand.i to swigmand_wrap.c\r\n",
        "swig -python -o swigmand_wrap.c swigmand.i\r\n"
       ]
      },
      {
       "output_type": "stream",
       "stream": "stdout",
       "text": [
        "creating build\r\n",
        "creating build/temp.macosx-10.5-x86_64-3.4\r\n",
        "gcc -fno-strict-aliasing -DNDEBUG -g -fwrapv -O3 -Wall -Wstrict-prototypes -I/Applications/anaconda/envs/py3k/include -arch x86_64 -I/Applications/anaconda/envs/py3k/lib/python3.4/site-packages/numpy/core/include -I/Applications/anaconda/envs/py3k/include/python3.4m -c swigmand_wrap.c -o build/temp.macosx-10.5-x86_64-3.4/swigmand_wrap.o\r\n"
       ]
      },
      {
       "output_type": "stream",
       "stream": "stdout",
       "text": [
        "gcc -fno-strict-aliasing -DNDEBUG -g -fwrapv -O3 -Wall -Wstrict-prototypes -I/Applications/anaconda/envs/py3k/include -arch x86_64 -I/Applications/anaconda/envs/py3k/lib/python3.4/site-packages/numpy/core/include -I/Applications/anaconda/envs/py3k/include/python3.4m -c cmandel.c -o build/temp.macosx-10.5-x86_64-3.4/cmandel.o\r\n"
       ]
      },
      {
       "output_type": "stream",
       "stream": "stdout",
       "text": [
        "gcc -bundle -undefined dynamic_lookup -L/Applications/anaconda/envs/py3k/lib -arch x86_64 build/temp.macosx-10.5-x86_64-3.4/swigmand_wrap.o build/temp.macosx-10.5-x86_64-3.4/cmandel.o -L/Applications/anaconda/envs/py3k/lib -o /Users/vallis/Documents/book/newlectures/lecture-4/_swigmand.so\r\n"
       ]
      }
     ],
     "prompt_number": 9
    },
    {
     "cell_type": "markdown",
     "metadata": {},
     "source": [
      "We're done! SWIG actually creates as Python module `swigmand` that loads the C extension `_swigmand.so`, so it's the former that we import."
     ]
    },
    {
     "cell_type": "code",
     "collapsed": false,
     "input": [
      "import swigmand"
     ],
     "language": "python",
     "metadata": {},
     "outputs": [],
     "prompt_number": 40
    },
    {
     "cell_type": "code",
     "collapsed": false,
     "input": [
      "def swigplot(maxi=256,xres=128,xmin=-2.0,xmax=1.0,ymin=-1.0,ymax=1.0,plot=True):\n",
      "    yres = int(xres * (ymax - ymin) / (xmax - xmin))\n",
      "    \n",
      "    escaped = np.zeros((yres,xres),np.int32)\n",
      "\n",
      "    swigmand.cmandel(escaped,maxi,xmin,xmax,ymin,ymax)\n",
      "    \n",
      "    color = escaped / maxi\n",
      "    \n",
      "    if plot:\n",
      "        pp.imshow(color,interpolation='none',origin='lower',extent=(xmin,xmax,ymin,ymax))\n",
      "    \n",
      "    return color"
     ],
     "language": "python",
     "metadata": {},
     "outputs": [],
     "prompt_number": 41
    },
    {
     "cell_type": "code",
     "collapsed": false,
     "input": [
      "swigplot(xres=512);"
     ],
     "language": "python",
     "metadata": {},
     "outputs": [
      {
       "metadata": {},
       "output_type": "display_data",
       "png": "[encoded data removed]",
       "text": [
        "<matplotlib.figure.Figure at 0x109063748>"
       ]
      }
     ],
     "prompt_number": 42
    },
    {
     "cell_type": "code",
     "collapsed": false,
     "input": [
      "%timeit swigplot(xres=512,plot=False);"
     ],
     "language": "python",
     "metadata": {},
     "outputs": [
      {
       "output_type": "stream",
       "stream": "stdout",
       "text": [
        "10 loops, best of 3: 43.7 ms per loop\n"
       ]
      }
     ],
     "prompt_number": 43
    },
    {
     "cell_type": "markdown",
     "metadata": {},
     "source": [
      "The speed contest is won by C (44 ms), which beats Fortran (72 ms), numpy-Python (554 ms), and pure Python (2540 ms)."
     ]
    }
   ],
   "metadata": {}
  }
 ]
}